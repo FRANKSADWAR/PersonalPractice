{
 "cells": [
  {
   "cell_type": "code",
   "execution_count": 1,
   "id": "a1a84a0b",
   "metadata": {},
   "outputs": [],
   "source": [
    "import json\n",
    "import requests"
   ]
  },
  {
   "cell_type": "code",
   "execution_count": 2,
   "id": "8ea56500",
   "metadata": {},
   "outputs": [],
   "source": [
    "api_key = \"069jalm4c2v1eOiJ42ad10aibaxLxta52IQ3Tt2da154540Jkye2b1Y4f64f41ev\""
   ]
  },
  {
   "cell_type": "code",
   "execution_count": 9,
   "id": "619798f6",
   "metadata": {},
   "outputs": [],
   "source": [
    "def send_sms():\n",
    "    short_code = \"Test CROWN\"\n",
    "    mobile_numbers = \"0702568824\"\n",
    "    message = f\"This is a test message from {short_code}\"\n",
    "    response_type = \"json\"\n",
    "    service_id = 0\n",
    "    \n",
    "    API_ENDPOINT = \"https://api.tililsms.com/sms/v3/sendsms\"\n",
    "    \n",
    "    payload = {\n",
    "        \"api_key\" : api_key,\n",
    "        \"service_id\" : service_id,\n",
    "        \"mobile\" : mobile_numbers,\n",
    "        \"response_type\": response_type,\n",
    "        \"shortcode\": short_code,\n",
    "        \"message\" : message\n",
    "    }\n",
    "    \n",
    "    headers = {\n",
    "        \"Authorization\": f\"Bearer {api_key}\",\n",
    "        \"Content-Type\" : \"application/json\"\n",
    "    }\n",
    "    try:\n",
    "        response = requests.post(url = API_ENDPOINT, data = json.dumps(payload),headers = headers)\n",
    "        sms_res = response.text\n",
    "        print(\"API response : \",sms_res)\n",
    "        \n",
    "    except Exception as e:\n",
    "        print(\"Exception: \", str(e))"
   ]
  },
  {
   "cell_type": "code",
   "execution_count": 10,
   "id": "f24da45a",
   "metadata": {},
   "outputs": [
    {
     "name": "stdout",
     "output_type": "stream",
     "text": [
      "API response :  [{\"status_code\":\"1006\",\"status_desc\":\"Invalid credentials\",\"message_id\":\"0\",\"mobile_number\":\"0\",\"network_id\":\"0\",\"message_cost\":\"0.00\",\"credit_balance\":\"\"}]\n"
     ]
    }
   ],
   "source": [
    "send_sms()"
   ]
  },
  {
   "cell_type": "code",
   "execution_count": null,
   "id": "1ac46e49",
   "metadata": {},
   "outputs": [],
   "source": []
  }
 ],
 "metadata": {
  "kernelspec": {
   "display_name": "Python 3 (ipykernel)",
   "language": "python",
   "name": "python3"
  },
  "language_info": {
   "codemirror_mode": {
    "name": "ipython",
    "version": 3
   },
   "file_extension": ".py",
   "mimetype": "text/x-python",
   "name": "python",
   "nbconvert_exporter": "python",
   "pygments_lexer": "ipython3",
   "version": "3.11.5"
  }
 },
 "nbformat": 4,
 "nbformat_minor": 5
}
