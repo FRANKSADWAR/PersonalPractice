{
 "cells": [
  {
   "cell_type": "markdown",
   "id": "71ed3d22",
   "metadata": {},
   "source": [
    "# Python Reference Guide"
   ]
  },
  {
   "cell_type": "markdown",
   "id": "1e907e0c",
   "metadata": {},
   "source": [
    "Need a quick reference guide to help you while you hack? This is no substitute for the actual course content, but here's a \"cheatsheet\" to help jog your memory!"
   ]
  },
  {
   "cell_type": "markdown",
   "id": "fadb6601",
   "metadata": {},
   "source": [
    "## Handy Functions"
   ]
  },
  {
   "cell_type": "code",
   "execution_count": 1,
   "id": "7c3e0a42",
   "metadata": {},
   "outputs": [
    {
     "name": "stdout",
     "output_type": "stream",
     "text": [
      "This will print some text\n"
     ]
    }
   ],
   "source": [
    "print('This will print some text')"
   ]
  },
  {
   "cell_type": "code",
   "execution_count": 2,
   "id": "3ec022ba",
   "metadata": {},
   "outputs": [
    {
     "data": {
      "text/plain": [
       "'My name is: Ryan'"
      ]
     },
     "execution_count": 2,
     "metadata": {},
     "output_type": "execute_result"
    }
   ],
   "source": [
    "# Use string formatting (\"f-strings\") to insert values\n",
    "name = 'Ryan'\n",
    "f'My name is: {name}'"
   ]
  },
  {
   "cell_type": "code",
   "execution_count": 3,
   "id": "1ab7a06a",
   "metadata": {},
   "outputs": [
    {
     "data": {
      "text/plain": [
       "range(0, 10, 2)"
      ]
     },
     "execution_count": 3,
     "metadata": {},
     "output_type": "execute_result"
    }
   ],
   "source": [
    "# An iterable object containing sequential integers\n",
    "range(0, 10)\n",
    "\n",
    "# Iterate by steps of 2\n",
    "range(0, 10, 2)"
   ]
  },
  {
   "cell_type": "code",
   "execution_count": 4,
   "id": "835fcf5c",
   "metadata": {},
   "outputs": [
    {
     "data": {
      "text/plain": [
       "int"
      ]
     },
     "execution_count": 4,
     "metadata": {},
     "output_type": "execute_result"
    }
   ],
   "source": [
    "# Returns the datatype of the value passed in\n",
    "type(1)"
   ]
  },
  {
   "cell_type": "markdown",
   "id": "e38dc92b",
   "metadata": {},
   "source": [
    "## Math Operators"
   ]
  },
  {
   "cell_type": "code",
   "execution_count": 5,
   "id": "cdf9ab4a",
   "metadata": {},
   "outputs": [
    {
     "data": {
      "text/plain": [
       "2"
      ]
     },
     "execution_count": 5,
     "metadata": {},
     "output_type": "execute_result"
    }
   ],
   "source": [
    "# Addition\n",
    "1 + 1"
   ]
  },
  {
   "cell_type": "code",
   "execution_count": 6,
   "id": "563311f2",
   "metadata": {},
   "outputs": [
    {
     "data": {
      "text/plain": [
       "1"
      ]
     },
     "execution_count": 6,
     "metadata": {},
     "output_type": "execute_result"
    }
   ],
   "source": [
    "# Subtraction\n",
    "2 - 1"
   ]
  },
  {
   "cell_type": "code",
   "execution_count": 7,
   "id": "29ee6dd9",
   "metadata": {},
   "outputs": [
    {
     "data": {
      "text/plain": [
       "25"
      ]
     },
     "execution_count": 7,
     "metadata": {},
     "output_type": "execute_result"
    }
   ],
   "source": [
    "# Multiplication\n",
    "5 * 5"
   ]
  },
  {
   "cell_type": "code",
   "execution_count": 8,
   "id": "09a49593",
   "metadata": {},
   "outputs": [
    {
     "data": {
      "text/plain": [
       "5.0"
      ]
     },
     "execution_count": 8,
     "metadata": {},
     "output_type": "execute_result"
    }
   ],
   "source": [
    "# Division\n",
    "25 / 5"
   ]
  },
  {
   "cell_type": "code",
   "execution_count": 9,
   "id": "6707e4e5",
   "metadata": {},
   "outputs": [
    {
     "data": {
      "text/plain": [
       "125"
      ]
     },
     "execution_count": 9,
     "metadata": {},
     "output_type": "execute_result"
    }
   ],
   "source": [
    "# Exponents \n",
    "5 ** 3"
   ]
  },
  {
   "cell_type": "code",
   "execution_count": 10,
   "id": "659df18d",
   "metadata": {},
   "outputs": [
    {
     "data": {
      "text/plain": [
       "2"
      ]
     },
     "execution_count": 10,
     "metadata": {},
     "output_type": "execute_result"
    }
   ],
   "source": [
    "# Modulus (remainder after division)\n",
    "17 % 5"
   ]
  },
  {
   "cell_type": "markdown",
   "id": "2b890997",
   "metadata": {},
   "source": [
    "## Data Types"
   ]
  },
  {
   "cell_type": "code",
   "execution_count": 11,
   "id": "0e3bde08",
   "metadata": {},
   "outputs": [
    {
     "data": {
      "text/plain": [
       "int"
      ]
     },
     "execution_count": 11,
     "metadata": {},
     "output_type": "execute_result"
    }
   ],
   "source": [
    "# Integers\n",
    "x = 1\n",
    "type(x)"
   ]
  },
  {
   "cell_type": "code",
   "execution_count": 12,
   "id": "b2dd1551",
   "metadata": {},
   "outputs": [
    {
     "data": {
      "text/plain": [
       "float"
      ]
     },
     "execution_count": 12,
     "metadata": {},
     "output_type": "execute_result"
    }
   ],
   "source": [
    "# Floats\n",
    "x = 1.0\n",
    "type(x)"
   ]
  },
  {
   "cell_type": "code",
   "execution_count": 13,
   "id": "a981a3d0",
   "metadata": {},
   "outputs": [
    {
     "data": {
      "text/plain": [
       "str"
      ]
     },
     "execution_count": 13,
     "metadata": {},
     "output_type": "execute_result"
    }
   ],
   "source": [
    "# Strings\n",
    "x = 'Ryan'\n",
    "type(x)"
   ]
  },
  {
   "cell_type": "code",
   "execution_count": 14,
   "id": "b36870dc",
   "metadata": {},
   "outputs": [
    {
     "data": {
      "text/plain": [
       "bool"
      ]
     },
     "execution_count": 14,
     "metadata": {},
     "output_type": "execute_result"
    }
   ],
   "source": [
    "# Booleans\n",
    "x = True\n",
    "type(x)"
   ]
  },
  {
   "cell_type": "code",
   "execution_count": 15,
   "id": "281f4c7c",
   "metadata": {},
   "outputs": [
    {
     "data": {
      "text/plain": [
       "bytes"
      ]
     },
     "execution_count": 15,
     "metadata": {},
     "output_type": "execute_result"
    }
   ],
   "source": [
    "# Byte data\n",
    "x = bytes(4)\n",
    "type(x)"
   ]
  },
  {
   "cell_type": "markdown",
   "id": "b20d6ca4",
   "metadata": {},
   "source": [
    "### Casting Datatypes"
   ]
  },
  {
   "cell_type": "code",
   "execution_count": 16,
   "id": "5aa946e4",
   "metadata": {},
   "outputs": [
    {
     "data": {
      "text/plain": [
       "1"
      ]
     },
     "execution_count": 16,
     "metadata": {},
     "output_type": "execute_result"
    }
   ],
   "source": [
    "# String to integer\n",
    "int('1')"
   ]
  },
  {
   "cell_type": "code",
   "execution_count": 17,
   "id": "ab1c3cf2",
   "metadata": {},
   "outputs": [
    {
     "data": {
      "text/plain": [
       "1"
      ]
     },
     "execution_count": 17,
     "metadata": {},
     "output_type": "execute_result"
    }
   ],
   "source": [
    "# Float to integer\n",
    "int(1.5)"
   ]
  },
  {
   "cell_type": "code",
   "execution_count": 18,
   "id": "5ae89ef1",
   "metadata": {},
   "outputs": [
    {
     "data": {
      "text/plain": [
       "1.0"
      ]
     },
     "execution_count": 18,
     "metadata": {},
     "output_type": "execute_result"
    }
   ],
   "source": [
    "# Integer to float\n",
    "float(1)"
   ]
  },
  {
   "cell_type": "code",
   "execution_count": 19,
   "id": "844ab9ce",
   "metadata": {},
   "outputs": [
    {
     "data": {
      "text/plain": [
       "True"
      ]
     },
     "execution_count": 19,
     "metadata": {},
     "output_type": "execute_result"
    }
   ],
   "source": [
    "# Integer to boolean\n",
    "bool(1)"
   ]
  },
  {
   "cell_type": "code",
   "execution_count": 20,
   "id": "ede2547c",
   "metadata": {},
   "outputs": [
    {
     "data": {
      "text/plain": [
       "False"
      ]
     },
     "execution_count": 20,
     "metadata": {},
     "output_type": "execute_result"
    }
   ],
   "source": [
    "# String to boolean (Anything other than an empty string is True)\n",
    "bool('')"
   ]
  },
  {
   "cell_type": "code",
   "execution_count": 21,
   "id": "2158dae1",
   "metadata": {},
   "outputs": [
    {
     "data": {
      "text/plain": [
       "'1'"
      ]
     },
     "execution_count": 21,
     "metadata": {},
     "output_type": "execute_result"
    }
   ],
   "source": [
    "# Int to string\n",
    "str(1)"
   ]
  },
  {
   "cell_type": "code",
   "execution_count": 22,
   "id": "26ff8624",
   "metadata": {},
   "outputs": [
    {
     "data": {
      "text/plain": [
       "b'\\xf0\\x9f\\x99\\x82'"
      ]
     },
     "execution_count": 22,
     "metadata": {},
     "output_type": "execute_result"
    }
   ],
   "source": [
    "# String to bytes, requires the encoding\n",
    "bytes('🙂', 'utf-8')"
   ]
  },
  {
   "cell_type": "markdown",
   "id": "fe277050",
   "metadata": {},
   "source": [
    "## String Operators"
   ]
  },
  {
   "cell_type": "code",
   "execution_count": 23,
   "id": "39bd5f9a",
   "metadata": {},
   "outputs": [
    {
     "data": {
      "text/plain": [
       "'Ryan Mitchell'"
      ]
     },
     "execution_count": 23,
     "metadata": {},
     "output_type": "execute_result"
    }
   ],
   "source": [
    "# String concatenation\n",
    "'Ryan ' + 'Mitchell'"
   ]
  },
  {
   "cell_type": "code",
   "execution_count": 24,
   "id": "ae71aefe",
   "metadata": {},
   "outputs": [
    {
     "data": {
      "text/plain": [
       "'PythonPythonPythonPythonPythonPython'"
      ]
     },
     "execution_count": 24,
     "metadata": {},
     "output_type": "execute_result"
    }
   ],
   "source": [
    "# String multiplication\n",
    "'Python'*6"
   ]
  },
  {
   "cell_type": "code",
   "execution_count": 25,
   "id": "37fbcde4",
   "metadata": {},
   "outputs": [
    {
     "data": {
      "text/plain": [
       "'h'"
      ]
     },
     "execution_count": 25,
     "metadata": {},
     "output_type": "execute_result"
    }
   ],
   "source": [
    "# Access a particular character in a string\n",
    "'Python'[3]"
   ]
  },
  {
   "cell_type": "markdown",
   "id": "cdd3e0cd",
   "metadata": {},
   "source": [
    "## Boolean Operators"
   ]
  },
  {
   "cell_type": "code",
   "execution_count": 26,
   "id": "ba869927",
   "metadata": {},
   "outputs": [
    {
     "name": "stdout",
     "output_type": "stream",
     "text": [
      "True\n",
      "False\n",
      "False\n"
     ]
    }
   ],
   "source": [
    "# AND\n",
    "print(True and True)\n",
    "print(True and False)\n",
    "print(False and False)"
   ]
  },
  {
   "cell_type": "code",
   "execution_count": 27,
   "id": "28b2fa5f",
   "metadata": {},
   "outputs": [
    {
     "name": "stdout",
     "output_type": "stream",
     "text": [
      "True\n",
      "True\n",
      "False\n"
     ]
    }
   ],
   "source": [
    "# OR\n",
    "print(True or True)\n",
    "print(True or False)\n",
    "print(False or False)"
   ]
  },
  {
   "cell_type": "code",
   "execution_count": 28,
   "id": "bc55ebf9",
   "metadata": {},
   "outputs": [
    {
     "name": "stdout",
     "output_type": "stream",
     "text": [
      "False\n",
      "True\n"
     ]
    }
   ],
   "source": [
    "# NOT \n",
    "print(not True)\n",
    "print(not False)"
   ]
  },
  {
   "cell_type": "code",
   "execution_count": 29,
   "id": "35e8e720",
   "metadata": {},
   "outputs": [
    {
     "data": {
      "text/plain": [
       "True"
      ]
     },
     "execution_count": 29,
     "metadata": {},
     "output_type": "execute_result"
    }
   ],
   "source": [
    "# Equality operator\n",
    "5 == 5"
   ]
  },
  {
   "cell_type": "code",
   "execution_count": 30,
   "id": "f1306639",
   "metadata": {},
   "outputs": [
    {
     "data": {
      "text/plain": [
       "True"
      ]
     },
     "execution_count": 30,
     "metadata": {},
     "output_type": "execute_result"
    }
   ],
   "source": [
    "# Inequality operator\n",
    "5 != 4"
   ]
  },
  {
   "cell_type": "code",
   "execution_count": 31,
   "id": "5ec97ec8",
   "metadata": {},
   "outputs": [
    {
     "data": {
      "text/plain": [
       "True"
      ]
     },
     "execution_count": 31,
     "metadata": {},
     "output_type": "execute_result"
    }
   ],
   "source": [
    "# Less than\n",
    "4 < 5"
   ]
  },
  {
   "cell_type": "code",
   "execution_count": 32,
   "id": "e20ef2df",
   "metadata": {},
   "outputs": [
    {
     "data": {
      "text/plain": [
       "True"
      ]
     },
     "execution_count": 32,
     "metadata": {},
     "output_type": "execute_result"
    }
   ],
   "source": [
    "# Less than or equals to \n",
    "5 <= 5"
   ]
  },
  {
   "cell_type": "code",
   "execution_count": 33,
   "id": "09cc20bc",
   "metadata": {},
   "outputs": [
    {
     "data": {
      "text/plain": [
       "True"
      ]
     },
     "execution_count": 33,
     "metadata": {},
     "output_type": "execute_result"
    }
   ],
   "source": [
    "# Greater than\n",
    "5 > 4"
   ]
  },
  {
   "cell_type": "code",
   "execution_count": 34,
   "id": "b60907e6",
   "metadata": {},
   "outputs": [
    {
     "data": {
      "text/plain": [
       "True"
      ]
     },
     "execution_count": 34,
     "metadata": {},
     "output_type": "execute_result"
    }
   ],
   "source": [
    "# Greater than or equals to\n",
    "5 >= 5"
   ]
  },
  {
   "cell_type": "markdown",
   "id": "2a2e7267",
   "metadata": {},
   "source": [
    "## Control Flow"
   ]
  },
  {
   "cell_type": "code",
   "execution_count": null,
   "id": "d50b0640",
   "metadata": {},
   "outputs": [],
   "source": []
  },
  {
   "cell_type": "code",
   "execution_count": 35,
   "id": "cb4e8515",
   "metadata": {},
   "outputs": [
    {
     "name": "stdout",
     "output_type": "stream",
     "text": [
      "This will print\n"
     ]
    }
   ],
   "source": [
    "if False: \n",
    "    print('This does not print')\n",
    "else: \n",
    "    print('This will print')"
   ]
  },
  {
   "cell_type": "code",
   "execution_count": 36,
   "id": "8e2abd4c",
   "metadata": {},
   "outputs": [
    {
     "name": "stdout",
     "output_type": "stream",
     "text": [
      "Number: 0\n",
      "Number: 1\n",
      "Number: 2\n",
      "Number: 3\n",
      "Number: 4\n"
     ]
    }
   ],
   "source": [
    "# Iterate through items in a range\n",
    "for i in range(0, 5):\n",
    "    print('Number: {}'.format(i))"
   ]
  },
  {
   "cell_type": "code",
   "execution_count": 37,
   "id": "9fffb55a",
   "metadata": {},
   "outputs": [
    {
     "name": "stdout",
     "output_type": "stream",
     "text": [
      "Number: 1\n",
      "Number: 2\n",
      "Number: 3\n",
      "Number: 4\n",
      "Number: 5\n"
     ]
    }
   ],
   "source": [
    "# Iterate through items in a list\n",
    "for i in [1,2,3,4,5]:\n",
    "    print('Number: {}'.format(i))"
   ]
  },
  {
   "cell_type": "code",
   "execution_count": 38,
   "id": "d3644b73",
   "metadata": {},
   "outputs": [
    {
     "name": "stdout",
     "output_type": "stream",
     "text": [
      "Number: 0\n",
      "Number: 1\n",
      "Number: 2\n",
      "Number: 3\n",
      "Number: 4\n"
     ]
    }
   ],
   "source": [
    "i = 0\n",
    "while i < 5:\n",
    "    print('Number: {}'.format(i))\n",
    "    i = i + 1"
   ]
  },
  {
   "cell_type": "markdown",
   "id": "d3e111af",
   "metadata": {},
   "source": [
    "## Data Types"
   ]
  },
  {
   "cell_type": "markdown",
   "id": "6cd23c41",
   "metadata": {},
   "source": [
    "### Lists"
   ]
  },
  {
   "cell_type": "code",
   "execution_count": 39,
   "id": "1652a902",
   "metadata": {},
   "outputs": [
    {
     "data": {
      "text/plain": [
       "list"
      ]
     },
     "execution_count": 39,
     "metadata": {},
     "output_type": "execute_result"
    }
   ],
   "source": [
    "aList = [1,2,3,4]\n",
    "type(aList)"
   ]
  },
  {
   "cell_type": "code",
   "execution_count": 40,
   "id": "6190492f",
   "metadata": {},
   "outputs": [
    {
     "data": {
      "text/plain": [
       "[1, 2, 3, 4, 5]"
      ]
     },
     "execution_count": 40,
     "metadata": {},
     "output_type": "execute_result"
    }
   ],
   "source": [
    "# Append item to a list\n",
    "aList.append(5)\n",
    "aList"
   ]
  },
  {
   "cell_type": "code",
   "execution_count": 41,
   "id": "0c73fb6f",
   "metadata": {},
   "outputs": [
    {
     "data": {
      "text/plain": [
       "[1, 2, 3, 4, 5, 6]"
      ]
     },
     "execution_count": 41,
     "metadata": {},
     "output_type": "execute_result"
    }
   ],
   "source": [
    "# List concatenation\n",
    "[1,2,3] + [4,5,6]"
   ]
  },
  {
   "cell_type": "code",
   "execution_count": 42,
   "id": "2f429961",
   "metadata": {},
   "outputs": [
    {
     "data": {
      "text/plain": [
       "[1, 2, 1, 2, 1, 2, 1, 2, 1, 2]"
      ]
     },
     "execution_count": 42,
     "metadata": {},
     "output_type": "execute_result"
    }
   ],
   "source": [
    "# List multiplication\n",
    "[1,2] * 5"
   ]
  },
  {
   "cell_type": "code",
   "execution_count": 43,
   "id": "8dc04f2c",
   "metadata": {},
   "outputs": [
    {
     "name": "stdout",
     "output_type": "stream",
     "text": [
      "5\n",
      "[1, 2, 3, 4]\n",
      "[1, 2, 3, 4]\n",
      "[5, 6, 7, 8, 9, 10]\n",
      "[1, 3, 5, 7, 9]\n",
      "[1, 4, 7, 10]\n"
     ]
    }
   ],
   "source": [
    "# Accessing items in a list\n",
    "\n",
    "aList = [1,2,3,4,5,6,7,8,9,10]\n",
    "# Print the item at index 4\n",
    "print(aList[4])\n",
    "\n",
    "# Print the items at index 0, up to (not including) index 4\n",
    "print(aList[0:4])\n",
    "\n",
    "# If the first index is missing, it's assumed to be 0\n",
    "print(aList[:4])\n",
    "\n",
    "# If the last index is missing, it's assumed to go to the end of the list\n",
    "print(aList[4:])\n",
    "\n",
    "# Print every other item in the list\n",
    "print(aList[::2])\n",
    "\n",
    "# Print every third item in the list\n",
    "print(aList[::3])"
   ]
  },
  {
   "cell_type": "markdown",
   "id": "8c91a2cf",
   "metadata": {},
   "source": [
    "- A list is an unhashable type in Python because it is mutable, meaning that when its contents change, the hash value changes"
   ]
  },
  {
   "cell_type": "markdown",
   "id": "b3f6a1a2",
   "metadata": {},
   "source": [
    "- Only immutable types such as strings or tuples can be added directly to a set"
   ]
  },
  {
   "cell_type": "markdown",
   "id": "a7307ea7",
   "metadata": {},
   "source": [
    "### Dictionaries"
   ]
  },
  {
   "cell_type": "code",
   "execution_count": 44,
   "id": "c167cdcf",
   "metadata": {
    "scrolled": true
   },
   "outputs": [
    {
     "name": "stdout",
     "output_type": "stream",
     "text": [
      "1\n"
     ]
    }
   ],
   "source": [
    "aDict = {\n",
    "    'one': 1,\n",
    "    'two': 2,\n",
    "    'three': 3,\n",
    "}\n",
    "# Add key/value pairs to dictionary\n",
    "aDict['four'] = 4\n",
    "\n",
    "# Access values by keys\n",
    "print(aDict['one'])"
   ]
  },
  {
   "cell_type": "code",
   "execution_count": 45,
   "id": "08a785bc",
   "metadata": {},
   "outputs": [
    {
     "name": "stdout",
     "output_type": "stream",
     "text": [
      "dict_keys(['one', 'two', 'three', 'four'])\n",
      "dict_values([1, 2, 3, 4])\n",
      "dict_items([('one', 1), ('two', 2), ('three', 3), ('four', 4)])\n"
     ]
    }
   ],
   "source": [
    "# Print all keys\n",
    "print(aDict.keys())\n",
    "\n",
    "# Print all values\n",
    "print(aDict.values())\n",
    "\n",
    "# Print all key/value pairs\n",
    "print(aDict.items())"
   ]
  },
  {
   "cell_type": "markdown",
   "id": "5d90663f",
   "metadata": {},
   "source": [
    "### Sets"
   ]
  },
  {
   "cell_type": "code",
   "execution_count": 46,
   "id": "5a6bcf01",
   "metadata": {},
   "outputs": [
    {
     "name": "stdout",
     "output_type": "stream",
     "text": [
      "{1, 3, 4, 5}\n"
     ]
    }
   ],
   "source": [
    "aSet = {1,2,3,4}\n",
    "\n",
    "# Add an item to a set\n",
    "aSet.add(5)\n",
    "\n",
    "# Remove an item from a set\n",
    "aSet.remove(2)\n",
    "print(aSet)"
   ]
  },
  {
   "cell_type": "markdown",
   "id": "9acf5726",
   "metadata": {},
   "source": [
    "- Sets cannot have duplicates\n",
    "\n",
    "- Sets are not subscriptable, so you cannot use the slicing syntax with it. An object is subscriptable if it contains elements\n",
    "that can be accessed by an index"
   ]
  },
  {
   "cell_type": "code",
   "execution_count": 47,
   "id": "4d4bff3b",
   "metadata": {},
   "outputs": [],
   "source": [
    "mySet = set()"
   ]
  },
  {
   "cell_type": "code",
   "execution_count": 48,
   "id": "89899bc1",
   "metadata": {},
   "outputs": [],
   "source": [
    "mySet.add((2,34,7))"
   ]
  },
  {
   "cell_type": "code",
   "execution_count": 49,
   "id": "bfbe2f85",
   "metadata": {},
   "outputs": [],
   "source": [
    "mySet.update([2,43,8])"
   ]
  },
  {
   "cell_type": "code",
   "execution_count": 50,
   "id": "3832db49",
   "metadata": {},
   "outputs": [],
   "source": [
    "mySet.clear()"
   ]
  },
  {
   "cell_type": "code",
   "execution_count": 51,
   "id": "e4d4c419",
   "metadata": {},
   "outputs": [],
   "source": [
    "mySet = {'Id','start_date','end_date','invoices','conversion'}"
   ]
  },
  {
   "cell_type": "code",
   "execution_count": 52,
   "id": "a66775b1",
   "metadata": {},
   "outputs": [
    {
     "data": {
      "text/plain": [
       "{'Id', 'conversion', 'end_date', 'invoices', 'start_date'}"
      ]
     },
     "execution_count": 52,
     "metadata": {},
     "output_type": "execute_result"
    }
   ],
   "source": [
    "mySet"
   ]
  },
  {
   "cell_type": "code",
   "execution_count": 53,
   "id": "8c511948",
   "metadata": {},
   "outputs": [],
   "source": [
    "mySet2 = set(('order_id','start_date','posting_date','grand_total'))"
   ]
  },
  {
   "cell_type": "code",
   "execution_count": 54,
   "id": "cd9a61a3",
   "metadata": {},
   "outputs": [],
   "source": [
    "mySet1 = {'Id','start_date','end_date','invoices','conversion'}"
   ]
  },
  {
   "cell_type": "code",
   "execution_count": 55,
   "id": "fa979da4",
   "metadata": {},
   "outputs": [
    {
     "data": {
      "text/plain": [
       "{'grand_total', 'order_id', 'posting_date', 'start_date'}"
      ]
     },
     "execution_count": 55,
     "metadata": {},
     "output_type": "execute_result"
    }
   ],
   "source": [
    "mySet2"
   ]
  },
  {
   "cell_type": "code",
   "execution_count": 56,
   "id": "7bcca4c1",
   "metadata": {},
   "outputs": [],
   "source": [
    "## add elements into the set\n",
    "mySet1.add('homer')"
   ]
  },
  {
   "cell_type": "code",
   "execution_count": 57,
   "id": "31435815",
   "metadata": {},
   "outputs": [
    {
     "data": {
      "text/plain": [
       "{'Id', 'conversion', 'end_date', 'homer', 'invoices', 'start_date'}"
      ]
     },
     "execution_count": 57,
     "metadata": {},
     "output_type": "execute_result"
    }
   ],
   "source": [
    "mySet1"
   ]
  },
  {
   "cell_type": "code",
   "execution_count": 58,
   "id": "af9070ad",
   "metadata": {},
   "outputs": [],
   "source": [
    "## add elements into the set\n",
    "mySet1.update(['greener'])"
   ]
  },
  {
   "cell_type": "code",
   "execution_count": 59,
   "id": "890ec806",
   "metadata": {},
   "outputs": [
    {
     "data": {
      "text/plain": [
       "{'Id', 'conversion', 'end_date', 'greener', 'homer', 'invoices', 'start_date'}"
      ]
     },
     "execution_count": 59,
     "metadata": {},
     "output_type": "execute_result"
    }
   ],
   "source": [
    "mySet1"
   ]
  },
  {
   "cell_type": "code",
   "execution_count": 60,
   "id": "74540d6c",
   "metadata": {},
   "outputs": [],
   "source": [
    "## You can create a list from a set and a set from a list"
   ]
  },
  {
   "cell_type": "code",
   "execution_count": 61,
   "id": "f296ba1f",
   "metadata": {},
   "outputs": [
    {
     "data": {
      "text/plain": [
       "['Column', 'B', 't', 'a', 'column', 'b']"
      ]
     },
     "execution_count": 61,
     "metadata": {},
     "output_type": "execute_result"
    }
   ],
   "source": [
    "myList = ['a','column','Column','column','b','b','B','t']\n",
    "myList = list(set(myList))\n",
    "myList"
   ]
  },
  {
   "cell_type": "code",
   "execution_count": 62,
   "id": "7517d37d",
   "metadata": {},
   "outputs": [
    {
     "data": {
      "text/plain": [
       "{'B', 'Column', 'a', 'b', 'column', 't'}"
      ]
     },
     "execution_count": 62,
     "metadata": {},
     "output_type": "execute_result"
    }
   ],
   "source": [
    "lset = set(myList)\n",
    "lset"
   ]
  },
  {
   "cell_type": "code",
   "execution_count": 63,
   "id": "052e7c1d",
   "metadata": {},
   "outputs": [
    {
     "data": {
      "text/plain": [
       "['Column', 'B', 'b', 't', 'column', 'a']"
      ]
     },
     "execution_count": 63,
     "metadata": {},
     "output_type": "execute_result"
    }
   ],
   "source": [
    "list(lset)"
   ]
  },
  {
   "cell_type": "markdown",
   "id": "f97eb174",
   "metadata": {},
   "source": [
    "- Sets are unordered, keep that in mind"
   ]
  },
  {
   "cell_type": "markdown",
   "id": "8819d6b4",
   "metadata": {},
   "source": [
    "- We can have membership boolean operations in sets as well"
   ]
  },
  {
   "cell_type": "code",
   "execution_count": 64,
   "id": "a27ac5e6",
   "metadata": {},
   "outputs": [
    {
     "data": {
      "text/plain": [
       "False"
      ]
     },
     "execution_count": 64,
     "metadata": {},
     "output_type": "execute_result"
    }
   ],
   "source": [
    "'d' in mySet"
   ]
  },
  {
   "cell_type": "code",
   "execution_count": 65,
   "id": "5b6e3f51",
   "metadata": {},
   "outputs": [
    {
     "data": {
      "text/plain": [
       "False"
      ]
     },
     "execution_count": 65,
     "metadata": {},
     "output_type": "execute_result"
    }
   ],
   "source": [
    "'b' in mySet"
   ]
  },
  {
   "cell_type": "code",
   "execution_count": 66,
   "id": "9a51fc1d",
   "metadata": {
    "scrolled": true
   },
   "outputs": [
    {
     "data": {
      "text/plain": [
       "True"
      ]
     },
     "execution_count": 66,
     "metadata": {},
     "output_type": "execute_result"
    }
   ],
   "source": [
    "'start_date' in mySet"
   ]
  },
  {
   "cell_type": "markdown",
   "id": "2d1450c6",
   "metadata": {},
   "source": [
    "- You can also use the length function with sets just like with lists"
   ]
  },
  {
   "cell_type": "code",
   "execution_count": 67,
   "id": "89e5830e",
   "metadata": {},
   "outputs": [
    {
     "data": {
      "text/plain": [
       "5"
      ]
     },
     "execution_count": 67,
     "metadata": {},
     "output_type": "execute_result"
    }
   ],
   "source": [
    "len(mySet)"
   ]
  },
  {
   "cell_type": "code",
   "execution_count": 68,
   "id": "e8df5236",
   "metadata": {},
   "outputs": [
    {
     "name": "stdout",
     "output_type": "stream",
     "text": [
      "end_date\n",
      "start_date\n",
      "invoices\n",
      "Id\n",
      "conversion\n"
     ]
    }
   ],
   "source": [
    "## You can use the pop function to get elements from a set\n",
    "\n",
    "while len(mySet):\n",
    "    print(mySet.pop())"
   ]
  },
  {
   "cell_type": "code",
   "execution_count": 69,
   "id": "e76fe4f3",
   "metadata": {},
   "outputs": [
    {
     "data": {
      "text/plain": [
       "{'Id', 'conversion', 'end_date', 'greener', 'homer', 'invoices', 'start_date'}"
      ]
     },
     "execution_count": 69,
     "metadata": {},
     "output_type": "execute_result"
    }
   ],
   "source": [
    "mySet = set(('start_date', 'conversion', 'homer', 'greener', 'Id', 'invoices', 'end_date'))\n",
    "mySet"
   ]
  },
  {
   "cell_type": "code",
   "execution_count": 70,
   "id": "20a62247",
   "metadata": {},
   "outputs": [
    {
     "data": {
      "text/plain": [
       "{'Id', 'conversion', 'end_date', 'homer', 'invoices', 'start_date'}"
      ]
     },
     "execution_count": 70,
     "metadata": {},
     "output_type": "execute_result"
    }
   ],
   "source": [
    "## Elements can be removed from a set completely\n",
    "\n",
    "mySet.discard('greener')\n",
    "mySet"
   ]
  },
  {
   "cell_type": "code",
   "execution_count": 71,
   "id": "f5945c7c",
   "metadata": {},
   "outputs": [],
   "source": [
    "## You can find what appears in one set and does not appear in the other set"
   ]
  },
  {
   "cell_type": "code",
   "execution_count": 72,
   "id": "d82ca36c",
   "metadata": {},
   "outputs": [
    {
     "data": {
      "text/plain": [
       "{'Id', 'conversion', 'end_date', 'greener', 'homer', 'invoices', 'start_date'}"
      ]
     },
     "execution_count": 72,
     "metadata": {},
     "output_type": "execute_result"
    }
   ],
   "source": [
    "mySet1"
   ]
  },
  {
   "cell_type": "code",
   "execution_count": 73,
   "id": "177e992a",
   "metadata": {},
   "outputs": [
    {
     "data": {
      "text/plain": [
       "{'Id', 'conversion', 'end_date', 'homer', 'invoices', 'start_date'}"
      ]
     },
     "execution_count": 73,
     "metadata": {},
     "output_type": "execute_result"
    }
   ],
   "source": [
    "mySet"
   ]
  },
  {
   "cell_type": "code",
   "execution_count": 74,
   "id": "5de75be5",
   "metadata": {},
   "outputs": [
    {
     "data": {
      "text/plain": [
       "{'greener'}"
      ]
     },
     "execution_count": 74,
     "metadata": {},
     "output_type": "execute_result"
    }
   ],
   "source": [
    "mySet.symmetric_difference(mySet1)"
   ]
  },
  {
   "cell_type": "markdown",
   "id": "a8a25d64",
   "metadata": {},
   "source": [
    "### Tuples"
   ]
  },
  {
   "cell_type": "code",
   "execution_count": 75,
   "id": "ef82c964",
   "metadata": {},
   "outputs": [],
   "source": [
    "### Tuples are immutable objects in Python"
   ]
  },
  {
   "cell_type": "code",
   "execution_count": 76,
   "id": "aade96be",
   "metadata": {},
   "outputs": [
    {
     "data": {
      "text/plain": [
       "(1, 2, 3, 4)"
      ]
     },
     "execution_count": 76,
     "metadata": {},
     "output_type": "execute_result"
    }
   ],
   "source": [
    "# Tuples cannot be modified\n",
    "aTuple = (1,2,3,4)\n",
    "aTuple"
   ]
  },
  {
   "cell_type": "code",
   "execution_count": 77,
   "id": "424d1130",
   "metadata": {},
   "outputs": [
    {
     "data": {
      "text/plain": [
       "('e', 'g', 'k')"
      ]
     },
     "execution_count": 77,
     "metadata": {},
     "output_type": "execute_result"
    }
   ],
   "source": [
    "myTuple = ('e','g','k')\n",
    "myTuple"
   ]
  },
  {
   "cell_type": "code",
   "execution_count": 78,
   "id": "8e9c8678",
   "metadata": {},
   "outputs": [
    {
     "data": {
      "text/plain": [
       "3"
      ]
     },
     "execution_count": 78,
     "metadata": {},
     "output_type": "execute_result"
    }
   ],
   "source": [
    "len(myTuple)"
   ]
  },
  {
   "cell_type": "code",
   "execution_count": 79,
   "id": "4085b06a",
   "metadata": {},
   "outputs": [
    {
     "data": {
      "text/plain": [
       "tuple"
      ]
     },
     "execution_count": 79,
     "metadata": {},
     "output_type": "execute_result"
    }
   ],
   "source": [
    "def returnsMultiple():\n",
    "    return 1,2,3\n",
    "\n",
    "type(returnsMultiple())"
   ]
  },
  {
   "cell_type": "markdown",
   "id": "e70f10b6",
   "metadata": {},
   "source": [
    "- We can use this syntax in what is known as unpacking"
   ]
  },
  {
   "cell_type": "code",
   "execution_count": 80,
   "id": "53d4d879",
   "metadata": {},
   "outputs": [
    {
     "name": "stdout",
     "output_type": "stream",
     "text": [
      "1\n",
      "2\n",
      "3\n"
     ]
    }
   ],
   "source": [
    "a, b, c = returnsMultiple()\n",
    "print(a)\n",
    "print(b)\n",
    "print(c)"
   ]
  },
  {
   "cell_type": "markdown",
   "id": "fd3e9149",
   "metadata": {},
   "source": [
    "## Dictionaries"
   ]
  },
  {
   "cell_type": "code",
   "execution_count": 81,
   "id": "2e592797",
   "metadata": {},
   "outputs": [
    {
     "data": {
      "text/plain": [
       "{'a': 'emu', 'b': 'kudu', 'c': 'walrus', 'd': 'tiger'}"
      ]
     },
     "execution_count": 81,
     "metadata": {},
     "output_type": "execute_result"
    }
   ],
   "source": [
    "animals = {\n",
    "    'a': 'emu',\n",
    "    'b': 'kudu',\n",
    "    'c': 'walrus',\n",
    "    'd': 'tiger', \n",
    "}\n",
    "animals"
   ]
  },
  {
   "cell_type": "code",
   "execution_count": 82,
   "id": "3c6e8374",
   "metadata": {},
   "outputs": [
    {
     "data": {
      "text/plain": [
       "'emu'"
      ]
     },
     "execution_count": 82,
     "metadata": {},
     "output_type": "execute_result"
    }
   ],
   "source": [
    "animals['a']"
   ]
  },
  {
   "cell_type": "code",
   "execution_count": 83,
   "id": "d376179f",
   "metadata": {},
   "outputs": [],
   "source": [
    "## add elements into the dictionary"
   ]
  },
  {
   "cell_type": "code",
   "execution_count": 84,
   "id": "180fae0a",
   "metadata": {},
   "outputs": [
    {
     "data": {
      "text/plain": [
       "{'a': 'emu', 'b': 'kudu', 'c': 'walrus', 'd': 'tiger', 'f': 'Lion'}"
      ]
     },
     "execution_count": 84,
     "metadata": {},
     "output_type": "execute_result"
    }
   ],
   "source": [
    "animals['f'] = 'Lion'\n",
    "animals"
   ]
  },
  {
   "cell_type": "code",
   "execution_count": 85,
   "id": "52b9acc4",
   "metadata": {},
   "outputs": [],
   "source": [
    "## Update values in the dictionary\n",
    "animals['f'] = 'Elephant'"
   ]
  },
  {
   "cell_type": "code",
   "execution_count": 86,
   "id": "4a56608e",
   "metadata": {},
   "outputs": [
    {
     "data": {
      "text/plain": [
       "{'a': 'emu', 'b': 'kudu', 'c': 'walrus', 'd': 'tiger', 'f': 'Elephant'}"
      ]
     },
     "execution_count": 86,
     "metadata": {},
     "output_type": "execute_result"
    }
   ],
   "source": [
    "animals"
   ]
  },
  {
   "cell_type": "code",
   "execution_count": 87,
   "id": "6469b5de",
   "metadata": {},
   "outputs": [
    {
     "data": {
      "text/plain": [
       "dict_keys(['a', 'b', 'c', 'd', 'f'])"
      ]
     },
     "execution_count": 87,
     "metadata": {},
     "output_type": "execute_result"
    }
   ],
   "source": [
    "animals.keys()"
   ]
  },
  {
   "cell_type": "code",
   "execution_count": 88,
   "id": "7a58dabf",
   "metadata": {},
   "outputs": [
    {
     "data": {
      "text/plain": [
       "['a', 'b', 'c', 'd', 'f']"
      ]
     },
     "execution_count": 88,
     "metadata": {},
     "output_type": "execute_result"
    }
   ],
   "source": [
    "list(animals.keys())"
   ]
  },
  {
   "cell_type": "code",
   "execution_count": 89,
   "id": "e13081c8",
   "metadata": {},
   "outputs": [
    {
     "data": {
      "text/plain": [
       "dict_values(['emu', 'kudu', 'walrus', 'tiger', 'Elephant'])"
      ]
     },
     "execution_count": 89,
     "metadata": {},
     "output_type": "execute_result"
    }
   ],
   "source": [
    "animals.values()"
   ]
  },
  {
   "cell_type": "code",
   "execution_count": 90,
   "id": "408755af",
   "metadata": {},
   "outputs": [],
   "source": [
    "## You can use .get() method  and a default value to check is a key exists"
   ]
  },
  {
   "cell_type": "code",
   "execution_count": 91,
   "id": "10916acb",
   "metadata": {},
   "outputs": [
    {
     "name": "stdout",
     "output_type": "stream",
     "text": [
      "Not found\n"
     ]
    }
   ],
   "source": [
    "if animals.get('e',\"NOT FOUND\") == \"NOT FOUND\":\n",
    "    print(\"Not found\")"
   ]
  },
  {
   "cell_type": "code",
   "execution_count": 92,
   "id": "36cc7221",
   "metadata": {},
   "outputs": [
    {
     "data": {
      "text/plain": [
       "dict_keys(['a', 'b', 'c', 'd', 'f'])"
      ]
     },
     "execution_count": 92,
     "metadata": {},
     "output_type": "execute_result"
    }
   ],
   "source": [
    "animals.keys()"
   ]
  },
  {
   "cell_type": "code",
   "execution_count": 93,
   "id": "d9b2a644",
   "metadata": {},
   "outputs": [
    {
     "data": {
      "text/plain": [
       "'kudu'"
      ]
     },
     "execution_count": 93,
     "metadata": {},
     "output_type": "execute_result"
    }
   ],
   "source": [
    "animals.get('b','NOT FOUND')"
   ]
  },
  {
   "cell_type": "code",
   "execution_count": 94,
   "id": "d0072bd1",
   "metadata": {},
   "outputs": [
    {
     "data": {
      "text/plain": [
       "5"
      ]
     },
     "execution_count": 94,
     "metadata": {},
     "output_type": "execute_result"
    }
   ],
   "source": [
    "len(animals)"
   ]
  },
  {
   "cell_type": "code",
   "execution_count": 95,
   "id": "5edf29c4",
   "metadata": {},
   "outputs": [
    {
     "data": {
      "text/plain": [
       "{'ocean': ['Ocra', 'Dolphins', 'Walrus', 'Whales', 'Sharks'],\n",
       " 'lake': ['Tilapia', 'Salmon', 'Nile Pearch'],\n",
       " 'rivers': ['Tuna'],\n",
       " 'land': ['bear', 'lion']}"
      ]
     },
     "execution_count": 95,
     "metadata": {},
     "output_type": "execute_result"
    }
   ],
   "source": [
    "wild = {\n",
    "    'ocean': ['Ocra','Dolphins','Walrus','Whales','Sharks'],\n",
    "    'lake' : ['Tilapia','Salmon','Nile Pearch'],\n",
    "    'rivers': ['Tuna'],\n",
    "    'land': ['bear','lion'],\n",
    "}\n",
    "wild"
   ]
  },
  {
   "cell_type": "code",
   "execution_count": 96,
   "id": "741e0fe9",
   "metadata": {},
   "outputs": [],
   "source": [
    "wild['air'] = ['eagle']"
   ]
  },
  {
   "cell_type": "code",
   "execution_count": 97,
   "id": "4e97d58a",
   "metadata": {},
   "outputs": [
    {
     "data": {
      "text/plain": [
       "{'ocean': ['Ocra', 'Dolphins', 'Walrus', 'Whales', 'Sharks'],\n",
       " 'lake': ['Tilapia', 'Salmon', 'Nile Pearch'],\n",
       " 'rivers': ['Tuna'],\n",
       " 'land': ['bear', 'lion'],\n",
       " 'air': ['eagle']}"
      ]
     },
     "execution_count": 97,
     "metadata": {},
     "output_type": "execute_result"
    }
   ],
   "source": [
    "wild"
   ]
  },
  {
   "cell_type": "code",
   "execution_count": 98,
   "id": "e2ae9a72",
   "metadata": {},
   "outputs": [],
   "source": [
    "wild['air'].append('sea guls')"
   ]
  },
  {
   "cell_type": "code",
   "execution_count": 99,
   "id": "e933b82d",
   "metadata": {},
   "outputs": [
    {
     "data": {
      "text/plain": [
       "{'ocean': ['Ocra', 'Dolphins', 'Walrus', 'Whales', 'Sharks'],\n",
       " 'lake': ['Tilapia', 'Salmon', 'Nile Pearch'],\n",
       " 'rivers': ['Tuna'],\n",
       " 'land': ['bear', 'lion'],\n",
       " 'air': ['eagle', 'sea guls']}"
      ]
     },
     "execution_count": 99,
     "metadata": {},
     "output_type": "execute_result"
    }
   ],
   "source": [
    "wild"
   ]
  },
  {
   "cell_type": "markdown",
   "id": "a7b873b9",
   "metadata": {},
   "source": [
    "#### Default Dict"
   ]
  },
  {
   "cell_type": "code",
   "execution_count": 100,
   "id": "09618571",
   "metadata": {},
   "outputs": [],
   "source": [
    "from collections import defaultdict"
   ]
  },
  {
   "cell_type": "code",
   "execution_count": 101,
   "id": "35ef49b7",
   "metadata": {},
   "outputs": [],
   "source": [
    "land = defaultdict(list)"
   ]
  },
  {
   "cell_type": "code",
   "execution_count": 102,
   "id": "b85cf87e",
   "metadata": {},
   "outputs": [
    {
     "data": {
      "text/plain": [
       "defaultdict(list, {})"
      ]
     },
     "execution_count": 102,
     "metadata": {},
     "output_type": "execute_result"
    }
   ],
   "source": [
    "land"
   ]
  },
  {
   "cell_type": "code",
   "execution_count": 103,
   "id": "92da834e",
   "metadata": {},
   "outputs": [],
   "source": [
    "land['park'].append('Tree')"
   ]
  },
  {
   "cell_type": "code",
   "execution_count": 104,
   "id": "411d5ab8",
   "metadata": {},
   "outputs": [],
   "source": [
    "land['pond'].append(['duck','goose'])"
   ]
  },
  {
   "cell_type": "code",
   "execution_count": 105,
   "id": "857d364b",
   "metadata": {},
   "outputs": [
    {
     "data": {
      "text/plain": [
       "{'park': ['Tree'], 'pond': [['duck', 'goose']]}"
      ]
     },
     "execution_count": 105,
     "metadata": {},
     "output_type": "execute_result"
    }
   ],
   "source": [
    "dict(land)"
   ]
  },
  {
   "cell_type": "code",
   "execution_count": 106,
   "id": "36d6c640",
   "metadata": {},
   "outputs": [
    {
     "data": {
      "text/plain": [
       "defaultdict(list, {'park': ['Tree'], 'pond': [['duck', 'goose']]})"
      ]
     },
     "execution_count": 106,
     "metadata": {},
     "output_type": "execute_result"
    }
   ],
   "source": [
    "land"
   ]
  },
  {
   "cell_type": "markdown",
   "id": "616770bf",
   "metadata": {},
   "source": [
    "### List comprehensions"
   ]
  },
  {
   "cell_type": "code",
   "execution_count": 107,
   "id": "a5cc0328",
   "metadata": {},
   "outputs": [
    {
     "data": {
      "text/plain": [
       "[1, 8, 27, 125, 216, 343, 512, 729, 1000]"
      ]
     },
     "execution_count": 107,
     "metadata": {},
     "output_type": "execute_result"
    }
   ],
   "source": [
    "myList = [1,2,3,5,6,7,8,9,10]\n",
    "[item*item*item for item in myList]"
   ]
  },
  {
   "cell_type": "code",
   "execution_count": 108,
   "id": "e8e7f27f",
   "metadata": {},
   "outputs": [],
   "source": [
    "### List comprehensions can be used as filters"
   ]
  },
  {
   "cell_type": "code",
   "execution_count": 109,
   "id": "910168fb",
   "metadata": {},
   "outputs": [
    {
     "data": {
      "text/plain": [
       "[0, 10, 20, 30, 40, 50, 60, 70, 80, 90]"
      ]
     },
     "execution_count": 109,
     "metadata": {},
     "output_type": "execute_result"
    }
   ],
   "source": [
    "myList = list(range(100))\n",
    "filteredList = [item for item in myList if item % 10 == 0]\n",
    "filteredList"
   ]
  },
  {
   "cell_type": "code",
   "execution_count": 110,
   "id": "e86a6869",
   "metadata": {},
   "outputs": [
    {
     "data": {
      "text/plain": [
       "[0, 20, 40, 60, 80]"
      ]
     },
     "execution_count": 110,
     "metadata": {},
     "output_type": "execute_result"
    }
   ],
   "source": [
    "[item for item in myList if item % 20 == 0]"
   ]
  },
  {
   "cell_type": "code",
   "execution_count": 111,
   "id": "5b13ccfe",
   "metadata": {
    "scrolled": true
   },
   "outputs": [],
   "source": [
    "even_numbers = [item for item in myList if item % 2 == 0]\n",
    "odd_numbers = [item for item in myList if item % 2 != 0]"
   ]
  },
  {
   "cell_type": "code",
   "execution_count": 112,
   "id": "24101397",
   "metadata": {},
   "outputs": [
    {
     "name": "stdout",
     "output_type": "stream",
     "text": [
      "[1, 3, 5, 7, 9, 11, 13, 15, 17, 19, 21, 23, 25, 27, 29, 31, 33, 35, 37, 39, 41, 43, 45, 47, 49, 51, 53, 55, 57, 59, 61, 63, 65, 67, 69, 71, 73, 75, 77, 79, 81, 83, 85, 87, 89, 91, 93, 95, 97, 99]\n"
     ]
    }
   ],
   "source": [
    "print(odd_numbers)"
   ]
  },
  {
   "cell_type": "code",
   "execution_count": 113,
   "id": "ab9bb1b2",
   "metadata": {},
   "outputs": [
    {
     "name": "stdout",
     "output_type": "stream",
     "text": [
      "[0, 2, 4, 6, 8, 10, 12, 14, 16, 18, 20, 22, 24, 26, 28, 30, 32, 34, 36, 38, 40, 42, 44, 46, 48, 50, 52, 54, 56, 58, 60, 62, 64, 66, 68, 70, 72, 74, 76, 78, 80, 82, 84, 86, 88, 90, 92, 94, 96, 98]\n"
     ]
    }
   ],
   "source": [
    "print(even_numbers)"
   ]
  },
  {
   "cell_type": "markdown",
   "id": "1ae8bf1a",
   "metadata": {},
   "source": [
    "#### List comprehensions can be used with functions"
   ]
  },
  {
   "cell_type": "code",
   "execution_count": 114,
   "id": "b0cbcaf9",
   "metadata": {},
   "outputs": [
    {
     "data": {
      "text/plain": [
       "['My name is Billy', ' I live in Nairobi']"
      ]
     },
     "execution_count": 114,
     "metadata": {},
     "output_type": "execute_result"
    }
   ],
   "source": [
    "myString = 'My name is Billy. I live in Nairobi'\n",
    "myString.split('.')"
   ]
  },
  {
   "cell_type": "code",
   "execution_count": 115,
   "id": "12e6fa38",
   "metadata": {},
   "outputs": [
    {
     "data": {
      "text/plain": [
       "['My', 'name', 'is', 'Billy.', 'I', 'live', 'in', 'Nairobi']"
      ]
     },
     "execution_count": 115,
     "metadata": {},
     "output_type": "execute_result"
    }
   ],
   "source": [
    "myString.split()"
   ]
  },
  {
   "cell_type": "code",
   "execution_count": 116,
   "id": "b5d5a9b5",
   "metadata": {},
   "outputs": [
    {
     "data": {
      "text/plain": [
       "['my', 'name', 'is', 'billy', 'i', 'live', 'in', 'nairobi']"
      ]
     },
     "execution_count": 116,
     "metadata": {},
     "output_type": "execute_result"
    }
   ],
   "source": [
    "def cleanWord(word):\n",
    "    return word.replace('.','').lower()\n",
    "\n",
    "[cleanWord(word) for word in myString.split()]"
   ]
  },
  {
   "cell_type": "code",
   "execution_count": 117,
   "id": "e10a2d0a",
   "metadata": {},
   "outputs": [],
   "source": [
    "def convertToLower(word):\n",
    "    return word.lower()"
   ]
  },
  {
   "cell_type": "code",
   "execution_count": 118,
   "id": "c79a67eb",
   "metadata": {},
   "outputs": [
    {
     "data": {
      "text/plain": [
       "['my', 'name', 'is', 'billy', 'live', 'in', 'nairobi']"
      ]
     },
     "execution_count": 118,
     "metadata": {},
     "output_type": "execute_result"
    }
   ],
   "source": [
    "xt = myString.replace('.','').split()\n",
    "[convertToLower(word) for word in xt if len(word) > 1]"
   ]
  },
  {
   "cell_type": "markdown",
   "id": "d6b72609",
   "metadata": {},
   "source": [
    "- We can also combine this with a conditional statement"
   ]
  },
  {
   "cell_type": "code",
   "execution_count": 119,
   "id": "d766b47a",
   "metadata": {},
   "outputs": [
    {
     "data": {
      "text/plain": [
       "['my', 'name', 'is', 'billy', 'i', 'live', 'in']"
      ]
     },
     "execution_count": 119,
     "metadata": {},
     "output_type": "execute_result"
    }
   ],
   "source": [
    "[cleanWord(word) for word in myString.split() if len(cleanWord(word)) < 6]"
   ]
  },
  {
   "cell_type": "code",
   "execution_count": 120,
   "id": "d7add6d7",
   "metadata": {},
   "outputs": [
    {
     "data": {
      "text/plain": [
       "['my', 'name', 'is', 'billy', 'i', 'live', 'in']"
      ]
     },
     "execution_count": 120,
     "metadata": {},
     "output_type": "execute_result"
    }
   ],
   "source": [
    "[cleanWord(word) for word in myString.split() if len(cleanWord(word)) < 6]"
   ]
  },
  {
   "cell_type": "markdown",
   "id": "e980fea8",
   "metadata": {},
   "source": [
    "#### Nested list comprehensions"
   ]
  },
  {
   "cell_type": "code",
   "execution_count": 121,
   "id": "c9412903",
   "metadata": {},
   "outputs": [
    {
     "data": {
      "text/plain": [
       "[['my', 'name', 'is', 'billy'], ['i', 'live', 'in', 'nairobi']]"
      ]
     },
     "execution_count": 121,
     "metadata": {},
     "output_type": "execute_result"
    }
   ],
   "source": [
    "[[cleanWord(word) for word in sentence.split()] for sentence in myString.split('.')]"
   ]
  },
  {
   "cell_type": "code",
   "execution_count": 122,
   "id": "72a39f10",
   "metadata": {},
   "outputs": [
    {
     "data": {
      "text/plain": [
       "[['my', 'name', 'is', 'billy'], ['i', 'live', 'in', 'nairobi']]"
      ]
     },
     "execution_count": 122,
     "metadata": {},
     "output_type": "execute_result"
    }
   ],
   "source": [
    "[[cleanWord(word) for word in sentence.split()]  for sentence in myString.split('.')]"
   ]
  },
  {
   "cell_type": "code",
   "execution_count": null,
   "id": "105a8af9",
   "metadata": {},
   "outputs": [],
   "source": []
  },
  {
   "cell_type": "code",
   "execution_count": 123,
   "id": "4625f98b",
   "metadata": {},
   "outputs": [
    {
     "data": {
      "text/plain": [
       "['al', 'am', 'an', 'bl', 'bm', 'bn', 'cl', 'cm', 'cn']"
      ]
     },
     "execution_count": 123,
     "metadata": {},
     "output_type": "execute_result"
    }
   ],
   "source": [
    "[x + y for x in 'abc' for y in 'lmn']"
   ]
  },
  {
   "cell_type": "code",
   "execution_count": 124,
   "id": "9e916c3b",
   "metadata": {},
   "outputs": [
    {
     "data": {
      "text/plain": [
       "[0, 2, 4]"
      ]
     },
     "execution_count": 124,
     "metadata": {},
     "output_type": "execute_result"
    }
   ],
   "source": [
    "[x for x in range(5) if x % 2 == 0 ]"
   ]
  },
  {
   "cell_type": "code",
   "execution_count": 125,
   "id": "12067581",
   "metadata": {},
   "outputs": [
    {
     "data": {
      "text/plain": [
       "[100, 120, 765, 101, 121, 766, 102, 122, 767]"
      ]
     },
     "execution_count": 125,
     "metadata": {},
     "output_type": "execute_result"
    }
   ],
   "source": [
    "[x + y for x in [0,1,2] for y in [100,120, 765]]"
   ]
  },
  {
   "cell_type": "markdown",
   "id": "f4586981",
   "metadata": {},
   "source": [
    "#### Dictionary comprehensions"
   ]
  },
  {
   "cell_type": "code",
   "execution_count": 126,
   "id": "1e7c3d5c",
   "metadata": {},
   "outputs": [
    {
     "data": {
      "text/plain": [
       "{'a': 'aadvark', 'b': 'bear', 'c': 'cat', 'd': 'dog'}"
      ]
     },
     "execution_count": 126,
     "metadata": {},
     "output_type": "execute_result"
    }
   ],
   "source": [
    "animalList = [('a','aadvark'),('b', 'bear'),('c','cat'),('d','dog')]\n",
    "animals_ = { item[0]: item[1] for item in animalList }\n",
    "animals_"
   ]
  },
  {
   "cell_type": "code",
   "execution_count": 127,
   "id": "5a41c892",
   "metadata": {},
   "outputs": [],
   "source": [
    "## There is a more elegant way of writing this piece of code:"
   ]
  },
  {
   "cell_type": "code",
   "execution_count": 128,
   "id": "17af8955",
   "metadata": {},
   "outputs": [
    {
     "data": {
      "text/plain": [
       "{'a': 'aadvark', 'b': 'bear', 'c': 'cat', 'd': 'dog'}"
      ]
     },
     "execution_count": 128,
     "metadata": {},
     "output_type": "execute_result"
    }
   ],
   "source": [
    "animals_ = { key: value for key, value in animalList } ## the dictionary comprehension\n",
    "animals_"
   ]
  },
  {
   "cell_type": "code",
   "execution_count": 129,
   "id": "b08aae88",
   "metadata": {},
   "outputs": [
    {
     "data": {
      "text/plain": [
       "{'Barca': ['Messi', 'Suarez', 'Neymar'],\n",
       " 'Real Madrid': ['CR7', 'Bale', 'Vinicius', 'Jude']}"
      ]
     },
     "execution_count": 129,
     "metadata": {},
     "output_type": "execute_result"
    }
   ],
   "source": [
    "players = [\n",
    "            ('Barca','Messi','Suarez','Neymar'),\n",
    "           ('Real Madrid','CR7','Bale','Vinicius','Jude')\n",
    "          ]\n",
    "teams = { team: players[:]  for team, *players  in players }\n",
    "teams"
   ]
  },
  {
   "cell_type": "code",
   "execution_count": 130,
   "id": "dd385114",
   "metadata": {},
   "outputs": [
    {
     "data": {
      "text/plain": [
       "{'Barca': ['Messi', 'Suarez', 'Neymar'],\n",
       " 'Real Madrid': ['CR7', 'Bale', 'Vinicius', 'Jude']}"
      ]
     },
     "execution_count": 130,
     "metadata": {},
     "output_type": "execute_result"
    }
   ],
   "source": [
    "{item[0]: list(item[1:])  for item in players}"
   ]
  },
  {
   "cell_type": "code",
   "execution_count": 131,
   "id": "4e49b9dd",
   "metadata": {},
   "outputs": [
    {
     "data": {
      "text/plain": [
       "{'Barca': ('Messi', 'Suarez', 'Neymar'),\n",
       " 'Real Madrid': ('CR7', 'Bale', 'Vinicius', 'Jude')}"
      ]
     },
     "execution_count": 131,
     "metadata": {},
     "output_type": "execute_result"
    }
   ],
   "source": [
    "{ key: tuple(value[:]) for key, *value in players}"
   ]
  },
  {
   "cell_type": "code",
   "execution_count": 132,
   "id": "1716e4ba",
   "metadata": {},
   "outputs": [
    {
     "data": {
      "text/plain": [
       "{'Barca': ('Messi', 'Suarez', 'Neymar'),\n",
       " 'Real Madrid': ('CR7', 'Bale', 'Vinicius', 'Jude')}"
      ]
     },
     "execution_count": 132,
     "metadata": {},
     "output_type": "execute_result"
    }
   ],
   "source": [
    "teams = { team : tuple(players[:]) for team, *players in players }\n",
    "teams"
   ]
  },
  {
   "cell_type": "markdown",
   "id": "c9b102f0",
   "metadata": {},
   "source": [
    "### Challenge"
   ]
  },
  {
   "cell_type": "markdown",
   "id": "f835f73a",
   "metadata": {},
   "source": [
    "Write a function called \"encodeString\" that will encode a string like \"AAAABBBCC\" as a list of tuples\n",
    "i.e [(\"A\",4),(\"B\",3),(\"C\",2)] meaning that the string has 4 A's, 3B's and 2C's"
   ]
  },
  {
   "cell_type": "code",
   "execution_count": 133,
   "id": "432e2968",
   "metadata": {},
   "outputs": [],
   "source": [
    "def encodeString(stringVal):\n",
    "    encodedList = []\n",
    "    prevChar = stringVal[0]\n",
    "    count = 0\n",
    "    for char in stringVal:\n",
    "        if prevChar != char:\n",
    "            encodedList.append((prevChar, count))\n",
    "            count = 0\n",
    "        prevChar = char\n",
    "        count = count + 1\n",
    "    encodedList.append((prevChar, count))\n",
    "    return encodedList"
   ]
  },
  {
   "cell_type": "code",
   "execution_count": 134,
   "id": "de5a5205",
   "metadata": {},
   "outputs": [],
   "source": [
    "def decodeString(encodedList):\n",
    "    decodeStr = ''\n",
    "    for item in encodedList:\n",
    "        decodeStr = decodeStr + item[0] * item[1]\n",
    "    return decodeStr    "
   ]
  },
  {
   "cell_type": "code",
   "execution_count": 135,
   "id": "6f24f7f2",
   "metadata": {},
   "outputs": [],
   "source": [
    "string = \"FHASDRRRRADDD\""
   ]
  },
  {
   "cell_type": "code",
   "execution_count": 136,
   "id": "d122dc77",
   "metadata": {},
   "outputs": [
    {
     "data": {
      "text/plain": [
       "'FHASDRRRRADDD'"
      ]
     },
     "execution_count": 136,
     "metadata": {},
     "output_type": "execute_result"
    }
   ],
   "source": [
    "y = encodeString(string)\n",
    "decodeString(y)"
   ]
  },
  {
   "cell_type": "code",
   "execution_count": null,
   "id": "cc10a54f",
   "metadata": {},
   "outputs": [],
   "source": []
  },
  {
   "cell_type": "code",
   "execution_count": 137,
   "id": "3bd9cb4f",
   "metadata": {},
   "outputs": [
    {
     "data": {
      "text/plain": [
       "[100,\n",
       " 95,\n",
       " 90,\n",
       " 85,\n",
       " 80,\n",
       " 75,\n",
       " 70,\n",
       " 65,\n",
       " 60,\n",
       " 55,\n",
       " 50,\n",
       " 45,\n",
       " 40,\n",
       " 35,\n",
       " 30,\n",
       " 25,\n",
       " 20,\n",
       " 15,\n",
       " 10,\n",
       " 5,\n",
       " 0]"
      ]
     },
     "execution_count": 137,
     "metadata": {},
     "output_type": "execute_result"
    }
   ],
   "source": [
    "list(range(101))[::-5]"
   ]
  },
  {
   "cell_type": "code",
   "execution_count": 138,
   "id": "1137a618",
   "metadata": {},
   "outputs": [
    {
     "name": "stdout",
     "output_type": "stream",
     "text": [
      "[100, 95, 90, 85, 80, 75, 70, 65, 60, 55, 50, 45, 40, 35, 30, 25, 20, 15, 10, 5, 0]\n"
     ]
    }
   ],
   "source": [
    "print(list(range(101))[::-5])"
   ]
  },
  {
   "cell_type": "code",
   "execution_count": 139,
   "id": "6b8b85c4",
   "metadata": {},
   "outputs": [
    {
     "name": "stdout",
     "output_type": "stream",
     "text": [
      "Nothing\n",
      "Nothing\n",
      "Buzz\n",
      "Nothing\n",
      "Nothing\n",
      "Buzz\n",
      "Nothing\n",
      "Nothing\n",
      "Buzz\n",
      "Nothing\n",
      "Nothing\n",
      "Buzz\n",
      "Nothing\n",
      "Nothing\n",
      "FizzBuz\n",
      "Nothing\n",
      "Nothing\n",
      "Buzz\n",
      "Nothing\n",
      "Nothing\n",
      "Buzz\n",
      "Nothing\n",
      "Nothing\n",
      "Buzz\n",
      "Nothing\n",
      "Nothing\n",
      "Buzz\n",
      "Nothing\n",
      "Nothing\n",
      "FizzBuz\n",
      "Nothing\n",
      "Nothing\n",
      "Buzz\n",
      "Nothing\n",
      "Nothing\n",
      "Buzz\n",
      "Nothing\n",
      "Nothing\n",
      "Buzz\n",
      "Nothing\n",
      "Nothing\n",
      "Buzz\n",
      "Nothing\n",
      "Nothing\n",
      "FizzBuz\n",
      "Nothing\n",
      "Nothing\n",
      "Buzz\n",
      "Nothing\n",
      "Nothing\n",
      "Buzz\n",
      "Nothing\n",
      "Nothing\n",
      "Buzz\n",
      "Nothing\n",
      "Nothing\n",
      "Buzz\n",
      "Nothing\n",
      "Nothing\n",
      "FizzBuz\n",
      "Nothing\n",
      "Nothing\n",
      "Buzz\n",
      "Nothing\n",
      "Nothing\n",
      "Buzz\n",
      "Nothing\n",
      "Nothing\n",
      "Buzz\n",
      "Nothing\n",
      "Nothing\n",
      "Buzz\n",
      "Nothing\n",
      "Nothing\n",
      "FizzBuz\n",
      "Nothing\n",
      "Nothing\n",
      "Buzz\n",
      "Nothing\n",
      "Nothing\n",
      "Buzz\n",
      "Nothing\n",
      "Nothing\n",
      "Buzz\n",
      "Nothing\n",
      "Nothing\n",
      "Buzz\n",
      "Nothing\n",
      "Nothing\n",
      "FizzBuz\n",
      "Nothing\n",
      "Nothing\n",
      "Buzz\n",
      "Nothing\n",
      "Nothing\n",
      "Buzz\n",
      "Nothing\n",
      "Nothing\n",
      "Buzz\n",
      "Nothing\n"
     ]
    }
   ],
   "source": [
    "for n in range(1, 101):\n",
    "    if n % 15 ==0 :\n",
    "        print(\"FizzBuz\")\n",
    "    elif n % 3 == 0:\n",
    "        print(\"Buzz\")\n",
    "    else:\n",
    "        print(\"Nothing\")"
   ]
  },
  {
   "cell_type": "code",
   "execution_count": 140,
   "id": "069fd389",
   "metadata": {},
   "outputs": [
    {
     "name": "stdout",
     "output_type": "stream",
     "text": [
      "Fizz\n"
     ]
    }
   ],
   "source": [
    "n = 3\n",
    "print(\"Fizz\" if n % 3 ==0 else n)"
   ]
  },
  {
   "cell_type": "markdown",
   "id": "455478ea",
   "metadata": {},
   "source": [
    "##### Ternary operators "
   ]
  },
  {
   "cell_type": "code",
   "execution_count": 141,
   "id": "a60f920b",
   "metadata": {},
   "outputs": [],
   "source": [
    "fizzBuzz = \"Fizz\" if n % 3 ==0 else n"
   ]
  },
  {
   "cell_type": "code",
   "execution_count": 142,
   "id": "aa830baa",
   "metadata": {},
   "outputs": [
    {
     "data": {
      "text/plain": [
       "'Fizz'"
      ]
     },
     "execution_count": 142,
     "metadata": {},
     "output_type": "execute_result"
    }
   ],
   "source": [
    "fizzBuzz"
   ]
  },
  {
   "cell_type": "code",
   "execution_count": 143,
   "id": "e7a489ba",
   "metadata": {},
   "outputs": [
    {
     "data": {
      "text/plain": [
       "'Fizz'"
      ]
     },
     "execution_count": 143,
     "metadata": {},
     "output_type": "execute_result"
    }
   ],
   "source": [
    "\"Fizz\" if n % 3 == 0 else \"Buzz\" if n % 5 == 0 else n"
   ]
  },
  {
   "cell_type": "code",
   "execution_count": 144,
   "id": "f1395239",
   "metadata": {
    "scrolled": true
   },
   "outputs": [
    {
     "data": {
      "text/plain": [
       "[1,\n",
       " 2,\n",
       " 'Fizz',\n",
       " 4,\n",
       " 'Buzz',\n",
       " 'Fizz',\n",
       " 7,\n",
       " 8,\n",
       " 'Fizz',\n",
       " 'Buzz',\n",
       " 11,\n",
       " 'Fizz',\n",
       " 13,\n",
       " 14,\n",
       " 'Fizz',\n",
       " 16,\n",
       " 17,\n",
       " 'Fizz',\n",
       " 19,\n",
       " 'Buzz',\n",
       " 'Fizz',\n",
       " 22,\n",
       " 23,\n",
       " 'Fizz',\n",
       " 'Buzz',\n",
       " 26,\n",
       " 'Fizz',\n",
       " 28,\n",
       " 29,\n",
       " 'Fizz',\n",
       " 31,\n",
       " 32,\n",
       " 'Fizz',\n",
       " 34,\n",
       " 'Buzz',\n",
       " 'Fizz',\n",
       " 37,\n",
       " 38,\n",
       " 'Fizz',\n",
       " 'Buzz',\n",
       " 41,\n",
       " 'Fizz',\n",
       " 43,\n",
       " 44,\n",
       " 'Fizz',\n",
       " 46,\n",
       " 47,\n",
       " 'Fizz',\n",
       " 49,\n",
       " 'Buzz',\n",
       " 'Fizz',\n",
       " 52,\n",
       " 53,\n",
       " 'Fizz',\n",
       " 'Buzz',\n",
       " 56,\n",
       " 'Fizz',\n",
       " 58,\n",
       " 59,\n",
       " 'Fizz',\n",
       " 61,\n",
       " 62,\n",
       " 'Fizz',\n",
       " 64,\n",
       " 'Buzz',\n",
       " 'Fizz',\n",
       " 67,\n",
       " 68,\n",
       " 'Fizz',\n",
       " 'Buzz',\n",
       " 71,\n",
       " 'Fizz',\n",
       " 73,\n",
       " 74,\n",
       " 'Fizz',\n",
       " 76,\n",
       " 77,\n",
       " 'Fizz',\n",
       " 79,\n",
       " 'Buzz',\n",
       " 'Fizz',\n",
       " 82,\n",
       " 83,\n",
       " 'Fizz',\n",
       " 'Buzz',\n",
       " 86,\n",
       " 'Fizz',\n",
       " 88,\n",
       " 89,\n",
       " 'Fizz',\n",
       " 91,\n",
       " 92,\n",
       " 'Fizz',\n",
       " 94,\n",
       " 'Buzz',\n",
       " 'Fizz',\n",
       " 97,\n",
       " 98,\n",
       " 'Fizz',\n",
       " 'Buzz']"
      ]
     },
     "execution_count": 144,
     "metadata": {},
     "output_type": "execute_result"
    }
   ],
   "source": [
    "[\"Fizz\" if n % 3 == 0 else \"Buzz\" if n % 5 == 0 else n for n in range(1,101)]"
   ]
  },
  {
   "cell_type": "markdown",
   "id": "dabdedf4",
   "metadata": {},
   "source": [
    "#### While Loops"
   ]
  },
  {
   "cell_type": "code",
   "execution_count": 145,
   "id": "c90e6265",
   "metadata": {},
   "outputs": [],
   "source": [
    "from datetime import datetime"
   ]
  },
  {
   "cell_type": "code",
   "execution_count": 146,
   "id": "c82a487c",
   "metadata": {},
   "outputs": [
    {
     "data": {
      "text/plain": [
       "datetime.datetime(2024, 7, 22, 11, 46, 32, 683535)"
      ]
     },
     "execution_count": 146,
     "metadata": {},
     "output_type": "execute_result"
    }
   ],
   "source": [
    "datetime.now()"
   ]
  },
  {
   "cell_type": "code",
   "execution_count": 147,
   "id": "28e6c5b0",
   "metadata": {},
   "outputs": [
    {
     "data": {
      "text/plain": [
       "32"
      ]
     },
     "execution_count": 147,
     "metadata": {},
     "output_type": "execute_result"
    }
   ],
   "source": [
    "datetime.now().second"
   ]
  },
  {
   "cell_type": "code",
   "execution_count": 148,
   "id": "73810e2a",
   "metadata": {},
   "outputs": [
    {
     "name": "stdout",
     "output_type": "stream",
     "text": [
      "0 1 2 3 4 5 6 7 8 9 "
     ]
    }
   ],
   "source": [
    "a = 0; b = 10 ## initialized the a and b variables\n",
    "\n",
    "while a < b:\n",
    "    print(a, end=' ')\n",
    "    a += 1\n",
    "    continue"
   ]
  },
  {
   "cell_type": "markdown",
   "id": "74950f85",
   "metadata": {},
   "source": [
    "#### break, continue, pass and the Loop else"
   ]
  },
  {
   "cell_type": "markdown",
   "id": "cf8bae8a",
   "metadata": {},
   "source": [
    "In Python: \n",
    "    \n",
    "    - break Jumps out of the closest enclosing loop (past the entire loop statement)\n",
    "    - continue Jumps to the top of the closest enclosing loop (to the loop's header line)\n",
    "    - pass does nothing at ll, it's an empty statement placeholder\n",
    "    - Loop else block runs if and only if the loop is exited normally i.e without hitting a break                                                          "
   ]
  },
  {
   "cell_type": "markdown",
   "id": "0f6d5b92",
   "metadata": {},
   "source": [
    "break and continue statements can appear anywhere inside the while or for loop's body.\n",
    "\n",
    "They are usually coded further nested in an if test to take an action in reponse to some condition.\n",
    "\n"
   ]
  },
  {
   "cell_type": "code",
   "execution_count": 149,
   "id": "947aa206",
   "metadata": {},
   "outputs": [
    {
     "name": "stdout",
     "output_type": "stream",
     "text": [
      "8 6 4 2 0 "
     ]
    }
   ],
   "source": [
    "x = 10 \n",
    "\n",
    "while x:\n",
    "    x = x - 1\n",
    "    if x % 2 == 0: \n",
    "        print(x, end = ' ')"
   ]
  },
  {
   "cell_type": "code",
   "execution_count": 151,
   "id": "7a8cfdaf",
   "metadata": {},
   "outputs": [
    {
     "name": "stdout",
     "output_type": "stream",
     "text": [
      "Enter name STop\n"
     ]
    }
   ],
   "source": [
    "while True:\n",
    "    name = input(\"Enter name \")\n",
    "    name = name.lower()\n",
    "    if name == 'stop': break\n",
    "    age = input(\"Enter age: \")\n",
    "    print(\"Hello\", name.upper(), '=>', int(age) **2)       "
   ]
  },
  {
   "cell_type": "code",
   "execution_count": 152,
   "id": "121d143a",
   "metadata": {},
   "outputs": [
    {
     "name": "stdout",
     "output_type": "stream",
     "text": [
      "[0, 2, 4, 6, 8, 10, 12, 14, 16, 18, 20, 22, 24, 26, 28, 30, 32, 34, 36, 38, 40, 42, 44, 46, 48, 50, 52, 54, 56, 58, 60, 62, 64, 66, 68, 70, 72, 74, 76, 78, 80, 82, 84, 86, 88, 90, 92, 94, 96, 98, 100]\n"
     ]
    }
   ],
   "source": [
    "print([x for x in range (0,101) if x % 2 ==0])"
   ]
  },
  {
   "cell_type": "code",
   "execution_count": 153,
   "id": "d9de643f",
   "metadata": {},
   "outputs": [
    {
     "name": "stdout",
     "output_type": "stream",
     "text": [
      "[1, 3, 5, 7, 9, 11, 13, 15, 17, 19, 21, 23, 25, 27, 29, 31, 33, 35, 37, 39, 41, 43, 45, 47, 49, 51, 53, 55, 57, 59, 61, 63, 65, 67, 69, 71, 73, 75, 77, 79, 81, 83, 85, 87, 89, 91, 93, 95, 97, 99]\n"
     ]
    }
   ],
   "source": [
    "print([x for x in range (0, 101) if x % 2 != 0])"
   ]
  },
  {
   "cell_type": "code",
   "execution_count": 154,
   "id": "84ca3271",
   "metadata": {},
   "outputs": [
    {
     "data": {
      "text/plain": [
       "[2, 3, 4, 5, 6, 7, 8, 9, 10]"
      ]
     },
     "execution_count": 154,
     "metadata": {},
     "output_type": "execute_result"
    }
   ],
   "source": [
    "n = 11\n",
    "[x for x in range(2, 11) if n %x != 0]"
   ]
  },
  {
   "cell_type": "code",
   "execution_count": 155,
   "id": "469b1734",
   "metadata": {},
   "outputs": [
    {
     "name": "stdout",
     "output_type": "stream",
     "text": [
      "[5, 7, 9, 11, 13, 15, 17, 19]\n"
     ]
    }
   ],
   "source": [
    "def is_prime(n):\n",
    "    if n <= 1:\n",
    "        return False\n",
    "    for i in range(2, int(n ** 0.5) + 1):\n",
    "        if n % i == 0:\n",
    "            return False\n",
    "        return True\n",
    "\n",
    "primes = []\n",
    "for num in range(20):\n",
    "    if is_prime(num):\n",
    "        primes.append(num)\n",
    "        \n",
    "print(primes)"
   ]
  },
  {
   "cell_type": "code",
   "execution_count": 160,
   "id": "fa595a55",
   "metadata": {},
   "outputs": [
    {
     "name": "stdout",
     "output_type": "stream",
     "text": [
      "[5, 7, 9, 11, 13, 15, 17, 19, 21, 23, 25, 27, 29, 31, 33, 35, 37, 39, 41, 43, 45, 47, 49]\n"
     ]
    }
   ],
   "source": [
    "def is_prime_no(n):\n",
    "    if n <= 1:\n",
    "        return False\n",
    "    for i in range(2, int(n ** 0.5) + 1):\n",
    "        if n % i == 0:\n",
    "            return False\n",
    "        return True\n",
    "    \n",
    "primes = []\n",
    "for num in range(50):\n",
    "    if is_prime_no(num):\n",
    "        primes.append(num)\n",
    "        \n",
    "print(primes)"
   ]
  },
  {
   "cell_type": "code",
   "execution_count": 161,
   "id": "fb1eb3a7",
   "metadata": {},
   "outputs": [
    {
     "name": "stdout",
     "output_type": "stream",
     "text": [
      "11  is a prime number\n"
     ]
    }
   ],
   "source": [
    "y = 11\n",
    "\n",
    "x = y//2\n",
    "\n",
    "while x > 1:\n",
    "    if y % x == 0:\n",
    "        print(\"Not a prime number\")\n",
    "        break\n",
    "    x -= 1\n",
    "else:\n",
    "    print(y,' is a prime number')"
   ]
  },
  {
   "cell_type": "code",
   "execution_count": 162,
   "id": "37c778d4",
   "metadata": {},
   "outputs": [
    {
     "data": {
      "text/plain": [
       "5"
      ]
     },
     "execution_count": 162,
     "metadata": {},
     "output_type": "execute_result"
    }
   ],
   "source": [
    "11//2"
   ]
  },
  {
   "cell_type": "code",
   "execution_count": 163,
   "id": "0adc2c4b",
   "metadata": {},
   "outputs": [
    {
     "name": "stdout",
     "output_type": "stream",
     "text": [
      "a : ['bear', 'dog', 'tree']\n",
      "b : ['cat']\n",
      "c : ['Tiger', 'Wolf']\n"
     ]
    }
   ],
   "source": [
    "animalLookUp = {\n",
    "    'a': ['bear','dog','tree'],\n",
    "    'b' : ['cat'],\n",
    "    'c' : ['Tiger','Wolf']\n",
    "}\n",
    "\n",
    "for letter, animals in animalLookUp.items():\n",
    "    print(f\"{letter} : {animals}\")"
   ]
  },
  {
   "cell_type": "code",
   "execution_count": 164,
   "id": "00e78bd5",
   "metadata": {},
   "outputs": [
    {
     "name": "stdout",
     "output_type": "stream",
     "text": [
      "only one animal! ['cat']\n"
     ]
    }
   ],
   "source": [
    "for letter, animals in animalLookUp.items():\n",
    "    if len(animals) > 1:\n",
    "        continue\n",
    "    print(f'only one animal! {animals}')    \n",
    "    "
   ]
  },
  {
   "cell_type": "code",
   "execution_count": 165,
   "id": "c7301a80",
   "metadata": {},
   "outputs": [
    {
     "name": "stdout",
     "output_type": "stream",
     "text": [
      "Found 2 animals: ['Tiger', 'Wolf']\n"
     ]
    }
   ],
   "source": [
    "## break will stop at the first instance of a matched condition\n",
    "\n",
    "for letter, animal in animalLookUp.items():\n",
    "    if len(animals) > 1:\n",
    "        print(f'Found {len(animals)} animals: {animals}')\n",
    "        break"
   ]
  },
  {
   "cell_type": "markdown",
   "id": "18244d46",
   "metadata": {},
   "source": [
    "#### For/Else"
   ]
  },
  {
   "cell_type": "code",
   "execution_count": 166,
   "id": "8160ca42",
   "metadata": {},
   "outputs": [
    {
     "name": "stdout",
     "output_type": "stream",
     "text": [
      "2 is prime !\n",
      "3 is prime !\n",
      "5 is prime !\n",
      "7 is prime !\n",
      "11 is prime !\n",
      "13 is prime !\n",
      "17 is prime !\n",
      "19 is prime !\n",
      "23 is prime !\n",
      "29 is prime !\n",
      "31 is prime !\n",
      "37 is prime !\n",
      "41 is prime !\n",
      "43 is prime !\n",
      "47 is prime !\n",
      "53 is prime !\n",
      "59 is prime !\n",
      "61 is prime !\n",
      "67 is prime !\n",
      "71 is prime !\n",
      "73 is prime !\n",
      "79 is prime !\n",
      "83 is prime !\n",
      "89 is prime !\n",
      "97 is prime !\n"
     ]
    }
   ],
   "source": [
    "for number in range(2, 100):\n",
    "    for factor in range(2, int(number ** 0.5) + 1):\n",
    "        if number % factor == 0:\n",
    "            break\n",
    "    else:\n",
    "        print(f'{ number} is prime !')"
   ]
  },
  {
   "cell_type": "code",
   "execution_count": 167,
   "id": "d575a020",
   "metadata": {},
   "outputs": [
    {
     "data": {
      "text/plain": [
       "[1, 'Monty', 'Python', 'Monty', 5, 'Monty Python', 7, 'Monty', 'Python']"
      ]
     },
     "execution_count": 167,
     "metadata": {},
     "output_type": "execute_result"
    }
   ],
   "source": [
    "['Monty Python' if n % 6 == 0 else 'Python' if n % 3 == 0 else 'Monty' if n % 2 == 0 else n for n in range(1, 10)]"
   ]
  },
  {
   "cell_type": "code",
   "execution_count": 168,
   "id": "30d23ffe",
   "metadata": {},
   "outputs": [
    {
     "name": "stdout",
     "output_type": "stream",
     "text": [
      "1\n",
      "2\n",
      "3\n",
      "4\n",
      "5\n",
      "6\n",
      "7\n",
      "8\n",
      "9\n",
      "10\n",
      "11\n"
     ]
    }
   ],
   "source": [
    "for n in range(1,12):\n",
    "    print(n)"
   ]
  },
  {
   "cell_type": "code",
   "execution_count": 169,
   "id": "64631353",
   "metadata": {},
   "outputs": [
    {
     "name": "stdout",
     "output_type": "stream",
     "text": [
      "Test\n"
     ]
    }
   ],
   "source": [
    "for n in range(1,9):\n",
    "    if n % 10 == 0:\n",
    "        break\n",
    "else:\n",
    "    print(\"Test\")"
   ]
  },
  {
   "cell_type": "markdown",
   "id": "b57deb09",
   "metadata": {},
   "source": [
    "## Functions"
   ]
  },
  {
   "cell_type": "code",
   "execution_count": 170,
   "id": "2726274b",
   "metadata": {
    "scrolled": true
   },
   "outputs": [
    {
     "data": {
      "text/plain": [
       "13"
      ]
     },
     "execution_count": 170,
     "metadata": {},
     "output_type": "execute_result"
    }
   ],
   "source": [
    "def performOperation(num1, num2, operation):\n",
    "    if operation == 'sum':\n",
    "        return num1 + num2\n",
    "    if operation == 'multiply':\n",
    "        return num1 * num2\n",
    "    if operation == 'divide':\n",
    "        return num1 / num2\n",
    "    if operation == 'subtract':\n",
    "        return num1 - num2\n",
    "    \n",
    "performOperation(6,7, 'sum')    "
   ]
  },
  {
   "cell_type": "markdown",
   "id": "7b3692c7",
   "metadata": {},
   "source": [
    "### Named Parameters"
   ]
  },
  {
   "cell_type": "markdown",
   "id": "dbc824ac",
   "metadata": {},
   "source": [
    "#### Keyword arguments have to come after positional arguments in Python"
   ]
  },
  {
   "cell_type": "code",
   "execution_count": 171,
   "id": "c4fa724a",
   "metadata": {},
   "outputs": [
    {
     "name": "stdout",
     "output_type": "stream",
     "text": [
      "A divide operation\n"
     ]
    },
    {
     "data": {
      "text/plain": [
       "0.8571428571428571"
      ]
     },
     "execution_count": 171,
     "metadata": {},
     "output_type": "execute_result"
    }
   ],
   "source": [
    "def performOperation(num1, num2, operation = \"sum\", message=\"Default is sum\"):\n",
    "    print(message)\n",
    "    if operation == 'sum':\n",
    "        return num1 + num2\n",
    "    if operation == 'multiply':\n",
    "        return num1 * num2\n",
    "    if operation == 'divide':\n",
    "        return num1 / num2\n",
    "    if operation == 'subtract':\n",
    "        return num1 - num2\n",
    "    \n",
    "performOperation(6,7,operation = 'divide', message=\"A divide operation\")    "
   ]
  },
  {
   "cell_type": "markdown",
   "id": "382ea832",
   "metadata": {},
   "source": [
    "#### After the positional arguments, the keyword arguments can be in any order"
   ]
  },
  {
   "cell_type": "markdown",
   "id": "a3af2aa4",
   "metadata": {},
   "source": [
    "### *args"
   ]
  },
  {
   "cell_type": "code",
   "execution_count": 173,
   "id": "b83362d3",
   "metadata": {},
   "outputs": [
    {
     "name": "stdout",
     "output_type": "stream",
     "text": [
      "(1, 2, 3)\n"
     ]
    }
   ],
   "source": [
    "def performOperations(*args):\n",
    "    print(args)\n",
    "    \n",
    "performOperations(1,2,3)"
   ]
  },
  {
   "cell_type": "markdown",
   "id": "806a9706",
   "metadata": {},
   "source": [
    "- *args are applicable for any unprecedented number of positional arguments"
   ]
  },
  {
   "cell_type": "markdown",
   "id": "33d40c8d",
   "metadata": {},
   "source": [
    "### **kwargs"
   ]
  },
  {
   "cell_type": "code",
   "execution_count": 174,
   "id": "724ed115",
   "metadata": {},
   "outputs": [
    {
     "name": "stdout",
     "output_type": "stream",
     "text": [
      "(1, 2, 3)\n",
      "{'operations': ['sum', 'divide']}\n"
     ]
    }
   ],
   "source": [
    "def performOperations(*args, **kwargs):\n",
    "    print(args)\n",
    "    print(kwargs)\n",
    "    \n",
    "performOperations(1,2,3, operations=[\"sum\",\"divide\"])"
   ]
  },
  {
   "cell_type": "code",
   "execution_count": 179,
   "id": "90050b2c",
   "metadata": {},
   "outputs": [],
   "source": [
    "import math"
   ]
  },
  {
   "cell_type": "code",
   "execution_count": 182,
   "id": "54895746",
   "metadata": {},
   "outputs": [
    {
     "data": {
      "text/plain": [
       "-7.0"
      ]
     },
     "execution_count": 182,
     "metadata": {},
     "output_type": "execute_result"
    }
   ],
   "source": [
    "y = 90\n",
    "h = 97\n",
    "math.remainder(y,h)"
   ]
  },
  {
   "cell_type": "code",
   "execution_count": 186,
   "id": "ca871a27",
   "metadata": {},
   "outputs": [],
   "source": [
    "def performMath(*args, operation = 'sum'):\n",
    "    x = locals()\n",
    "    print(args)\n",
    "    print(x.items())\n",
    "    if operation == 'sum':\n",
    "        return sum(args)\n",
    "    if operation == 'multiply':\n",
    "        return math.prod(args)\n",
    "    if operation == \"subtract\":\n",
    "        return math.remainder(args)"
   ]
  },
  {
   "cell_type": "code",
   "execution_count": 187,
   "id": "3cf48ab4",
   "metadata": {},
   "outputs": [
    {
     "name": "stdout",
     "output_type": "stream",
     "text": [
      "(2, 4)\n",
      "dict_items([('operation', 'sum'), ('args', (2, 4))])\n"
     ]
    },
    {
     "data": {
      "text/plain": [
       "6"
      ]
     },
     "execution_count": 187,
     "metadata": {},
     "output_type": "execute_result"
    }
   ],
   "source": [
    "performMath(2,4, operation=\"sum\")"
   ]
  },
  {
   "cell_type": "code",
   "execution_count": 194,
   "id": "7554ef16",
   "metadata": {},
   "outputs": [
    {
     "name": "stdout",
     "output_type": "stream",
     "text": [
      "[90, 8]\n"
     ]
    }
   ],
   "source": [
    "y = (90,8)\n",
    "u = []\n",
    "for i in y:\n",
    "    u.append(i)\n",
    "print(u)"
   ]
  },
  {
   "cell_type": "markdown",
   "id": "cea8bc51",
   "metadata": {},
   "source": [
    "##### globals() and locals() can be used to get the local variables and global variables"
   ]
  },
  {
   "cell_type": "markdown",
   "id": "8ebc6f83",
   "metadata": {},
   "source": [
    "- Python searches for variables in the local scope first before searching for it's definition in the global scope."
   ]
  },
  {
   "cell_type": "code",
   "execution_count": 199,
   "id": "fb870706",
   "metadata": {},
   "outputs": [],
   "source": [
    "text = '''\n",
    "Beautiful is better than ugly.\n",
    "Explicit is better than implicit.\n",
    "Simple is better than complex.\n",
    "Complex is better than complicated.\n",
    "Flat is better than nested.\n",
    "Sparse is better than dense.\n",
    "Readability counts.\n",
    "Special cases aren't special enough to break the rules.\n",
    "Although practicality beats purity.\n",
    "Errors should never pass silently.\n",
    "Unless explicitly silenced.\n",
    "In the face of ambiguity, refuse the temptation to guess.\n",
    "There should be one-- and preferably only one --obvious way to do it.\n",
    "Although that way may not be obvious at first unless you're Dutch.\n",
    "Now is better than never.\n",
    "Although never is often better than *right* now.\n",
    "If the implementation is hard to explain, it's a bad idea.\n",
    "If the implementation is easy to explain, it may be a good idea.\n",
    "Namespaces are one honking great idea -- let's do more of those!\n",
    "'''"
   ]
  },
  {
   "cell_type": "code",
   "execution_count": 200,
   "id": "f5de070f",
   "metadata": {},
   "outputs": [],
   "source": [
    "def lowercase(text):\n",
    "    return text.lower()\n",
    "\n",
    "def removePunctuation(text):\n",
    "    punctuations = ['.','-','/','!',':',';','*']\n",
    "    for punctuation in punctuations:\n",
    "        text = text.replace(punctuation,'')\n",
    "    return text\n",
    "\n",
    "def removeNewLines(text):\n",
    "    text  = text.replace('\\n',' ')\n",
    "    return text\n",
    "\n",
    "def removeShortWords(text):\n",
    "    return ' '.join([word for word in text.split() if len(word) > 3])\n",
    "\n",
    "def removeLongWords(text):\n",
    "    return ' '.join([word for word in text.split() if len(word) < 6]) "
   ]
  },
  {
   "cell_type": "code",
   "execution_count": 201,
   "id": "4fe0b5dc",
   "metadata": {},
   "outputs": [
    {
     "name": "stdout",
     "output_type": "stream",
     "text": [
      "beautiful better than ugly explicit better than implicit simple better than complex complex better than complicated flat better than nested sparse better than dense readability counts special cases aren't special enough break rules although practicality beats purity errors should never pass silently unless explicitly silenced face ambiguity, refuse temptation guess there should preferably only obvious although that obvious first unless you're dutch better than never although never often better than right implementation hard explain, it's idea implementation easy explain, good idea namespaces honking great idea let's more those\n"
     ]
    }
   ],
   "source": [
    "processors = [lowercase, removePunctuation, removeNewLines,removeShortWords]\n",
    "for func in processors:\n",
    "    text = func(text)\n",
    "print(text)"
   ]
  },
  {
   "cell_type": "code",
   "execution_count": 202,
   "id": "27f18036",
   "metadata": {},
   "outputs": [],
   "source": [
    "def triangle(num):\n",
    "    if num == 1:\n",
    "        return num\n",
    "    return num + triangle(num - 1) ## recursive function"
   ]
  },
  {
   "cell_type": "code",
   "execution_count": 203,
   "id": "83fa190b",
   "metadata": {},
   "outputs": [
    {
     "data": {
      "text/plain": [
       "6"
      ]
     },
     "execution_count": 203,
     "metadata": {},
     "output_type": "execute_result"
    }
   ],
   "source": [
    "triangle(3)"
   ]
  },
  {
   "cell_type": "code",
   "execution_count": 204,
   "id": "62e03569",
   "metadata": {},
   "outputs": [],
   "source": [
    "def square(num):\n",
    "    if num == 1:\n",
    "        return num\n",
    "    return triangle(num) + triangle(num - 1)"
   ]
  },
  {
   "cell_type": "code",
   "execution_count": 205,
   "id": "9dfe4fdf",
   "metadata": {},
   "outputs": [
    {
     "data": {
      "text/plain": [
       "25"
      ]
     },
     "execution_count": 205,
     "metadata": {},
     "output_type": "execute_result"
    }
   ],
   "source": [
    "square(5)"
   ]
  },
  {
   "cell_type": "markdown",
   "id": "fe0f2b88",
   "metadata": {},
   "source": [
    "### Lambda functions"
   ]
  },
  {
   "cell_type": "code",
   "execution_count": null,
   "id": "69349c27",
   "metadata": {},
   "outputs": [],
   "source": []
  },
  {
   "cell_type": "markdown",
   "id": "bed429aa",
   "metadata": {},
   "source": [
    "## Classes"
   ]
  },
  {
   "cell_type": "code",
   "execution_count": 206,
   "id": "b4c7c509",
   "metadata": {},
   "outputs": [],
   "source": [
    "class WordSet:\n",
    "    def __init__(self):\n",
    "        self.words = set()\n",
    "        \n",
    "    def addText(self, text):\n",
    "        text = self.cleanText(text)\n",
    "        for word in text.split():\n",
    "            self.words.add(word)\n",
    "            \n",
    "        \n",
    "    def cleanText(self,text):\n",
    "        punctuations = [',','!','%',';','*','&','$','/','.']\n",
    "        for punctuation in punctuations:\n",
    "            text = text.replace(punctuation,'')\n",
    "        return text.lower()\n",
    "    "
   ]
  },
  {
   "cell_type": "code",
   "execution_count": 207,
   "id": "a2b45b8f",
   "metadata": {},
   "outputs": [],
   "source": [
    "wordset = WordSet()\n",
    "wordset.addText('This is KES. currency not & !')\n",
    "wordset.addText('This is also a new current type! /')"
   ]
  },
  {
   "cell_type": "code",
   "execution_count": 208,
   "id": "e4a28fd6",
   "metadata": {},
   "outputs": [
    {
     "data": {
      "text/plain": [
       "{'a', 'also', 'currency', 'current', 'is', 'kes', 'new', 'not', 'this', 'type'}"
      ]
     },
     "execution_count": 208,
     "metadata": {},
     "output_type": "execute_result"
    }
   ],
   "source": [
    "wordset.words"
   ]
  },
  {
   "cell_type": "code",
   "execution_count": null,
   "id": "57ae294c",
   "metadata": {},
   "outputs": [],
   "source": []
  },
  {
   "cell_type": "code",
   "execution_count": 209,
   "id": "61a66423",
   "metadata": {},
   "outputs": [],
   "source": [
    "class Dog:\n",
    "    _legs = 4\n",
    "    def __init__(self, name):\n",
    "        self.name = name\n",
    "        \n",
    "    def  getLegs(self):\n",
    "        return self._legs\n",
    "    \n",
    "    def speak(self):\n",
    "        print(f'{self.name} says: Bark Bark!')\n",
    "    \n",
    "    \n",
    "class Chihuahua(Dog): ## inheriting th parent class\n",
    "    \n",
    "    def __init__(self, name, hairy): ## add hairy as a parameter\n",
    "        super().__init__(name) ## initialize with the parent class method first\n",
    "        self.hairy = hairy\n",
    "        \n",
    "    def speak(self): ## extending methods of the parent class\n",
    "        print(f'{ self.name} says: Yap Yap!')\n",
    "        \n",
    "    def wagTail(self):\n",
    "        print('Vigorous tail wagging!')  \n",
    "        \n",
    "    def getHair(self):\n",
    "        if self.hairy:\n",
    "            print(\"Hairy Chihuahua\")"
   ]
  },
  {
   "cell_type": "code",
   "execution_count": 210,
   "id": "1f2c3546",
   "metadata": {},
   "outputs": [],
   "source": [
    "rex = Chihuahua(\"Rex\", True)"
   ]
  },
  {
   "cell_type": "code",
   "execution_count": 211,
   "id": "bcba5110",
   "metadata": {},
   "outputs": [
    {
     "name": "stdout",
     "output_type": "stream",
     "text": [
      "Hairy Chihuahua\n"
     ]
    }
   ],
   "source": [
    "rex.getHair()"
   ]
  },
  {
   "cell_type": "code",
   "execution_count": null,
   "id": "a6628dab",
   "metadata": {},
   "outputs": [],
   "source": []
  },
  {
   "cell_type": "code",
   "execution_count": 212,
   "id": "bb32c744",
   "metadata": {},
   "outputs": [],
   "source": [
    "class Shape:\n",
    "    width = 5\n",
    "    height = 4\n",
    "    printChar  = \"#\"\n",
    "    \n",
    "    def printRow(self, i):\n",
    "        raise NotImplementedError(\"Will be implelemented by child classes\")\n",
    "        \n",
    "    def print(self):\n",
    "        for i in range(self.width):\n",
    "            self.printRow(i)\n",
    "\n",
    "            \n",
    "class Square(Shape):\n",
    "    def printRow(self, i):\n",
    "        print(self.printChar * self.width)\n",
    "        \n",
    "class Triangle(Shape):\n",
    "    def printRow(self, i):\n",
    "        print(self.printChar * (i + 1))\n",
    "        \n",
    "class Symetric(Shape):\n",
    "    height = 5\n",
    "    width = 2 * height\n",
    "    def printRow(self, i):\n",
    "        triangleWidth = i * 2 + 1\n",
    "        padding = int((self.width - triangleWidth)/2)\n",
    "        print(' '*padding + self.printChar * triangleWidth)\n",
    "        "
   ]
  },
  {
   "cell_type": "code",
   "execution_count": 213,
   "id": "c60059c9",
   "metadata": {},
   "outputs": [
    {
     "name": "stdout",
     "output_type": "stream",
     "text": [
      "#####\n",
      "#####\n",
      "#####\n",
      "#####\n",
      "#####\n"
     ]
    }
   ],
   "source": [
    "square = Square()\n",
    "square.print()"
   ]
  },
  {
   "cell_type": "code",
   "execution_count": 214,
   "id": "f6619b74",
   "metadata": {},
   "outputs": [
    {
     "name": "stdout",
     "output_type": "stream",
     "text": [
      "#\n",
      "##\n",
      "###\n",
      "####\n",
      "#####\n"
     ]
    }
   ],
   "source": [
    "triangle = Triangle()\n",
    "triangle.print()"
   ]
  },
  {
   "cell_type": "code",
   "execution_count": 215,
   "id": "23a6f6dc",
   "metadata": {},
   "outputs": [
    {
     "name": "stdout",
     "output_type": "stream",
     "text": [
      "    #\n",
      "   ###\n",
      "  #####\n",
      " #######\n",
      "#########\n",
      "###########\n",
      "#############\n",
      "###############\n",
      "#################\n",
      "###################\n"
     ]
    }
   ],
   "source": [
    "tri = Symetric()\n",
    "tri.print()"
   ]
  },
  {
   "cell_type": "markdown",
   "id": "2300fcf3",
   "metadata": {},
   "source": [
    "### Build Up On clas and functions"
   ]
  },
  {
   "cell_type": "markdown",
   "id": "c055220b",
   "metadata": {},
   "source": [
    "Code a function that is able to compute the **minimum** value from an arbitrary set of arguments\n",
    "and an arbitrary set of object data types.\n",
    "\n",
    "The function should accept zero or even more arguments.\n",
    "\n",
    "The function should work with any kind of Python data types i.e String, list, numbers, dicts\n",
    "\n"
   ]
  },
  {
   "cell_type": "code",
   "execution_count": 216,
   "id": "e99acf5c",
   "metadata": {},
   "outputs": [],
   "source": [
    "def min1(*args):\n",
    "    res = args[0]\n",
    "    for arg in args[1:]:\n",
    "        if arg < res:\n",
    "            res = arg\n",
    "    return res"
   ]
  },
  {
   "cell_type": "code",
   "execution_count": 217,
   "id": "38b37fd5",
   "metadata": {},
   "outputs": [
    {
     "data": {
      "text/plain": [
       "7"
      ]
     },
     "execution_count": 217,
     "metadata": {},
     "output_type": "execute_result"
    }
   ],
   "source": [
    "min1(7,8,9,9)"
   ]
  },
  {
   "cell_type": "code",
   "execution_count": 218,
   "id": "c0cac113",
   "metadata": {},
   "outputs": [],
   "source": [
    "def min2(first, *rest):\n",
    "    for arg in rest:\n",
    "        if arg < first:\n",
    "            first = arg\n",
    "    return first        "
   ]
  },
  {
   "cell_type": "code",
   "execution_count": 219,
   "id": "3f1bfad9",
   "metadata": {},
   "outputs": [],
   "source": [
    "def min3(*args):\n",
    "    tmp = list(args)\n",
    "    tmp.sort()\n",
    "    return tmp[0]"
   ]
  },
  {
   "cell_type": "code",
   "execution_count": 220,
   "id": "d305e5ec",
   "metadata": {},
   "outputs": [
    {
     "data": {
      "text/plain": [
       "4"
      ]
     },
     "execution_count": 220,
     "metadata": {},
     "output_type": "execute_result"
    }
   ],
   "source": [
    "min3(9,6,22,4)"
   ]
  },
  {
   "cell_type": "code",
   "execution_count": 221,
   "id": "e0291a04",
   "metadata": {},
   "outputs": [],
   "source": [
    "def intersect(*args):\n",
    "    res = [] ## initialize an empty list\n",
    "    for x in args[0]:\n",
    "        for other in args[1:]:\n",
    "            if x not in other: \n",
    "                break\n",
    "        else:\n",
    "            res.append(x)\n",
    "    return res\n",
    "\n",
    "def union(*args):\n",
    "    res = []\n",
    "    for seq in args:\n",
    "        for x in seq:\n",
    "            if not x in res:\n",
    "                res.append(x)\n",
    "    return res            "
   ]
  },
  {
   "cell_type": "markdown",
   "id": "d76062cc",
   "metadata": {},
   "source": [
    "#### Recursive functions"
   ]
  },
  {
   "cell_type": "code",
   "execution_count": 222,
   "id": "a77a4a6d",
   "metadata": {},
   "outputs": [],
   "source": [
    "def mySum(L):\n",
    "    print(L)\n",
    "    if not L:\n",
    "        return 0\n",
    "    else:\n",
    "        return L[0] + mySum(L[1:])"
   ]
  },
  {
   "cell_type": "code",
   "execution_count": 223,
   "id": "a050ab3d",
   "metadata": {},
   "outputs": [
    {
     "name": "stdout",
     "output_type": "stream",
     "text": [
      "[34, 56, 78]\n",
      "[56, 78]\n",
      "[78]\n",
      "[]\n"
     ]
    },
    {
     "data": {
      "text/plain": [
       "168"
      ]
     },
     "execution_count": 223,
     "metadata": {},
     "output_type": "execute_result"
    }
   ],
   "source": [
    "L = [34,56,78]\n",
    "mySum(L)"
   ]
  },
  {
   "cell_type": "markdown",
   "id": "ce9605e0",
   "metadata": {},
   "source": [
    "- Sometimes it's generally easier to use a loop i.e while or for loop instead of a recursive function"
   ]
  },
  {
   "cell_type": "code",
   "execution_count": 224,
   "id": "e4ee49f1",
   "metadata": {},
   "outputs": [
    {
     "name": "stdout",
     "output_type": "stream",
     "text": [
      "21\n"
     ]
    }
   ],
   "source": [
    "L = [3,5,6,7]\n",
    "sum = 0\n",
    "while L:\n",
    "    sum += L[0]\n",
    "    L = L[1:]\n",
    "print(sum)    "
   ]
  },
  {
   "cell_type": "markdown",
   "id": "c91dfe22",
   "metadata": {},
   "source": [
    "Recursive functions are good at handling arbitrary structures of data for example a nested list i.e:\n",
    "    \n",
    "    [1, 3, [45, 90, [8, 0, 7]], 9, 12, [1,2,3]]\n",
    "   \n",
    "In such a case, loops will not work because it's not a linear iteration.\n",
    "    "
   ]
  },
  {
   "cell_type": "code",
   "execution_count": 225,
   "id": "bf83b0ba",
   "metadata": {},
   "outputs": [],
   "source": [
    "def sumtree(L):\n",
    "    total = 0 ## initialize the total\n",
    "    for item in L: ## loop through the list object\n",
    "        if not isinstance(item, list): ## check if item in the list is a list object\n",
    "            total += item ## add it directly if it's not\n",
    "        else:\n",
    "            total += sumtree(item) ## call the function on the item if it's a list\n",
    "    return total        "
   ]
  },
  {
   "cell_type": "code",
   "execution_count": 226,
   "id": "b1cd9bf5",
   "metadata": {},
   "outputs": [
    {
     "name": "stdout",
     "output_type": "stream",
     "text": [
      "519\n"
     ]
    }
   ],
   "source": [
    "L = [34,89, [9,7,33, [89,90]], 90, 78]\n",
    "tots = sumtree(L)\n",
    "print(tots)"
   ]
  },
  {
   "cell_type": "markdown",
   "id": "f388c52d",
   "metadata": {},
   "source": [
    "##### write a code to unpack an arbitrarily nested list object into a single list object"
   ]
  },
  {
   "cell_type": "code",
   "execution_count": 227,
   "id": "52289656",
   "metadata": {},
   "outputs": [],
   "source": [
    "def sortNested(L):\n",
    "    res = [] ## empty list\n",
    "    for x in L: \n",
    "        if not isinstance(x, list): ## check if the item is a list\n",
    "            res.append(x)  ## add the item to res if it's not a list\n",
    "        else:\n",
    "            res.extend(sortNested(x)) ## .extend() method is used instead of .append() because it can flatten the iterable and add it to the list directly\n",
    "    return sorted(res)"
   ]
  },
  {
   "cell_type": "code",
   "execution_count": 228,
   "id": "85aaeb97",
   "metadata": {},
   "outputs": [
    {
     "data": {
      "text/plain": [
       "[7, 9, 33, 34, 78, 89, 89, 90, 90]"
      ]
     },
     "execution_count": 228,
     "metadata": {},
     "output_type": "execute_result"
    }
   ],
   "source": [
    "sortNested(L)"
   ]
  },
  {
   "cell_type": "code",
   "execution_count": 229,
   "id": "92df5ab4",
   "metadata": {},
   "outputs": [
    {
     "data": {
      "text/plain": [
       "'sortNested'"
      ]
     },
     "execution_count": 229,
     "metadata": {},
     "output_type": "execute_result"
    }
   ],
   "source": [
    "sortNested.__name__"
   ]
  },
  {
   "cell_type": "markdown",
   "id": "24ec754a",
   "metadata": {},
   "source": [
    "#### Lambda expressions:Anonymous functions"
   ]
  },
  {
   "cell_type": "code",
   "execution_count": 230,
   "id": "b0624808",
   "metadata": {},
   "outputs": [
    {
     "data": {
      "text/plain": [
       "25"
      ]
     },
     "execution_count": 230,
     "metadata": {},
     "output_type": "execute_result"
    }
   ],
   "source": [
    "def func(x, y,z): \n",
    "    return x + y + z\n",
    "\n",
    "func(8,9,8)"
   ]
  },
  {
   "cell_type": "code",
   "execution_count": 231,
   "id": "d8c8f6d6",
   "metadata": {},
   "outputs": [
    {
     "data": {
      "text/plain": [
       "25"
      ]
     },
     "execution_count": 231,
     "metadata": {},
     "output_type": "execute_result"
    }
   ],
   "source": [
    "f = lambda x,y,z : x + y + z\n",
    "f(8, 9,8)"
   ]
  },
  {
   "cell_type": "markdown",
   "id": "5264532f",
   "metadata": {},
   "source": [
    "- The f, is assigned the function object the lambda expression creates."
   ]
  },
  {
   "cell_type": "markdown",
   "id": "677b9b86",
   "metadata": {},
   "source": [
    "##### mapping functions over sequences"
   ]
  },
  {
   "cell_type": "code",
   "execution_count": 232,
   "id": "ba3db2c1",
   "metadata": {},
   "outputs": [
    {
     "data": {
      "text/plain": [
       "[25, 30, 112]"
      ]
     },
     "execution_count": 232,
     "metadata": {},
     "output_type": "execute_result"
    }
   ],
   "source": [
    "def inc(x):\n",
    "    return x + 22\n",
    "\n",
    "ls = [3,8,90]\n",
    "list(map(inc, ls))"
   ]
  },
  {
   "cell_type": "code",
   "execution_count": 233,
   "id": "4990aa5e",
   "metadata": {},
   "outputs": [
    {
     "data": {
      "text/plain": [
       "[13, 18, 100]"
      ]
     },
     "execution_count": 233,
     "metadata": {},
     "output_type": "execute_result"
    }
   ],
   "source": [
    "list(map(lambda x: x + 10, ls))"
   ]
  },
  {
   "cell_type": "markdown",
   "id": "ffc1d585",
   "metadata": {},
   "source": [
    "#### Filter and reduce"
   ]
  },
  {
   "cell_type": "markdown",
   "id": "d3ec2945",
   "metadata": {},
   "source": [
    "- filter: filters out items from a list o sequence based on a test function\n",
    "- reduce : apply finctions to pairs of items and running results"
   ]
  },
  {
   "cell_type": "markdown",
   "id": "9e6afb98",
   "metadata": {},
   "source": [
    "For example, the filter below picks out items in a sequence that are greater than zero, both\n",
    "require a list call to display their results: "
   ]
  },
  {
   "cell_type": "code",
   "execution_count": 234,
   "id": "13e61daa",
   "metadata": {},
   "outputs": [
    {
     "data": {
      "text/plain": [
       "[1, 2, 3, 4]"
      ]
     },
     "execution_count": 234,
     "metadata": {},
     "output_type": "execute_result"
    }
   ],
   "source": [
    "list(filter((lambda x: x > 0), range(-5, 5)))"
   ]
  },
  {
   "cell_type": "markdown",
   "id": "15ede248",
   "metadata": {},
   "source": [
    "- Reduce returns a single result and it's not an iterator itself"
   ]
  },
  {
   "cell_type": "code",
   "execution_count": 235,
   "id": "19819416",
   "metadata": {},
   "outputs": [
    {
     "data": {
      "text/plain": [
       "235"
      ]
     },
     "execution_count": 235,
     "metadata": {},
     "output_type": "execute_result"
    }
   ],
   "source": [
    "from functools import reduce\n",
    "\n",
    "reduce((lambda x, y: x + y), [67, 90, 78])"
   ]
  },
  {
   "cell_type": "raw",
   "id": "384be8a1",
   "metadata": {},
   "source": [
    " The __name__ and __main__ features"
   ]
  },
  {
   "cell_type": "code",
   "execution_count": null,
   "id": "823ffde9",
   "metadata": {},
   "outputs": [],
   "source": [
    "def commas(N):\n",
    "    \"\"\"\n",
    "    format positive integer-like N for display with commas between digit\n",
    "    between digit groupings: xxx, yyy, zzz\n",
    "    \"\"\"\n",
    "    digits = str(N)\n",
    "    assert(digits.isdigit())\n",
    "    result = ''\n",
    "    while digits:\n",
    "        digits, last3 = digits[:-3], digits[-3:]\n",
    "        result = (last3 + ',' +result) if result else last3\n",
    "    return result\n",
    "\n",
    "def money(N, width = 0):\n",
    "    \"\"\"\n",
    "    format number N for display with commas, 3 decimal digits,\n",
    "    leading $ and sign, and optional: $ -xxx,yyy.zz \n",
    "    \"\"\"\n",
    "    sign = '-' if N < 0 else ''\n",
    "    N = abs(N)\n",
    "    whole = commas(int(N))\n",
    "    fract = ('%.2f' % N)[-2:]\n",
    "    format = '%s%s.%s' %  (sign, whole, frac)\n",
    "    return '$%s' % (width, format)\n",
    "\n",
    "        "
   ]
  },
  {
   "cell_type": "code",
   "execution_count": null,
   "id": "6d66307a",
   "metadata": {},
   "outputs": [],
   "source": []
  },
  {
   "cell_type": "code",
   "execution_count": 240,
   "id": "28b71e9b",
   "metadata": {},
   "outputs": [],
   "source": [
    "tr = 9861245\n",
    "tr = str(tr)"
   ]
  },
  {
   "cell_type": "code",
   "execution_count": 244,
   "id": "ab267ec4",
   "metadata": {},
   "outputs": [
    {
     "data": {
      "text/plain": [
       "'9861,245'"
      ]
     },
     "execution_count": 244,
     "metadata": {},
     "output_type": "execute_result"
    }
   ],
   "source": [
    "tr[:-3] + ',' + tr[-3:]"
   ]
  },
  {
   "cell_type": "code",
   "execution_count": 256,
   "id": "a53c4487",
   "metadata": {},
   "outputs": [],
   "source": [
    "y = [4,7,9,0]"
   ]
  },
  {
   "cell_type": "code",
   "execution_count": 267,
   "id": "da0d51e9",
   "metadata": {},
   "outputs": [
    {
     "data": {
      "text/plain": [
       "('9861', '245')"
      ]
     },
     "execution_count": 267,
     "metadata": {},
     "output_type": "execute_result"
    }
   ],
   "source": [
    "tr[:-3], tr[-3:]"
   ]
  },
  {
   "cell_type": "markdown",
   "id": "b5fbb47c",
   "metadata": {},
   "source": [
    "#### -- Module Coding Gotchas"
   ]
  },
  {
   "cell_type": "markdown",
   "id": "529e250b",
   "metadata": {},
   "source": [
    "- Code at the top level of a module file (not nested in a function) runs as soon as Python reached it during\n",
    "an import; because of that, **it can't reference names assigned lower in the file.**"
   ]
  },
  {
   "cell_type": "markdown",
   "id": "3d2bbd98",
   "metadata": {},
   "source": [
    "- Code inside a function body doesn't run until the function is called."
   ]
  },
  {
   "cell_type": "code",
   "execution_count": null,
   "id": "18466746",
   "metadata": {},
   "outputs": [],
   "source": []
  },
  {
   "cell_type": "code",
   "execution_count": null,
   "id": "477cde58",
   "metadata": {},
   "outputs": [],
   "source": []
  },
  {
   "cell_type": "code",
   "execution_count": null,
   "id": "7b2efcb4",
   "metadata": {},
   "outputs": [],
   "source": []
  },
  {
   "cell_type": "code",
   "execution_count": null,
   "id": "8c12ae02",
   "metadata": {},
   "outputs": [],
   "source": []
  },
  {
   "cell_type": "code",
   "execution_count": null,
   "id": "35996856",
   "metadata": {},
   "outputs": [],
   "source": []
  },
  {
   "cell_type": "code",
   "execution_count": null,
   "id": "3faf07d4",
   "metadata": {},
   "outputs": [],
   "source": []
  },
  {
   "cell_type": "code",
   "execution_count": null,
   "id": "bb411950",
   "metadata": {},
   "outputs": [],
   "source": []
  },
  {
   "cell_type": "code",
   "execution_count": null,
   "id": "bb79a1a2",
   "metadata": {},
   "outputs": [],
   "source": []
  },
  {
   "cell_type": "code",
   "execution_count": null,
   "id": "928611d0",
   "metadata": {},
   "outputs": [],
   "source": []
  },
  {
   "cell_type": "code",
   "execution_count": null,
   "id": "fc9c45ae",
   "metadata": {},
   "outputs": [],
   "source": []
  },
  {
   "cell_type": "code",
   "execution_count": null,
   "id": "3c90e7a4",
   "metadata": {},
   "outputs": [],
   "source": []
  },
  {
   "cell_type": "code",
   "execution_count": null,
   "id": "356a296c",
   "metadata": {},
   "outputs": [],
   "source": []
  },
  {
   "cell_type": "code",
   "execution_count": null,
   "id": "783550e2",
   "metadata": {},
   "outputs": [],
   "source": []
  },
  {
   "cell_type": "code",
   "execution_count": null,
   "id": "9932ff95",
   "metadata": {},
   "outputs": [],
   "source": []
  },
  {
   "cell_type": "code",
   "execution_count": null,
   "id": "4303964e",
   "metadata": {},
   "outputs": [],
   "source": []
  },
  {
   "cell_type": "code",
   "execution_count": null,
   "id": "81d80bcd",
   "metadata": {},
   "outputs": [],
   "source": []
  },
  {
   "cell_type": "code",
   "execution_count": null,
   "id": "c1ae4ce3",
   "metadata": {},
   "outputs": [],
   "source": []
  },
  {
   "cell_type": "code",
   "execution_count": null,
   "id": "0e4314ab",
   "metadata": {},
   "outputs": [],
   "source": []
  },
  {
   "cell_type": "code",
   "execution_count": null,
   "id": "988f19c7",
   "metadata": {},
   "outputs": [],
   "source": []
  },
  {
   "cell_type": "code",
   "execution_count": null,
   "id": "b198814c",
   "metadata": {},
   "outputs": [],
   "source": []
  },
  {
   "cell_type": "code",
   "execution_count": null,
   "id": "9e34445b",
   "metadata": {},
   "outputs": [],
   "source": []
  },
  {
   "cell_type": "code",
   "execution_count": null,
   "id": "74c11e02",
   "metadata": {},
   "outputs": [],
   "source": []
  },
  {
   "cell_type": "code",
   "execution_count": null,
   "id": "6b21e3d1",
   "metadata": {},
   "outputs": [],
   "source": []
  },
  {
   "cell_type": "code",
   "execution_count": null,
   "id": "233b8dee",
   "metadata": {},
   "outputs": [],
   "source": []
  },
  {
   "cell_type": "code",
   "execution_count": null,
   "id": "7aca67e6",
   "metadata": {},
   "outputs": [],
   "source": []
  },
  {
   "cell_type": "code",
   "execution_count": null,
   "id": "9841becb",
   "metadata": {},
   "outputs": [],
   "source": []
  },
  {
   "cell_type": "code",
   "execution_count": null,
   "id": "6e23c53e",
   "metadata": {},
   "outputs": [],
   "source": []
  },
  {
   "cell_type": "code",
   "execution_count": null,
   "id": "c243a6eb",
   "metadata": {},
   "outputs": [],
   "source": []
  },
  {
   "cell_type": "code",
   "execution_count": null,
   "id": "a497f474",
   "metadata": {},
   "outputs": [],
   "source": []
  },
  {
   "cell_type": "code",
   "execution_count": null,
   "id": "a30a7ce3",
   "metadata": {},
   "outputs": [],
   "source": []
  }
 ],
 "metadata": {
  "kernelspec": {
   "display_name": "Python 3 (ipykernel)",
   "language": "python",
   "name": "python3"
  },
  "language_info": {
   "codemirror_mode": {
    "name": "ipython",
    "version": 3
   },
   "file_extension": ".py",
   "mimetype": "text/x-python",
   "name": "python",
   "nbconvert_exporter": "python",
   "pygments_lexer": "ipython3",
   "version": "3.11.5"
  }
 },
 "nbformat": 4,
 "nbformat_minor": 5
}
