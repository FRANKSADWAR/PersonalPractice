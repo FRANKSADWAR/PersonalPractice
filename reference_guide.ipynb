{
 "cells": [
  {
   "cell_type": "markdown",
   "id": "71ed3d22",
   "metadata": {},
   "source": [
    "# Python Reference Guide"
   ]
  },
  {
   "cell_type": "markdown",
   "id": "1e907e0c",
   "metadata": {},
   "source": [
    "Need a quick reference guide to help you while you hack? This is no substitute for the actual course content, but here's a \"cheatsheet\" to help jog your memory!"
   ]
  },
  {
   "cell_type": "markdown",
   "id": "fadb6601",
   "metadata": {},
   "source": [
    "## Handy Functions"
   ]
  },
  {
   "cell_type": "code",
   "execution_count": null,
   "id": "7c3e0a42",
   "metadata": {},
   "outputs": [],
   "source": [
    "print('This will print some text')"
   ]
  },
  {
   "cell_type": "code",
   "execution_count": null,
   "id": "3ec022ba",
   "metadata": {},
   "outputs": [],
   "source": [
    "# Use string formatting (\"f-strings\") to insert values\n",
    "name = 'Ryan'\n",
    "f'My name is: {name}'"
   ]
  },
  {
   "cell_type": "code",
   "execution_count": null,
   "id": "1ab7a06a",
   "metadata": {},
   "outputs": [],
   "source": [
    "# An iterable object containing sequential integers\n",
    "range(0, 10)\n",
    "\n",
    "# Iterate by steps of 2\n",
    "range(0, 10, 2)"
   ]
  },
  {
   "cell_type": "code",
   "execution_count": null,
   "id": "835fcf5c",
   "metadata": {},
   "outputs": [],
   "source": [
    "# Returns the datatype of the value passed in\n",
    "type(1)"
   ]
  },
  {
   "cell_type": "markdown",
   "id": "e38dc92b",
   "metadata": {},
   "source": [
    "## Math Operators"
   ]
  },
  {
   "cell_type": "code",
   "execution_count": null,
   "id": "cdf9ab4a",
   "metadata": {},
   "outputs": [],
   "source": [
    "# Addition\n",
    "1 + 1"
   ]
  },
  {
   "cell_type": "code",
   "execution_count": null,
   "id": "563311f2",
   "metadata": {},
   "outputs": [],
   "source": [
    "# Subtraction\n",
    "2 - 1"
   ]
  },
  {
   "cell_type": "code",
   "execution_count": null,
   "id": "29ee6dd9",
   "metadata": {},
   "outputs": [],
   "source": [
    "# Multiplication\n",
    "5 * 5"
   ]
  },
  {
   "cell_type": "code",
   "execution_count": null,
   "id": "09a49593",
   "metadata": {},
   "outputs": [],
   "source": [
    "# Division\n",
    "25 / 5"
   ]
  },
  {
   "cell_type": "code",
   "execution_count": null,
   "id": "6707e4e5",
   "metadata": {},
   "outputs": [],
   "source": [
    "# Exponents \n",
    "5 ** 3"
   ]
  },
  {
   "cell_type": "code",
   "execution_count": null,
   "id": "659df18d",
   "metadata": {},
   "outputs": [],
   "source": [
    "# Modulus (remainder after division)\n",
    "17 % 5"
   ]
  },
  {
   "cell_type": "markdown",
   "id": "2b890997",
   "metadata": {},
   "source": [
    "## Data Types"
   ]
  },
  {
   "cell_type": "code",
   "execution_count": null,
   "id": "0e3bde08",
   "metadata": {},
   "outputs": [],
   "source": [
    "# Integers\n",
    "x = 1\n",
    "type(x)"
   ]
  },
  {
   "cell_type": "code",
   "execution_count": null,
   "id": "b2dd1551",
   "metadata": {},
   "outputs": [],
   "source": [
    "# Floats\n",
    "x = 1.0\n",
    "type(x)"
   ]
  },
  {
   "cell_type": "code",
   "execution_count": null,
   "id": "a981a3d0",
   "metadata": {},
   "outputs": [],
   "source": [
    "# Strings\n",
    "x = 'Ryan'\n",
    "type(x)"
   ]
  },
  {
   "cell_type": "code",
   "execution_count": null,
   "id": "b36870dc",
   "metadata": {},
   "outputs": [],
   "source": [
    "# Booleans\n",
    "x = True\n",
    "type(x)"
   ]
  },
  {
   "cell_type": "code",
   "execution_count": null,
   "id": "281f4c7c",
   "metadata": {},
   "outputs": [],
   "source": [
    "# Byte data\n",
    "x = bytes(4)\n",
    "type(x)"
   ]
  },
  {
   "cell_type": "markdown",
   "id": "b20d6ca4",
   "metadata": {},
   "source": [
    "### Casting Datatypes"
   ]
  },
  {
   "cell_type": "code",
   "execution_count": null,
   "id": "5aa946e4",
   "metadata": {},
   "outputs": [],
   "source": [
    "# String to integer\n",
    "int('1')"
   ]
  },
  {
   "cell_type": "code",
   "execution_count": null,
   "id": "ab1c3cf2",
   "metadata": {},
   "outputs": [],
   "source": [
    "# Float to integer\n",
    "int(1.5)"
   ]
  },
  {
   "cell_type": "code",
   "execution_count": null,
   "id": "5ae89ef1",
   "metadata": {},
   "outputs": [],
   "source": [
    "# Integer to float\n",
    "float(1)"
   ]
  },
  {
   "cell_type": "code",
   "execution_count": null,
   "id": "844ab9ce",
   "metadata": {},
   "outputs": [],
   "source": [
    "# Integer to boolean\n",
    "bool(1)"
   ]
  },
  {
   "cell_type": "code",
   "execution_count": null,
   "id": "ede2547c",
   "metadata": {},
   "outputs": [],
   "source": [
    "# String to boolean (Anything other than an empty string is True)\n",
    "bool('')"
   ]
  },
  {
   "cell_type": "code",
   "execution_count": null,
   "id": "2158dae1",
   "metadata": {},
   "outputs": [],
   "source": [
    "# Int to string\n",
    "str(1)"
   ]
  },
  {
   "cell_type": "code",
   "execution_count": null,
   "id": "26ff8624",
   "metadata": {},
   "outputs": [],
   "source": [
    "# String to bytes, requires the encoding\n",
    "bytes('🙂', 'utf-8')"
   ]
  },
  {
   "cell_type": "markdown",
   "id": "fe277050",
   "metadata": {},
   "source": [
    "## String Operators"
   ]
  },
  {
   "cell_type": "code",
   "execution_count": null,
   "id": "39bd5f9a",
   "metadata": {},
   "outputs": [],
   "source": [
    "# String concatenation\n",
    "'Ryan ' + 'Mitchell'"
   ]
  },
  {
   "cell_type": "code",
   "execution_count": null,
   "id": "ae71aefe",
   "metadata": {},
   "outputs": [],
   "source": [
    "# String multiplication\n",
    "'Python'*6"
   ]
  },
  {
   "cell_type": "code",
   "execution_count": null,
   "id": "37fbcde4",
   "metadata": {},
   "outputs": [],
   "source": [
    "# Access a particular character in a string\n",
    "'Python'[3]"
   ]
  },
  {
   "cell_type": "markdown",
   "id": "cdd3e0cd",
   "metadata": {},
   "source": [
    "## Boolean Operators"
   ]
  },
  {
   "cell_type": "code",
   "execution_count": null,
   "id": "ba869927",
   "metadata": {},
   "outputs": [],
   "source": [
    "# AND\n",
    "print(True and True)\n",
    "print(True and False)\n",
    "print(False and False)"
   ]
  },
  {
   "cell_type": "code",
   "execution_count": null,
   "id": "28b2fa5f",
   "metadata": {},
   "outputs": [],
   "source": [
    "# OR\n",
    "print(True or True)\n",
    "print(True or False)\n",
    "print(False or False)"
   ]
  },
  {
   "cell_type": "code",
   "execution_count": null,
   "id": "bc55ebf9",
   "metadata": {},
   "outputs": [],
   "source": [
    "# NOT \n",
    "print(not True)\n",
    "print(not False)"
   ]
  },
  {
   "cell_type": "code",
   "execution_count": null,
   "id": "35e8e720",
   "metadata": {},
   "outputs": [],
   "source": [
    "# Equality operator\n",
    "5 == 5"
   ]
  },
  {
   "cell_type": "code",
   "execution_count": null,
   "id": "f1306639",
   "metadata": {},
   "outputs": [],
   "source": [
    "# Inequality operator\n",
    "5 != 4"
   ]
  },
  {
   "cell_type": "code",
   "execution_count": null,
   "id": "5ec97ec8",
   "metadata": {},
   "outputs": [],
   "source": [
    "# Less than\n",
    "4 < 5"
   ]
  },
  {
   "cell_type": "code",
   "execution_count": null,
   "id": "e20ef2df",
   "metadata": {},
   "outputs": [],
   "source": [
    "# Less than or equals to \n",
    "5 <= 5"
   ]
  },
  {
   "cell_type": "code",
   "execution_count": null,
   "id": "09cc20bc",
   "metadata": {},
   "outputs": [],
   "source": [
    "# Greater than\n",
    "5 > 4"
   ]
  },
  {
   "cell_type": "code",
   "execution_count": null,
   "id": "b60907e6",
   "metadata": {},
   "outputs": [],
   "source": [
    "# Greater than or equals to\n",
    "5 >= 5"
   ]
  },
  {
   "cell_type": "markdown",
   "id": "2a2e7267",
   "metadata": {},
   "source": [
    "## Control Flow"
   ]
  },
  {
   "cell_type": "code",
   "execution_count": null,
   "id": "d50b0640",
   "metadata": {},
   "outputs": [],
   "source": []
  },
  {
   "cell_type": "code",
   "execution_count": null,
   "id": "cb4e8515",
   "metadata": {},
   "outputs": [],
   "source": [
    "if False: \n",
    "    print('This does not print')\n",
    "else: \n",
    "    print('This will print')"
   ]
  },
  {
   "cell_type": "code",
   "execution_count": null,
   "id": "8e2abd4c",
   "metadata": {},
   "outputs": [],
   "source": [
    "# Iterate through items in a range\n",
    "for i in range(0, 5):\n",
    "    print('Number: {}'.format(i))"
   ]
  },
  {
   "cell_type": "code",
   "execution_count": null,
   "id": "9fffb55a",
   "metadata": {},
   "outputs": [],
   "source": [
    "# Iterate through items in a list\n",
    "for i in [1,2,3,4,5]:\n",
    "    print('Number: {}'.format(i))"
   ]
  },
  {
   "cell_type": "code",
   "execution_count": null,
   "id": "d3644b73",
   "metadata": {},
   "outputs": [],
   "source": [
    "i = 0\n",
    "while i < 5:\n",
    "    print('Number: {}'.format(i))\n",
    "    i = i + 1"
   ]
  },
  {
   "cell_type": "markdown",
   "id": "d3e111af",
   "metadata": {},
   "source": [
    "## Data Types"
   ]
  },
  {
   "cell_type": "markdown",
   "id": "6cd23c41",
   "metadata": {},
   "source": [
    "### Lists"
   ]
  },
  {
   "cell_type": "code",
   "execution_count": null,
   "id": "1652a902",
   "metadata": {},
   "outputs": [],
   "source": [
    "aList = [1,2,3,4]\n",
    "type(aList)"
   ]
  },
  {
   "cell_type": "code",
   "execution_count": null,
   "id": "6190492f",
   "metadata": {},
   "outputs": [],
   "source": [
    "# Append item to a list\n",
    "aList.append(5)\n",
    "aList"
   ]
  },
  {
   "cell_type": "code",
   "execution_count": null,
   "id": "0c73fb6f",
   "metadata": {},
   "outputs": [],
   "source": [
    "# List concatenation\n",
    "[1,2,3] + [4,5,6]"
   ]
  },
  {
   "cell_type": "code",
   "execution_count": null,
   "id": "2f429961",
   "metadata": {},
   "outputs": [],
   "source": [
    "# List multiplication\n",
    "[1,2] * 5"
   ]
  },
  {
   "cell_type": "code",
   "execution_count": null,
   "id": "8dc04f2c",
   "metadata": {},
   "outputs": [],
   "source": [
    "# Accessing items in a list\n",
    "\n",
    "aList = [1,2,3,4,5,6,7,8,9,10]\n",
    "# Print the item at index 4\n",
    "print(aList[4])\n",
    "\n",
    "# Print the items at index 0, up to (not including) index 4\n",
    "print(aList[0:4])\n",
    "\n",
    "# If the first index is missing, it's assumed to be 0\n",
    "print(aList[:4])\n",
    "\n",
    "# If the last index is missing, it's assumed to go to the end of the list\n",
    "print(aList[4:])\n",
    "\n",
    "# Print every other item in the list\n",
    "print(aList[::2])\n",
    "\n",
    "# Print every third item in the list\n",
    "print(aList[::3])"
   ]
  },
  {
   "cell_type": "markdown",
   "id": "8c91a2cf",
   "metadata": {},
   "source": [
    "- A list is an unhashable type in Python because it is mutable, meaning that when its contents change, the hash value changes"
   ]
  },
  {
   "cell_type": "markdown",
   "id": "b3f6a1a2",
   "metadata": {},
   "source": [
    "- Only immutable types such as strings or tuples can be added directly to a set"
   ]
  },
  {
   "cell_type": "markdown",
   "id": "a7307ea7",
   "metadata": {},
   "source": [
    "### Dictionaries"
   ]
  },
  {
   "cell_type": "code",
   "execution_count": null,
   "id": "c167cdcf",
   "metadata": {
    "scrolled": true
   },
   "outputs": [],
   "source": [
    "aDict = {\n",
    "    'one': 1,\n",
    "    'two': 2,\n",
    "    'three': 3,\n",
    "}\n",
    "# Add key/value pairs to dictionary\n",
    "aDict['four'] = 4\n",
    "\n",
    "# Access values by keys\n",
    "print(aDict['one'])"
   ]
  },
  {
   "cell_type": "code",
   "execution_count": null,
   "id": "08a785bc",
   "metadata": {},
   "outputs": [],
   "source": [
    "# Print all keys\n",
    "print(aDict.keys())\n",
    "\n",
    "# Print all values\n",
    "print(aDict.values())\n",
    "\n",
    "# Print all key/value pairs\n",
    "print(aDict.items())"
   ]
  },
  {
   "cell_type": "markdown",
   "id": "5d90663f",
   "metadata": {},
   "source": [
    "### Sets"
   ]
  },
  {
   "cell_type": "code",
   "execution_count": null,
   "id": "5a6bcf01",
   "metadata": {},
   "outputs": [],
   "source": [
    "aSet = {1,2,3,4}\n",
    "\n",
    "# Add an item to a set\n",
    "aSet.add(5)\n",
    "\n",
    "# Remove an item from a set\n",
    "aSet.remove(2)\n",
    "print(aSet)"
   ]
  },
  {
   "cell_type": "markdown",
   "id": "9acf5726",
   "metadata": {},
   "source": [
    "- Sets cannot have duplicates\n",
    "\n",
    "- Sets are not subscriptable, so you cannot use the slicing syntax with it. An object is subscriptable if it contains elements\n",
    "that can be accessed by an index"
   ]
  },
  {
   "cell_type": "code",
   "execution_count": null,
   "id": "4d4bff3b",
   "metadata": {},
   "outputs": [],
   "source": [
    "mySet = set()"
   ]
  },
  {
   "cell_type": "code",
   "execution_count": null,
   "id": "89899bc1",
   "metadata": {},
   "outputs": [],
   "source": [
    "mySet.add((2,34,7))"
   ]
  },
  {
   "cell_type": "code",
   "execution_count": null,
   "id": "bfbe2f85",
   "metadata": {},
   "outputs": [],
   "source": [
    "mySet.update([2,43,8])"
   ]
  },
  {
   "cell_type": "code",
   "execution_count": null,
   "id": "3832db49",
   "metadata": {},
   "outputs": [],
   "source": [
    "mySet.clear()"
   ]
  },
  {
   "cell_type": "code",
   "execution_count": null,
   "id": "e4d4c419",
   "metadata": {},
   "outputs": [],
   "source": [
    "mySet = {'Id','start_date','end_date','invoices','conversion'}"
   ]
  },
  {
   "cell_type": "code",
   "execution_count": null,
   "id": "a66775b1",
   "metadata": {},
   "outputs": [],
   "source": [
    "mySet"
   ]
  },
  {
   "cell_type": "code",
   "execution_count": null,
   "id": "8c511948",
   "metadata": {},
   "outputs": [],
   "source": [
    "mySet2 = set(('order_id','start_date','posting_date','grand_total'))"
   ]
  },
  {
   "cell_type": "code",
   "execution_count": null,
   "id": "cd9a61a3",
   "metadata": {},
   "outputs": [],
   "source": [
    "mySet1 = {'Id','start_date','end_date','invoices','conversion'}"
   ]
  },
  {
   "cell_type": "code",
   "execution_count": null,
   "id": "fa979da4",
   "metadata": {},
   "outputs": [],
   "source": [
    "mySet2"
   ]
  },
  {
   "cell_type": "code",
   "execution_count": null,
   "id": "7bcca4c1",
   "metadata": {},
   "outputs": [],
   "source": [
    "## add elements into the set\n",
    "mySet1.add('homer')"
   ]
  },
  {
   "cell_type": "code",
   "execution_count": null,
   "id": "31435815",
   "metadata": {},
   "outputs": [],
   "source": [
    "mySet1"
   ]
  },
  {
   "cell_type": "code",
   "execution_count": null,
   "id": "af9070ad",
   "metadata": {},
   "outputs": [],
   "source": [
    "## add elements into the set\n",
    "mySet1.update(['greener'])"
   ]
  },
  {
   "cell_type": "code",
   "execution_count": null,
   "id": "890ec806",
   "metadata": {},
   "outputs": [],
   "source": [
    "mySet1"
   ]
  },
  {
   "cell_type": "code",
   "execution_count": null,
   "id": "74540d6c",
   "metadata": {},
   "outputs": [],
   "source": [
    "## You can create a list from a set and a set from a list"
   ]
  },
  {
   "cell_type": "code",
   "execution_count": null,
   "id": "f296ba1f",
   "metadata": {},
   "outputs": [],
   "source": [
    "myList = ['a','column','Column','column','b','b','B','t']\n",
    "myList = list(set(myList))\n",
    "myList"
   ]
  },
  {
   "cell_type": "code",
   "execution_count": null,
   "id": "7517d37d",
   "metadata": {},
   "outputs": [],
   "source": [
    "lset = set(myList)\n",
    "lset"
   ]
  },
  {
   "cell_type": "code",
   "execution_count": null,
   "id": "052e7c1d",
   "metadata": {},
   "outputs": [],
   "source": [
    "list(lset)"
   ]
  },
  {
   "cell_type": "markdown",
   "id": "f97eb174",
   "metadata": {},
   "source": [
    "- Sets are unordered, keep that in mind"
   ]
  },
  {
   "cell_type": "markdown",
   "id": "8819d6b4",
   "metadata": {},
   "source": [
    "- We can have membership boolean operations in sets as well"
   ]
  },
  {
   "cell_type": "code",
   "execution_count": null,
   "id": "a27ac5e6",
   "metadata": {},
   "outputs": [],
   "source": [
    "'d' in mySet"
   ]
  },
  {
   "cell_type": "code",
   "execution_count": null,
   "id": "5b6e3f51",
   "metadata": {},
   "outputs": [],
   "source": [
    "'b' in mySet"
   ]
  },
  {
   "cell_type": "code",
   "execution_count": null,
   "id": "9a51fc1d",
   "metadata": {
    "scrolled": true
   },
   "outputs": [],
   "source": [
    "'start_date' in mySet"
   ]
  },
  {
   "cell_type": "markdown",
   "id": "2d1450c6",
   "metadata": {},
   "source": [
    "- You can also use the length function with sets just like with lists"
   ]
  },
  {
   "cell_type": "code",
   "execution_count": null,
   "id": "89e5830e",
   "metadata": {},
   "outputs": [],
   "source": [
    "len(mySet)"
   ]
  },
  {
   "cell_type": "code",
   "execution_count": null,
   "id": "e8df5236",
   "metadata": {},
   "outputs": [],
   "source": [
    "## You can use the pop function to get elements from a set\n",
    "\n",
    "while len(mySet):\n",
    "    print(mySet.pop())"
   ]
  },
  {
   "cell_type": "code",
   "execution_count": null,
   "id": "e76fe4f3",
   "metadata": {},
   "outputs": [],
   "source": [
    "mySet = set(('start_date', 'conversion', 'homer', 'greener', 'Id', 'invoices', 'end_date'))\n",
    "mySet"
   ]
  },
  {
   "cell_type": "code",
   "execution_count": null,
   "id": "20a62247",
   "metadata": {},
   "outputs": [],
   "source": [
    "## Elements can be removed from a set completely\n",
    "\n",
    "mySet.discard('greener')\n",
    "mySet"
   ]
  },
  {
   "cell_type": "code",
   "execution_count": null,
   "id": "f5945c7c",
   "metadata": {},
   "outputs": [],
   "source": [
    "## You can find what appears in one set and does not appear in the other set"
   ]
  },
  {
   "cell_type": "code",
   "execution_count": null,
   "id": "d82ca36c",
   "metadata": {},
   "outputs": [],
   "source": [
    "mySet1"
   ]
  },
  {
   "cell_type": "code",
   "execution_count": null,
   "id": "177e992a",
   "metadata": {},
   "outputs": [],
   "source": [
    "mySet"
   ]
  },
  {
   "cell_type": "code",
   "execution_count": null,
   "id": "5de75be5",
   "metadata": {},
   "outputs": [],
   "source": [
    "mySet.symmetric_difference(mySet1)"
   ]
  },
  {
   "cell_type": "markdown",
   "id": "a8a25d64",
   "metadata": {},
   "source": [
    "### Tuples"
   ]
  },
  {
   "cell_type": "code",
   "execution_count": null,
   "id": "ef82c964",
   "metadata": {},
   "outputs": [],
   "source": [
    "### Tuples are immutable objects in Python"
   ]
  },
  {
   "cell_type": "code",
   "execution_count": null,
   "id": "aade96be",
   "metadata": {},
   "outputs": [],
   "source": [
    "# Tuples cannot be modified\n",
    "aTuple = (1,2,3,4)\n",
    "aTuple"
   ]
  },
  {
   "cell_type": "code",
   "execution_count": null,
   "id": "424d1130",
   "metadata": {},
   "outputs": [],
   "source": [
    "myTuple = ('e','g','k')\n",
    "myTuple"
   ]
  },
  {
   "cell_type": "code",
   "execution_count": null,
   "id": "8e9c8678",
   "metadata": {},
   "outputs": [],
   "source": [
    "len(myTuple)"
   ]
  },
  {
   "cell_type": "code",
   "execution_count": null,
   "id": "4085b06a",
   "metadata": {},
   "outputs": [],
   "source": [
    "def returnsMultiple():\n",
    "    return 1,2,3\n",
    "\n",
    "type(returnsMultiple())"
   ]
  },
  {
   "cell_type": "markdown",
   "id": "e70f10b6",
   "metadata": {},
   "source": [
    "- We can use this syntax in what is known as unpacking"
   ]
  },
  {
   "cell_type": "code",
   "execution_count": null,
   "id": "53d4d879",
   "metadata": {},
   "outputs": [],
   "source": [
    "a, b, c = returnsMultiple()\n",
    "print(a)\n",
    "print(b)\n",
    "print(c)"
   ]
  },
  {
   "cell_type": "markdown",
   "id": "fd3e9149",
   "metadata": {},
   "source": [
    "## Dictionaries"
   ]
  },
  {
   "cell_type": "code",
   "execution_count": null,
   "id": "2e592797",
   "metadata": {},
   "outputs": [],
   "source": [
    "animals = {\n",
    "    'a': 'emu',\n",
    "    'b': 'kudu',\n",
    "    'c': 'walrus',\n",
    "    'd': 'tiger', \n",
    "}\n",
    "animals"
   ]
  },
  {
   "cell_type": "code",
   "execution_count": null,
   "id": "3c6e8374",
   "metadata": {},
   "outputs": [],
   "source": [
    "animals['a']"
   ]
  },
  {
   "cell_type": "code",
   "execution_count": null,
   "id": "d376179f",
   "metadata": {},
   "outputs": [],
   "source": [
    "## add elements into the dictionary"
   ]
  },
  {
   "cell_type": "code",
   "execution_count": null,
   "id": "180fae0a",
   "metadata": {},
   "outputs": [],
   "source": [
    "animals['f'] = 'Lion'\n",
    "animals"
   ]
  },
  {
   "cell_type": "code",
   "execution_count": null,
   "id": "52b9acc4",
   "metadata": {},
   "outputs": [],
   "source": [
    "## Update values in the dictionary\n",
    "animals['f'] = 'Elephant'"
   ]
  },
  {
   "cell_type": "code",
   "execution_count": null,
   "id": "4a56608e",
   "metadata": {},
   "outputs": [],
   "source": [
    "animals"
   ]
  },
  {
   "cell_type": "code",
   "execution_count": null,
   "id": "6469b5de",
   "metadata": {},
   "outputs": [],
   "source": [
    "animals.keys()"
   ]
  },
  {
   "cell_type": "code",
   "execution_count": null,
   "id": "7a58dabf",
   "metadata": {},
   "outputs": [],
   "source": [
    "list(animals.keys())"
   ]
  },
  {
   "cell_type": "code",
   "execution_count": null,
   "id": "e13081c8",
   "metadata": {},
   "outputs": [],
   "source": [
    "animals.values()"
   ]
  },
  {
   "cell_type": "code",
   "execution_count": null,
   "id": "408755af",
   "metadata": {},
   "outputs": [],
   "source": [
    "## You can use .get() method  and a default value to check is a key exists"
   ]
  },
  {
   "cell_type": "code",
   "execution_count": null,
   "id": "10916acb",
   "metadata": {},
   "outputs": [],
   "source": [
    "if animals.get('e',\"NOT FOUND\") == \"NOT FOUND\":\n",
    "    print(\"Not found\")"
   ]
  },
  {
   "cell_type": "code",
   "execution_count": null,
   "id": "36cc7221",
   "metadata": {},
   "outputs": [],
   "source": [
    "animals.keys()"
   ]
  },
  {
   "cell_type": "code",
   "execution_count": null,
   "id": "d9b2a644",
   "metadata": {},
   "outputs": [],
   "source": [
    "animals.get('b','NOT FOUND')"
   ]
  },
  {
   "cell_type": "code",
   "execution_count": null,
   "id": "d0072bd1",
   "metadata": {},
   "outputs": [],
   "source": [
    "len(animals)"
   ]
  },
  {
   "cell_type": "code",
   "execution_count": null,
   "id": "5edf29c4",
   "metadata": {},
   "outputs": [],
   "source": [
    "wild = {\n",
    "    'ocean': ['Ocra','Dolphins','Walrus','Whales','Sharks'],\n",
    "    'lake' : ['Tilapia','Salmon','Nile Pearch'],\n",
    "    'rivers': ['Tuna'],\n",
    "    'land': ['bear','lion'],\n",
    "}\n",
    "wild"
   ]
  },
  {
   "cell_type": "code",
   "execution_count": null,
   "id": "741e0fe9",
   "metadata": {},
   "outputs": [],
   "source": [
    "wild['air'] = ['eagle']"
   ]
  },
  {
   "cell_type": "code",
   "execution_count": null,
   "id": "4e97d58a",
   "metadata": {},
   "outputs": [],
   "source": [
    "wild"
   ]
  },
  {
   "cell_type": "code",
   "execution_count": null,
   "id": "e2ae9a72",
   "metadata": {},
   "outputs": [],
   "source": [
    "wild['air'].append('sea guls')"
   ]
  },
  {
   "cell_type": "code",
   "execution_count": null,
   "id": "e933b82d",
   "metadata": {},
   "outputs": [],
   "source": [
    "wild"
   ]
  },
  {
   "cell_type": "markdown",
   "id": "a7b873b9",
   "metadata": {},
   "source": [
    "#### Default Dict"
   ]
  },
  {
   "cell_type": "code",
   "execution_count": 1,
   "id": "09618571",
   "metadata": {},
   "outputs": [],
   "source": [
    "from collections import defaultdict"
   ]
  },
  {
   "cell_type": "code",
   "execution_count": 2,
   "id": "35ef49b7",
   "metadata": {},
   "outputs": [],
   "source": [
    "land = defaultdict(list)"
   ]
  },
  {
   "cell_type": "code",
   "execution_count": 3,
   "id": "b85cf87e",
   "metadata": {},
   "outputs": [
    {
     "data": {
      "text/plain": [
       "defaultdict(list, {})"
      ]
     },
     "execution_count": 3,
     "metadata": {},
     "output_type": "execute_result"
    }
   ],
   "source": [
    "land"
   ]
  },
  {
   "cell_type": "code",
   "execution_count": 4,
   "id": "92da834e",
   "metadata": {},
   "outputs": [],
   "source": [
    "land['park'].append('Tree')"
   ]
  },
  {
   "cell_type": "code",
   "execution_count": 5,
   "id": "411d5ab8",
   "metadata": {},
   "outputs": [],
   "source": [
    "land['pond'].append(['duck','goose'])"
   ]
  },
  {
   "cell_type": "code",
   "execution_count": 6,
   "id": "857d364b",
   "metadata": {},
   "outputs": [
    {
     "data": {
      "text/plain": [
       "{'park': ['Tree'], 'pond': [['duck', 'goose']]}"
      ]
     },
     "execution_count": 6,
     "metadata": {},
     "output_type": "execute_result"
    }
   ],
   "source": [
    "dict(land)"
   ]
  },
  {
   "cell_type": "code",
   "execution_count": 7,
   "id": "36d6c640",
   "metadata": {},
   "outputs": [
    {
     "data": {
      "text/plain": [
       "defaultdict(list, {'park': ['Tree'], 'pond': [['duck', 'goose']]})"
      ]
     },
     "execution_count": 7,
     "metadata": {},
     "output_type": "execute_result"
    }
   ],
   "source": [
    "land"
   ]
  },
  {
   "cell_type": "markdown",
   "id": "616770bf",
   "metadata": {},
   "source": [
    "### List comprehensions"
   ]
  },
  {
   "cell_type": "code",
   "execution_count": 8,
   "id": "a5cc0328",
   "metadata": {},
   "outputs": [
    {
     "data": {
      "text/plain": [
       "[1, 8, 27, 125, 216, 343, 512, 729, 1000]"
      ]
     },
     "execution_count": 8,
     "metadata": {},
     "output_type": "execute_result"
    }
   ],
   "source": [
    "myList = [1,2,3,5,6,7,8,9,10]\n",
    "[item*item*item for item in myList]"
   ]
  },
  {
   "cell_type": "code",
   "execution_count": 9,
   "id": "e8e7f27f",
   "metadata": {},
   "outputs": [],
   "source": [
    "### List comprehensions can be used as filters"
   ]
  },
  {
   "cell_type": "code",
   "execution_count": 10,
   "id": "910168fb",
   "metadata": {},
   "outputs": [
    {
     "data": {
      "text/plain": [
       "[0, 10, 20, 30, 40, 50, 60, 70, 80, 90]"
      ]
     },
     "execution_count": 10,
     "metadata": {},
     "output_type": "execute_result"
    }
   ],
   "source": [
    "myList = list(range(100))\n",
    "filteredList = [item for item in myList if item % 10 == 0]\n",
    "filteredList"
   ]
  },
  {
   "cell_type": "code",
   "execution_count": 15,
   "id": "e86a6869",
   "metadata": {},
   "outputs": [
    {
     "data": {
      "text/plain": [
       "[0, 20, 40, 60, 80]"
      ]
     },
     "execution_count": 15,
     "metadata": {},
     "output_type": "execute_result"
    }
   ],
   "source": [
    "[item for item in myList if item % 20 == 0]"
   ]
  },
  {
   "cell_type": "code",
   "execution_count": 163,
   "id": "5b13ccfe",
   "metadata": {
    "scrolled": true
   },
   "outputs": [],
   "source": [
    "even_numbers = [item for item in myList if item % 2 == 0]\n",
    "odd_numbers = [item for item in myList if item % 2 != 0]"
   ]
  },
  {
   "cell_type": "code",
   "execution_count": 166,
   "id": "24101397",
   "metadata": {},
   "outputs": [
    {
     "name": "stdout",
     "output_type": "stream",
     "text": [
      "[1, 3, 5, 7, 9, 11, 13, 15, 17, 19, 21, 23, 25, 27, 29, 31, 33, 35, 37, 39, 41, 43, 45, 47, 49, 51, 53, 55, 57, 59, 61, 63, 65, 67, 69, 71, 73, 75, 77, 79, 81, 83, 85, 87, 89, 91, 93, 95, 97, 99]\n"
     ]
    }
   ],
   "source": [
    "print(odd_numbers)"
   ]
  },
  {
   "cell_type": "code",
   "execution_count": 168,
   "id": "ab9bb1b2",
   "metadata": {},
   "outputs": [
    {
     "name": "stdout",
     "output_type": "stream",
     "text": [
      "[0, 2, 4, 6, 8, 10, 12, 14, 16, 18, 20, 22, 24, 26, 28, 30, 32, 34, 36, 38, 40, 42, 44, 46, 48, 50, 52, 54, 56, 58, 60, 62, 64, 66, 68, 70, 72, 74, 76, 78, 80, 82, 84, 86, 88, 90, 92, 94, 96, 98]\n"
     ]
    }
   ],
   "source": [
    "print(even_numbers)"
   ]
  },
  {
   "cell_type": "markdown",
   "id": "1ae8bf1a",
   "metadata": {},
   "source": [
    "#### List comprehensions can be used with functions"
   ]
  },
  {
   "cell_type": "code",
   "execution_count": 17,
   "id": "b0cbcaf9",
   "metadata": {},
   "outputs": [
    {
     "data": {
      "text/plain": [
       "['My name is Billy', ' I live in Nairobi']"
      ]
     },
     "execution_count": 17,
     "metadata": {},
     "output_type": "execute_result"
    }
   ],
   "source": [
    "myString = 'My name is Billy. I live in Nairobi'\n",
    "myString.split('.')"
   ]
  },
  {
   "cell_type": "code",
   "execution_count": 18,
   "id": "12e6fa38",
   "metadata": {},
   "outputs": [
    {
     "data": {
      "text/plain": [
       "['My', 'name', 'is', 'Billy.', 'I', 'live', 'in', 'Nairobi']"
      ]
     },
     "execution_count": 18,
     "metadata": {},
     "output_type": "execute_result"
    }
   ],
   "source": [
    "myString.split()"
   ]
  },
  {
   "cell_type": "code",
   "execution_count": 19,
   "id": "b5d5a9b5",
   "metadata": {},
   "outputs": [
    {
     "data": {
      "text/plain": [
       "['my', 'name', 'is', 'billy', 'i', 'live', 'in', 'nairobi']"
      ]
     },
     "execution_count": 19,
     "metadata": {},
     "output_type": "execute_result"
    }
   ],
   "source": [
    "def cleanWord(word):\n",
    "    return word.replace('.','').lower()\n",
    "\n",
    "[cleanWord(word) for word in myString.split()]"
   ]
  },
  {
   "cell_type": "code",
   "execution_count": 25,
   "id": "e10a2d0a",
   "metadata": {},
   "outputs": [],
   "source": [
    "def convertToLower(word):\n",
    "    return word.lower()"
   ]
  },
  {
   "cell_type": "code",
   "execution_count": 26,
   "id": "c79a67eb",
   "metadata": {},
   "outputs": [
    {
     "data": {
      "text/plain": [
       "['my', 'name', 'is', 'billy', 'live', 'in', 'nairobi']"
      ]
     },
     "execution_count": 26,
     "metadata": {},
     "output_type": "execute_result"
    }
   ],
   "source": [
    "xt = myString.replace('.','').split()\n",
    "[convertToLower(word) for word in xt if len(word) > 1]"
   ]
  },
  {
   "cell_type": "markdown",
   "id": "d6b72609",
   "metadata": {},
   "source": [
    "- We can also combine this with a conditional statement"
   ]
  },
  {
   "cell_type": "code",
   "execution_count": 20,
   "id": "d766b47a",
   "metadata": {},
   "outputs": [
    {
     "data": {
      "text/plain": [
       "['my', 'name', 'is', 'billy', 'i', 'live', 'in']"
      ]
     },
     "execution_count": 20,
     "metadata": {},
     "output_type": "execute_result"
    }
   ],
   "source": [
    "[cleanWord(word) for word in myString.split() if len(cleanWord(word)) < 6]"
   ]
  },
  {
   "cell_type": "code",
   "execution_count": 21,
   "id": "d7add6d7",
   "metadata": {},
   "outputs": [
    {
     "data": {
      "text/plain": [
       "['my', 'name', 'is', 'billy', 'i', 'live', 'in']"
      ]
     },
     "execution_count": 21,
     "metadata": {},
     "output_type": "execute_result"
    }
   ],
   "source": [
    "[cleanWord(word) for word in myString.split() if len(cleanWord(word)) < 6]"
   ]
  },
  {
   "cell_type": "markdown",
   "id": "e980fea8",
   "metadata": {},
   "source": [
    "#### Nested list comprehensions"
   ]
  },
  {
   "cell_type": "code",
   "execution_count": 183,
   "id": "c9412903",
   "metadata": {},
   "outputs": [
    {
     "data": {
      "text/plain": [
       "[['my', 'name', 'is', 'billy'], ['i', 'live', 'in', 'nairobi']]"
      ]
     },
     "execution_count": 183,
     "metadata": {},
     "output_type": "execute_result"
    }
   ],
   "source": [
    "[[cleanWord(word) for word in sentence.split()] for sentence in myString.split('.')]"
   ]
  },
  {
   "cell_type": "code",
   "execution_count": 28,
   "id": "72a39f10",
   "metadata": {},
   "outputs": [
    {
     "data": {
      "text/plain": [
       "[['my', 'name', 'is', 'billy'], ['i', 'live', 'in', 'nairobi']]"
      ]
     },
     "execution_count": 28,
     "metadata": {},
     "output_type": "execute_result"
    }
   ],
   "source": [
    "[[cleanWord(word) for word in sentence.split()]  for sentence in myString.split('.')]"
   ]
  },
  {
   "cell_type": "code",
   "execution_count": null,
   "id": "105a8af9",
   "metadata": {},
   "outputs": [],
   "source": []
  },
  {
   "cell_type": "code",
   "execution_count": 29,
   "id": "4625f98b",
   "metadata": {},
   "outputs": [
    {
     "data": {
      "text/plain": [
       "['al', 'am', 'an', 'bl', 'bm', 'bn', 'cl', 'cm', 'cn']"
      ]
     },
     "execution_count": 29,
     "metadata": {},
     "output_type": "execute_result"
    }
   ],
   "source": [
    "[x + y for x in 'abc' for y in 'lmn']"
   ]
  },
  {
   "cell_type": "code",
   "execution_count": 30,
   "id": "9e916c3b",
   "metadata": {},
   "outputs": [
    {
     "data": {
      "text/plain": [
       "[0, 2, 4]"
      ]
     },
     "execution_count": 30,
     "metadata": {},
     "output_type": "execute_result"
    }
   ],
   "source": [
    "[x for x in range(5) if x % 2 == 0 ]"
   ]
  },
  {
   "cell_type": "code",
   "execution_count": 31,
   "id": "12067581",
   "metadata": {},
   "outputs": [
    {
     "data": {
      "text/plain": [
       "[100, 120, 765, 101, 121, 766, 102, 122, 767]"
      ]
     },
     "execution_count": 31,
     "metadata": {},
     "output_type": "execute_result"
    }
   ],
   "source": [
    "[x + y for x in [0,1,2] for y in [100,120, 765]]"
   ]
  },
  {
   "cell_type": "markdown",
   "id": "f4586981",
   "metadata": {},
   "source": [
    "#### Dictionary comprehensions"
   ]
  },
  {
   "cell_type": "code",
   "execution_count": 32,
   "id": "1e7c3d5c",
   "metadata": {},
   "outputs": [
    {
     "data": {
      "text/plain": [
       "{'a': 'aadvark', 'b': 'bear', 'c': 'cat', 'd': 'dog'}"
      ]
     },
     "execution_count": 32,
     "metadata": {},
     "output_type": "execute_result"
    }
   ],
   "source": [
    "animalList = [('a','aadvark'),('b', 'bear'),('c','cat'),('d','dog')]\n",
    "animals_ = { item[0]: item[1] for item in animalList }\n",
    "animals_"
   ]
  },
  {
   "cell_type": "code",
   "execution_count": 33,
   "id": "5a41c892",
   "metadata": {},
   "outputs": [],
   "source": [
    "## There is a more elegant way of writing this piece of code:"
   ]
  },
  {
   "cell_type": "code",
   "execution_count": 34,
   "id": "17af8955",
   "metadata": {},
   "outputs": [
    {
     "data": {
      "text/plain": [
       "{'a': 'aadvark', 'b': 'bear', 'c': 'cat', 'd': 'dog'}"
      ]
     },
     "execution_count": 34,
     "metadata": {},
     "output_type": "execute_result"
    }
   ],
   "source": [
    "animals_ = { key: value for key, value in animalList } ## the dictionary comprehension\n",
    "animals_"
   ]
  },
  {
   "cell_type": "code",
   "execution_count": 35,
   "id": "b08aae88",
   "metadata": {},
   "outputs": [
    {
     "data": {
      "text/plain": [
       "{'Barca': ['Messi', 'Suarez', 'Neymar'],\n",
       " 'Real Madrid': ['CR7', 'Bale', 'Vinicius', 'Jude']}"
      ]
     },
     "execution_count": 35,
     "metadata": {},
     "output_type": "execute_result"
    }
   ],
   "source": [
    "players = [\n",
    "            ('Barca','Messi','Suarez','Neymar'),\n",
    "           ('Real Madrid','CR7','Bale','Vinicius','Jude')\n",
    "          ]\n",
    "teams = { team: players[:]  for team, *players  in players }\n",
    "teams"
   ]
  },
  {
   "cell_type": "code",
   "execution_count": 37,
   "id": "dd385114",
   "metadata": {},
   "outputs": [
    {
     "data": {
      "text/plain": [
       "{'Barca': ['Messi', 'Suarez', 'Neymar'],\n",
       " 'Real Madrid': ['CR7', 'Bale', 'Vinicius', 'Jude']}"
      ]
     },
     "execution_count": 37,
     "metadata": {},
     "output_type": "execute_result"
    }
   ],
   "source": [
    "{item[0]: list(item[1:])  for item in players}"
   ]
  },
  {
   "cell_type": "code",
   "execution_count": 39,
   "id": "4e49b9dd",
   "metadata": {},
   "outputs": [
    {
     "data": {
      "text/plain": [
       "{'Barca': ('Messi', 'Suarez', 'Neymar'),\n",
       " 'Real Madrid': ('CR7', 'Bale', 'Vinicius', 'Jude')}"
      ]
     },
     "execution_count": 39,
     "metadata": {},
     "output_type": "execute_result"
    }
   ],
   "source": [
    "{ key: tuple(value[:]) for key, *value in players}"
   ]
  },
  {
   "cell_type": "code",
   "execution_count": 206,
   "id": "1716e4ba",
   "metadata": {},
   "outputs": [
    {
     "data": {
      "text/plain": [
       "{'Barca': ('Messi', 'Suarez', 'Neymar'),\n",
       " 'Real Madrid': ('CR7', 'Bale', 'Vinicius')}"
      ]
     },
     "execution_count": 206,
     "metadata": {},
     "output_type": "execute_result"
    }
   ],
   "source": [
    "teams = { team : tuple(players[:]) for team, *players in players }\n",
    "teams"
   ]
  },
  {
   "cell_type": "markdown",
   "id": "c9b102f0",
   "metadata": {},
   "source": [
    "### Challenge"
   ]
  },
  {
   "cell_type": "markdown",
   "id": "f835f73a",
   "metadata": {},
   "source": [
    "Write a function called \"encodeString\" that will encode a string like \"AAAABBBCC\" as a list of tuples\n",
    "i.e [(\"A\",4),(\"B\",3),(\"C\",2)] meaning that the string has 4 A's, 3B's and 2C's"
   ]
  },
  {
   "cell_type": "code",
   "execution_count": 49,
   "id": "432e2968",
   "metadata": {},
   "outputs": [],
   "source": [
    "def encodeString(stringVal):\n",
    "    encodedList = []\n",
    "    prevChar = stringVal[0]\n",
    "    count = 0\n",
    "    for char in stringVal:\n",
    "        if prevChar != char:\n",
    "            encodedList.append((prevChar, count))\n",
    "            count = 0\n",
    "        prevChar = char\n",
    "        count = count + 1\n",
    "    encodedList.append((prevChar, count))\n",
    "    return encodedList"
   ]
  },
  {
   "cell_type": "code",
   "execution_count": 50,
   "id": "de5a5205",
   "metadata": {},
   "outputs": [],
   "source": [
    "def decodeString(encodedList):\n",
    "    decodeStr = ''\n",
    "    for item in encodedList:\n",
    "        decodeStr = decodeStr + item[0] * item[1]\n",
    "    return decodeStr    "
   ]
  },
  {
   "cell_type": "code",
   "execution_count": 51,
   "id": "6f24f7f2",
   "metadata": {},
   "outputs": [],
   "source": [
    "string = \"FHASDRRRRADDD\""
   ]
  },
  {
   "cell_type": "code",
   "execution_count": 54,
   "id": "d122dc77",
   "metadata": {},
   "outputs": [
    {
     "data": {
      "text/plain": [
       "'FHASDRRRRADDD'"
      ]
     },
     "execution_count": 54,
     "metadata": {},
     "output_type": "execute_result"
    }
   ],
   "source": [
    "y = encodeString(string)\n",
    "decodeString(y)"
   ]
  },
  {
   "cell_type": "code",
   "execution_count": null,
   "id": "cc10a54f",
   "metadata": {},
   "outputs": [],
   "source": []
  },
  {
   "cell_type": "code",
   "execution_count": 57,
   "id": "3bd9cb4f",
   "metadata": {},
   "outputs": [
    {
     "data": {
      "text/plain": [
       "[100,\n",
       " 95,\n",
       " 90,\n",
       " 85,\n",
       " 80,\n",
       " 75,\n",
       " 70,\n",
       " 65,\n",
       " 60,\n",
       " 55,\n",
       " 50,\n",
       " 45,\n",
       " 40,\n",
       " 35,\n",
       " 30,\n",
       " 25,\n",
       " 20,\n",
       " 15,\n",
       " 10,\n",
       " 5,\n",
       " 0]"
      ]
     },
     "execution_count": 57,
     "metadata": {},
     "output_type": "execute_result"
    }
   ],
   "source": [
    "list(range(101))[::-5]"
   ]
  },
  {
   "cell_type": "code",
   "execution_count": 61,
   "id": "1137a618",
   "metadata": {},
   "outputs": [
    {
     "name": "stdout",
     "output_type": "stream",
     "text": [
      "[100, 95, 90, 85, 80, 75, 70, 65, 60, 55, 50, 45, 40, 35, 30, 25, 20, 15, 10, 5, 0]\n"
     ]
    }
   ],
   "source": [
    "print(list(range(101))[::-5])"
   ]
  },
  {
   "cell_type": "code",
   "execution_count": null,
   "id": "6b8b85c4",
   "metadata": {},
   "outputs": [],
   "source": [
    "for n in range(1, 101):\n",
    "    if n % 15 ==0 :\n",
    "        print(\"FizzBuz\")\n",
    "    elif n % 3 == 0:\n",
    "        print(\"Buzz\")\n",
    "    else:\n",
    "        print(\"Nothing\")"
   ]
  },
  {
   "cell_type": "code",
   "execution_count": 64,
   "id": "069fd389",
   "metadata": {},
   "outputs": [
    {
     "name": "stdout",
     "output_type": "stream",
     "text": [
      "Fizz\n"
     ]
    }
   ],
   "source": [
    "n = 3\n",
    "print(\"Fizz\" if n % 3 ==0 else n)"
   ]
  },
  {
   "cell_type": "markdown",
   "id": "455478ea",
   "metadata": {},
   "source": [
    "##### Ternary operators "
   ]
  },
  {
   "cell_type": "code",
   "execution_count": 65,
   "id": "a60f920b",
   "metadata": {},
   "outputs": [],
   "source": [
    "fizzBuzz = \"Fizz\" if n % 3 ==0 else n"
   ]
  },
  {
   "cell_type": "code",
   "execution_count": 66,
   "id": "aa830baa",
   "metadata": {},
   "outputs": [
    {
     "data": {
      "text/plain": [
       "'Fizz'"
      ]
     },
     "execution_count": 66,
     "metadata": {},
     "output_type": "execute_result"
    }
   ],
   "source": [
    "fizzBuzz"
   ]
  },
  {
   "cell_type": "code",
   "execution_count": 67,
   "id": "e7a489ba",
   "metadata": {},
   "outputs": [
    {
     "data": {
      "text/plain": [
       "'Fizz'"
      ]
     },
     "execution_count": 67,
     "metadata": {},
     "output_type": "execute_result"
    }
   ],
   "source": [
    "\"Fizz\" if n % 3 == 0 else \"Buzz\" if n % 5 == 0 else n"
   ]
  },
  {
   "cell_type": "code",
   "execution_count": 68,
   "id": "f1395239",
   "metadata": {
    "scrolled": true
   },
   "outputs": [
    {
     "data": {
      "text/plain": [
       "[1,\n",
       " 2,\n",
       " 'Fizz',\n",
       " 4,\n",
       " 'Buzz',\n",
       " 'Fizz',\n",
       " 7,\n",
       " 8,\n",
       " 'Fizz',\n",
       " 'Buzz',\n",
       " 11,\n",
       " 'Fizz',\n",
       " 13,\n",
       " 14,\n",
       " 'Fizz',\n",
       " 16,\n",
       " 17,\n",
       " 'Fizz',\n",
       " 19,\n",
       " 'Buzz',\n",
       " 'Fizz',\n",
       " 22,\n",
       " 23,\n",
       " 'Fizz',\n",
       " 'Buzz',\n",
       " 26,\n",
       " 'Fizz',\n",
       " 28,\n",
       " 29,\n",
       " 'Fizz',\n",
       " 31,\n",
       " 32,\n",
       " 'Fizz',\n",
       " 34,\n",
       " 'Buzz',\n",
       " 'Fizz',\n",
       " 37,\n",
       " 38,\n",
       " 'Fizz',\n",
       " 'Buzz',\n",
       " 41,\n",
       " 'Fizz',\n",
       " 43,\n",
       " 44,\n",
       " 'Fizz',\n",
       " 46,\n",
       " 47,\n",
       " 'Fizz',\n",
       " 49,\n",
       " 'Buzz',\n",
       " 'Fizz',\n",
       " 52,\n",
       " 53,\n",
       " 'Fizz',\n",
       " 'Buzz',\n",
       " 56,\n",
       " 'Fizz',\n",
       " 58,\n",
       " 59,\n",
       " 'Fizz',\n",
       " 61,\n",
       " 62,\n",
       " 'Fizz',\n",
       " 64,\n",
       " 'Buzz',\n",
       " 'Fizz',\n",
       " 67,\n",
       " 68,\n",
       " 'Fizz',\n",
       " 'Buzz',\n",
       " 71,\n",
       " 'Fizz',\n",
       " 73,\n",
       " 74,\n",
       " 'Fizz',\n",
       " 76,\n",
       " 77,\n",
       " 'Fizz',\n",
       " 79,\n",
       " 'Buzz',\n",
       " 'Fizz',\n",
       " 82,\n",
       " 83,\n",
       " 'Fizz',\n",
       " 'Buzz',\n",
       " 86,\n",
       " 'Fizz',\n",
       " 88,\n",
       " 89,\n",
       " 'Fizz',\n",
       " 91,\n",
       " 92,\n",
       " 'Fizz',\n",
       " 94,\n",
       " 'Buzz',\n",
       " 'Fizz',\n",
       " 97,\n",
       " 98,\n",
       " 'Fizz',\n",
       " 'Buzz']"
      ]
     },
     "execution_count": 68,
     "metadata": {},
     "output_type": "execute_result"
    }
   ],
   "source": [
    "[\"Fizz\" if n % 3 == 0 else \"Buzz\" if n % 5 == 0 else n for n in range(1,101)]"
   ]
  },
  {
   "cell_type": "markdown",
   "id": "dabdedf4",
   "metadata": {},
   "source": [
    "#### While Loops"
   ]
  },
  {
   "cell_type": "code",
   "execution_count": 69,
   "id": "c90e6265",
   "metadata": {},
   "outputs": [],
   "source": [
    "from datetime import datetime"
   ]
  },
  {
   "cell_type": "code",
   "execution_count": 70,
   "id": "c82a487c",
   "metadata": {},
   "outputs": [
    {
     "data": {
      "text/plain": [
       "datetime.datetime(2024, 7, 13, 9, 16, 44, 428801)"
      ]
     },
     "execution_count": 70,
     "metadata": {},
     "output_type": "execute_result"
    }
   ],
   "source": [
    "datetime.now()"
   ]
  },
  {
   "cell_type": "code",
   "execution_count": 71,
   "id": "28e6c5b0",
   "metadata": {},
   "outputs": [
    {
     "data": {
      "text/plain": [
       "56"
      ]
     },
     "execution_count": 71,
     "metadata": {},
     "output_type": "execute_result"
    }
   ],
   "source": [
    "datetime.now().second"
   ]
  },
  {
   "cell_type": "code",
   "execution_count": 79,
   "id": "73810e2a",
   "metadata": {},
   "outputs": [
    {
     "name": "stdout",
     "output_type": "stream",
     "text": [
      "0 1 2 3 4 5 6 7 8 9 "
     ]
    }
   ],
   "source": [
    "a = 0; b = 10 ## initialized the a and b variables\n",
    "\n",
    "while a < b:\n",
    "    print(a, end=' ')\n",
    "    a += 1\n",
    "    continue"
   ]
  },
  {
   "cell_type": "markdown",
   "id": "74950f85",
   "metadata": {},
   "source": [
    "#### break, continue, pass and the Loop else"
   ]
  },
  {
   "cell_type": "markdown",
   "id": "cf8bae8a",
   "metadata": {},
   "source": [
    "In Python: \n",
    "    \n",
    "    - break Jumps out of the closest enclosing loop (past the entire loop statement)\n",
    "    - continue Jumps to the top of the closest enclosing loop (to the loop's header line)\n",
    "    - pass does nothing at ll, it's an empty statement placeholder\n",
    "    - Loop else block runs if and only if the loop is exited normally i.e without hitting a break                                                          "
   ]
  },
  {
   "cell_type": "markdown",
   "id": "0f6d5b92",
   "metadata": {},
   "source": [
    "break and continue statements can appear anywhere inside the while or for loop's body.\n",
    "\n",
    "They are usually coded further nested in an if test to take an action in reponse to some condition.\n",
    "\n"
   ]
  },
  {
   "cell_type": "code",
   "execution_count": 86,
   "id": "947aa206",
   "metadata": {},
   "outputs": [
    {
     "name": "stdout",
     "output_type": "stream",
     "text": [
      "8 6 4 2 0 "
     ]
    }
   ],
   "source": [
    "x = 10 \n",
    "\n",
    "while x:\n",
    "    x = x - 1\n",
    "    if x % 2 == 0: \n",
    "        print(x, end = ' ')"
   ]
  },
  {
   "cell_type": "code",
   "execution_count": 91,
   "id": "7a8cfdaf",
   "metadata": {},
   "outputs": [
    {
     "name": "stdout",
     "output_type": "stream",
     "text": [
      "Enter name SToP\n"
     ]
    }
   ],
   "source": [
    "while True:\n",
    "    name = input(\"Enter name \")\n",
    "    name = name.lower()\n",
    "    if name == 'stop': break\n",
    "    age = input(\"Enter age: \")\n",
    "    print(\"Hello\", name.upper(), '=>', int(age) **2)       "
   ]
  },
  {
   "cell_type": "code",
   "execution_count": 93,
   "id": "121d143a",
   "metadata": {},
   "outputs": [
    {
     "name": "stdout",
     "output_type": "stream",
     "text": [
      "[0, 2, 4, 6, 8, 10, 12, 14, 16, 18, 20, 22, 24, 26, 28, 30, 32, 34, 36, 38, 40, 42, 44, 46, 48, 50, 52, 54, 56, 58, 60, 62, 64, 66, 68, 70, 72, 74, 76, 78, 80, 82, 84, 86, 88, 90, 92, 94, 96, 98, 100]\n"
     ]
    }
   ],
   "source": [
    "print([x for x in range (0,101) if x % 2 ==0])"
   ]
  },
  {
   "cell_type": "code",
   "execution_count": 94,
   "id": "d9de643f",
   "metadata": {},
   "outputs": [
    {
     "name": "stdout",
     "output_type": "stream",
     "text": [
      "[1, 3, 5, 7, 9, 11, 13, 15, 17, 19, 21, 23, 25, 27, 29, 31, 33, 35, 37, 39, 41, 43, 45, 47, 49, 51, 53, 55, 57, 59, 61, 63, 65, 67, 69, 71, 73, 75, 77, 79, 81, 83, 85, 87, 89, 91, 93, 95, 97, 99]\n"
     ]
    }
   ],
   "source": [
    "print([x for x in range (0, 101) if x % 2 != 0])"
   ]
  },
  {
   "cell_type": "code",
   "execution_count": 101,
   "id": "84ca3271",
   "metadata": {},
   "outputs": [
    {
     "data": {
      "text/plain": [
       "[2, 3, 4, 5, 6, 7, 8, 9, 10]"
      ]
     },
     "execution_count": 101,
     "metadata": {},
     "output_type": "execute_result"
    }
   ],
   "source": [
    "n = 11\n",
    "[x for x in range(2, 11) if n %x != 0]"
   ]
  },
  {
   "cell_type": "code",
   "execution_count": 104,
   "id": "469b1734",
   "metadata": {},
   "outputs": [
    {
     "name": "stdout",
     "output_type": "stream",
     "text": [
      "[5, 7, 9, 11, 13, 15, 17, 19]\n"
     ]
    }
   ],
   "source": [
    "def is_prime(n):\n",
    "    if n <= 1:\n",
    "        return False\n",
    "    for i in range(2, int(n ** 0.5) + 1):\n",
    "        if n % i == 0:\n",
    "            return False\n",
    "        return True\n",
    "\n",
    "primes = []\n",
    "for num in range(20):\n",
    "    if is_prime(num):\n",
    "        primes.append(num)\n",
    "        \n",
    "print(primes)        \n",
    "        "
   ]
  },
  {
   "cell_type": "code",
   "execution_count": 111,
   "id": "fb1eb3a7",
   "metadata": {},
   "outputs": [
    {
     "name": "stdout",
     "output_type": "stream",
     "text": [
      "11  is a prime number\n"
     ]
    }
   ],
   "source": [
    "y = 11\n",
    "\n",
    "x = y//2\n",
    "\n",
    "while x > 1:\n",
    "    if y % x == 0:\n",
    "        print(\"Not a prime number\")\n",
    "        break\n",
    "    x -= 1\n",
    "else:\n",
    "    print(y,' is a prime number')"
   ]
  },
  {
   "cell_type": "code",
   "execution_count": 108,
   "id": "37c778d4",
   "metadata": {},
   "outputs": [
    {
     "data": {
      "text/plain": [
       "5"
      ]
     },
     "execution_count": 108,
     "metadata": {},
     "output_type": "execute_result"
    }
   ],
   "source": [
    "11//2"
   ]
  },
  {
   "cell_type": "code",
   "execution_count": 112,
   "id": "0adc2c4b",
   "metadata": {},
   "outputs": [
    {
     "name": "stdout",
     "output_type": "stream",
     "text": [
      "a : ['bear', 'dog', 'tree']\n",
      "b : ['cat']\n",
      "c : ['Tiger', 'Wolf']\n"
     ]
    }
   ],
   "source": [
    "animalLookUp = {\n",
    "    'a': ['bear','dog','tree'],\n",
    "    'b' : ['cat'],\n",
    "    'c' : ['Tiger','Wolf']\n",
    "}\n",
    "\n",
    "for letter, animals in animalLookUp.items():\n",
    "    print(f\"{letter} : {animals}\")"
   ]
  },
  {
   "cell_type": "code",
   "execution_count": 117,
   "id": "00e78bd5",
   "metadata": {},
   "outputs": [
    {
     "name": "stdout",
     "output_type": "stream",
     "text": [
      "only one animal! ['cat']\n"
     ]
    }
   ],
   "source": [
    "for letter, animals in animalLookUp.items():\n",
    "    if len(animals) > 1:\n",
    "        continue\n",
    "    print(f'only one animal! {animals}')    \n",
    "    "
   ]
  },
  {
   "cell_type": "code",
   "execution_count": 119,
   "id": "c7301a80",
   "metadata": {},
   "outputs": [
    {
     "name": "stdout",
     "output_type": "stream",
     "text": [
      "Found 2 animals: ['Tiger', 'Wolf']\n"
     ]
    }
   ],
   "source": [
    "## break will stop at the first instance of a matched condition\n",
    "\n",
    "for letter, animal in animalLookUp.items():\n",
    "    if len(animals) > 1:\n",
    "        print(f'Found {len(animals)} animals: {animals}')\n",
    "        break"
   ]
  },
  {
   "cell_type": "markdown",
   "id": "18244d46",
   "metadata": {},
   "source": [
    "#### For/Else"
   ]
  },
  {
   "cell_type": "code",
   "execution_count": 120,
   "id": "8160ca42",
   "metadata": {},
   "outputs": [
    {
     "name": "stdout",
     "output_type": "stream",
     "text": [
      "2 is prime !\n",
      "3 is prime !\n",
      "5 is prime !\n",
      "7 is prime !\n",
      "11 is prime !\n",
      "13 is prime !\n",
      "17 is prime !\n",
      "19 is prime !\n",
      "23 is prime !\n",
      "29 is prime !\n",
      "31 is prime !\n",
      "37 is prime !\n",
      "41 is prime !\n",
      "43 is prime !\n",
      "47 is prime !\n",
      "53 is prime !\n",
      "59 is prime !\n",
      "61 is prime !\n",
      "67 is prime !\n",
      "71 is prime !\n",
      "73 is prime !\n",
      "79 is prime !\n",
      "83 is prime !\n",
      "89 is prime !\n",
      "97 is prime !\n"
     ]
    }
   ],
   "source": [
    "for number in range(2, 100):\n",
    "    for factor in range(2, int(number ** 0.5) + 1):\n",
    "        if number % factor == 0:\n",
    "            break\n",
    "    else:\n",
    "        print(f'{ number} is prime !')"
   ]
  },
  {
   "cell_type": "code",
   "execution_count": 122,
   "id": "d575a020",
   "metadata": {},
   "outputs": [
    {
     "data": {
      "text/plain": [
       "[1, 'Monty', 'Python', 'Monty', 5, 'Monty Python', 7, 'Monty', 'Python']"
      ]
     },
     "execution_count": 122,
     "metadata": {},
     "output_type": "execute_result"
    }
   ],
   "source": [
    "['Monty Python' if n % 6 == 0 else 'Python' if n % 3 == 0 else 'Monty' if n % 2 == 0 else n for n in range(1, 10)]"
   ]
  },
  {
   "cell_type": "code",
   "execution_count": 125,
   "id": "30d23ffe",
   "metadata": {},
   "outputs": [
    {
     "name": "stdout",
     "output_type": "stream",
     "text": [
      "1\n",
      "2\n",
      "3\n",
      "4\n",
      "5\n",
      "6\n",
      "7\n",
      "8\n",
      "9\n",
      "10\n",
      "11\n"
     ]
    }
   ],
   "source": [
    "for n in range(1,12):\n",
    "    print(n)"
   ]
  },
  {
   "cell_type": "code",
   "execution_count": 131,
   "id": "64631353",
   "metadata": {},
   "outputs": [
    {
     "name": "stdout",
     "output_type": "stream",
     "text": [
      "Test\n"
     ]
    }
   ],
   "source": [
    "for n in range(1,9):\n",
    "    if n % 10 == 0:\n",
    "        break\n",
    "else:\n",
    "    print(\"Test\")"
   ]
  },
  {
   "cell_type": "markdown",
   "id": "b57deb09",
   "metadata": {},
   "source": [
    "## Functions"
   ]
  },
  {
   "cell_type": "code",
   "execution_count": 132,
   "id": "2726274b",
   "metadata": {
    "scrolled": true
   },
   "outputs": [
    {
     "data": {
      "text/plain": [
       "13"
      ]
     },
     "execution_count": 132,
     "metadata": {},
     "output_type": "execute_result"
    }
   ],
   "source": [
    "def performOperation(num1, num2, operation):\n",
    "    if operation == 'sum':\n",
    "        return num1 + num2\n",
    "    if operation == 'multiply':\n",
    "        return num1 * num2\n",
    "    if operation == 'divide':\n",
    "        return num1 / num2\n",
    "    if operation == 'subtract':\n",
    "        return num1 - num2\n",
    "    \n",
    "performOperation(6,7, 'sum')    "
   ]
  },
  {
   "cell_type": "markdown",
   "id": "7b3692c7",
   "metadata": {},
   "source": [
    "### Named Parameters"
   ]
  },
  {
   "cell_type": "markdown",
   "id": "dbc824ac",
   "metadata": {},
   "source": [
    "#### Keyword arguments have to come after positional arguments in Python"
   ]
  },
  {
   "cell_type": "code",
   "execution_count": 134,
   "id": "c4fa724a",
   "metadata": {},
   "outputs": [
    {
     "name": "stdout",
     "output_type": "stream",
     "text": [
      "A divide operation\n"
     ]
    },
    {
     "data": {
      "text/plain": [
       "0.8571428571428571"
      ]
     },
     "execution_count": 134,
     "metadata": {},
     "output_type": "execute_result"
    }
   ],
   "source": [
    "def performOperation(num1, num2, operation = \"sum\", message=\"Default is sum\"):\n",
    "    print(message)\n",
    "    if operation == 'sum':\n",
    "        return num1 + num2\n",
    "    if operation == 'multiply':\n",
    "        return num1 * num2\n",
    "    if operation == 'divide':\n",
    "        return num1 / num2\n",
    "    if operation == 'subtract':\n",
    "        return num1 - num2\n",
    "    \n",
    "performOperation(6,7,operation = 'divide', message=\"A divide operation\")    "
   ]
  },
  {
   "cell_type": "markdown",
   "id": "382ea832",
   "metadata": {},
   "source": [
    "#### After the positional arguments, the keyword arguments can be in any order"
   ]
  },
  {
   "cell_type": "markdown",
   "id": "a3af2aa4",
   "metadata": {},
   "source": [
    "### *args"
   ]
  },
  {
   "cell_type": "code",
   "execution_count": 136,
   "id": "b83362d3",
   "metadata": {},
   "outputs": [
    {
     "name": "stdout",
     "output_type": "stream",
     "text": [
      "(1, 2, 3)\n"
     ]
    }
   ],
   "source": [
    "def performOperations(*args):\n",
    "    print(args)\n",
    "    \n",
    "performOperations(1,2,3)  "
   ]
  },
  {
   "cell_type": "markdown",
   "id": "806a9706",
   "metadata": {},
   "source": [
    "- *args are applicable for any unprecedented number of positional arguments"
   ]
  },
  {
   "cell_type": "markdown",
   "id": "33d40c8d",
   "metadata": {},
   "source": [
    "### **kwargs"
   ]
  },
  {
   "cell_type": "code",
   "execution_count": 137,
   "id": "724ed115",
   "metadata": {},
   "outputs": [
    {
     "name": "stdout",
     "output_type": "stream",
     "text": [
      "(1, 2, 3)\n",
      "{'operations': ['sum', 'divide']}\n"
     ]
    }
   ],
   "source": [
    "def performOperations(*args, **kwargs):\n",
    "    print(args)\n",
    "    print(kwargs)\n",
    "    \n",
    "performOperations(1,2,3, operations=[\"sum\",\"divide\"])  "
   ]
  },
  {
   "cell_type": "code",
   "execution_count": 138,
   "id": "3da072f6",
   "metadata": {},
   "outputs": [],
   "source": [
    "import math"
   ]
  },
  {
   "cell_type": "code",
   "execution_count": 148,
   "id": "ca871a27",
   "metadata": {},
   "outputs": [],
   "source": [
    "def performMath(*args, operation = 'sum'):\n",
    "    x = locals()\n",
    "    print(x.items())\n",
    "    if operation == 'sum':\n",
    "        return sum(args)\n",
    "    if operation == 'multiply':\n",
    "        return math.prod(args)   "
   ]
  },
  {
   "cell_type": "code",
   "execution_count": 149,
   "id": "3cf48ab4",
   "metadata": {},
   "outputs": [
    {
     "name": "stdout",
     "output_type": "stream",
     "text": [
      "dict_items([('operation', 'multiply'), ('args', (2, 4, 5, 6))])\n"
     ]
    },
    {
     "data": {
      "text/plain": [
       "240"
      ]
     },
     "execution_count": 149,
     "metadata": {},
     "output_type": "execute_result"
    }
   ],
   "source": [
    "performMath(2,4,5,6, operation=\"multiply\")"
   ]
  },
  {
   "cell_type": "markdown",
   "id": "cea8bc51",
   "metadata": {},
   "source": [
    "##### globals() and locals() can be used to get the local variables and global variables"
   ]
  },
  {
   "cell_type": "markdown",
   "id": "8ebc6f83",
   "metadata": {},
   "source": [
    "- Python searches for variables in the local scope first before searching for it's definition in the global scope."
   ]
  },
  {
   "cell_type": "code",
   "execution_count": 152,
   "id": "fb870706",
   "metadata": {},
   "outputs": [],
   "source": [
    "text = '''\n",
    "Beautiful is better than ugly.\n",
    "Explicit is better than implicit.\n",
    "Simple is better than complex.\n",
    "Complex is better than complicated.\n",
    "Flat is better than nested.\n",
    "Sparse is better than dense.\n",
    "Readability counts.\n",
    "Special cases aren't special enough to break the rules.\n",
    "Although practicality beats purity.\n",
    "Errors should never pass silently.\n",
    "Unless explicitly silenced.\n",
    "In the face of ambiguity, refuse the temptation to guess.\n",
    "There should be one-- and preferably only one --obvious way to do it.\n",
    "Although that way may not be obvious at first unless you're Dutch.\n",
    "Now is better than never.\n",
    "Although never is often better than *right* now.\n",
    "If the implementation is hard to explain, it's a bad idea.\n",
    "If the implementation is easy to explain, it may be a good idea.\n",
    "Namespaces are one honking great idea -- let's do more of those!\n",
    "'''"
   ]
  },
  {
   "cell_type": "code",
   "execution_count": 153,
   "id": "f5de070f",
   "metadata": {},
   "outputs": [],
   "source": [
    "def lowercase(text):\n",
    "    return text.lower()\n",
    "\n",
    "def removePunctuation(text):\n",
    "    punctuations = ['.','-','/','!',':',';','*']\n",
    "    for punctuation in punctuations:\n",
    "        text = text.replace(punctuation,'')\n",
    "    return text\n",
    "\n",
    "def removeNewLines(text):\n",
    "    text  = text.replace('\\n',' ')\n",
    "    return text\n",
    "\n",
    "def removeShortWords(text):\n",
    "    return ' '.join([word for word in text.split() if len(word) > 3])\n",
    "\n",
    "def removeLongWords(text):\n",
    "    return ' '.join([word for word in text.split() if len(word) < 6]) "
   ]
  },
  {
   "cell_type": "code",
   "execution_count": 155,
   "id": "4fe0b5dc",
   "metadata": {},
   "outputs": [
    {
     "name": "stdout",
     "output_type": "stream",
     "text": [
      "beautiful better than ugly explicit better than implicit simple better than complex complex better than complicated flat better than nested sparse better than dense readability counts special cases aren't special enough break rules although practicality beats purity errors should never pass silently unless explicitly silenced face ambiguity, refuse temptation guess there should preferably only obvious although that obvious first unless you're dutch better than never although never often better than right implementation hard explain, it's idea implementation easy explain, good idea namespaces honking great idea let's more those\n"
     ]
    }
   ],
   "source": [
    "processors = [lowercase, removePunctuation, removeNewLines,removeShortWords]\n",
    "for func in processors:\n",
    "    text = func(text)\n",
    "print(text)"
   ]
  },
  {
   "cell_type": "code",
   "execution_count": 166,
   "id": "27f18036",
   "metadata": {},
   "outputs": [],
   "source": [
    "def triangle(num):\n",
    "    if num == 1:\n",
    "        return num\n",
    "    return num + triangle(num - 1) ## recursive function"
   ]
  },
  {
   "cell_type": "code",
   "execution_count": 165,
   "id": "83fa190b",
   "metadata": {},
   "outputs": [
    {
     "data": {
      "text/plain": [
       "6"
      ]
     },
     "execution_count": 165,
     "metadata": {},
     "output_type": "execute_result"
    }
   ],
   "source": [
    "triangle(3)"
   ]
  },
  {
   "cell_type": "code",
   "execution_count": 179,
   "id": "62e03569",
   "metadata": {},
   "outputs": [],
   "source": [
    "def square(num):\n",
    "    if num == 1:\n",
    "        return num\n",
    "    return triangle(num) + triangle(num - 1)"
   ]
  },
  {
   "cell_type": "code",
   "execution_count": 181,
   "id": "9dfe4fdf",
   "metadata": {},
   "outputs": [
    {
     "data": {
      "text/plain": [
       "25"
      ]
     },
     "execution_count": 181,
     "metadata": {},
     "output_type": "execute_result"
    }
   ],
   "source": [
    "square(5)"
   ]
  },
  {
   "cell_type": "code",
   "execution_count": null,
   "id": "6ec9d9d0",
   "metadata": {},
   "outputs": [],
   "source": []
  },
  {
   "cell_type": "markdown",
   "id": "fe0f2b88",
   "metadata": {},
   "source": [
    "### Lambda functions"
   ]
  },
  {
   "cell_type": "code",
   "execution_count": null,
   "id": "2277b0e6",
   "metadata": {},
   "outputs": [],
   "source": []
  },
  {
   "cell_type": "code",
   "execution_count": null,
   "id": "d69e2433",
   "metadata": {},
   "outputs": [],
   "source": []
  },
  {
   "cell_type": "code",
   "execution_count": null,
   "id": "504731bc",
   "metadata": {},
   "outputs": [],
   "source": []
  },
  {
   "cell_type": "code",
   "execution_count": null,
   "id": "69349c27",
   "metadata": {},
   "outputs": [],
   "source": []
  },
  {
   "cell_type": "markdown",
   "id": "bed429aa",
   "metadata": {},
   "source": [
    "## Classes"
   ]
  },
  {
   "cell_type": "code",
   "execution_count": 8,
   "id": "b4c7c509",
   "metadata": {},
   "outputs": [],
   "source": [
    "class WordSet:\n",
    "    def __init__(self):\n",
    "        self.words = set()\n",
    "        \n",
    "    def addText(self, text):\n",
    "        text = self.cleanText(text)\n",
    "        for word in text.split():\n",
    "            self.words.add(word)\n",
    "            \n",
    "        \n",
    "    def cleanText(self,text):\n",
    "        punctuations = [',','!','%',';','*','&','$','/','.']\n",
    "        for punctuation in punctuations:\n",
    "            text = text.replace(punctuation,'')\n",
    "        return text.lower()\n",
    "    "
   ]
  },
  {
   "cell_type": "code",
   "execution_count": 10,
   "id": "a2b45b8f",
   "metadata": {},
   "outputs": [],
   "source": [
    "wordset = WordSet()\n",
    "wordset.addText('This is KES. currency not & !')\n",
    "wordset.addText('This is also a new current type! /')"
   ]
  },
  {
   "cell_type": "code",
   "execution_count": 12,
   "id": "e4a28fd6",
   "metadata": {},
   "outputs": [
    {
     "data": {
      "text/plain": [
       "{'a', 'also', 'currency', 'current', 'is', 'kes', 'new', 'not', 'this', 'type'}"
      ]
     },
     "execution_count": 12,
     "metadata": {},
     "output_type": "execute_result"
    }
   ],
   "source": [
    "wordset.words"
   ]
  },
  {
   "cell_type": "code",
   "execution_count": null,
   "id": "57ae294c",
   "metadata": {},
   "outputs": [],
   "source": []
  },
  {
   "cell_type": "code",
   "execution_count": null,
   "id": "fbfbb1ac",
   "metadata": {},
   "outputs": [],
   "source": [
    "# A simple class with one attribute and one method\n",
    "class ParentClass:\n",
    "    def __init__(self, val):\n",
    "        self.val = val\n",
    "        \n",
    "    def printVal(self):\n",
    "        print(self.val)\n",
    "        \n",
    "\n",
    "classInstance = ParentClass('Value for the class attribute \"val\"')\n",
    "classInstance.printVal()"
   ]
  },
  {
   "cell_type": "code",
   "execution_count": null,
   "id": "01e3544e",
   "metadata": {},
   "outputs": [],
   "source": [
    "# Extend the parent class to create a child class        \n",
    "class ChildClass(parentClass):\n",
    "    \n",
    "    def printVal(self):\n",
    "        print('Child class! {}'.format(self.val))\n",
    "        \n",
    "childInstance = ChildClass('Value for the class attribute \"val\"')\n",
    "childInstance.printVal()   "
   ]
  },
  {
   "cell_type": "code",
   "execution_count": null,
   "id": "3cc855fa",
   "metadata": {},
   "outputs": [],
   "source": [
    "# Overriding the parent class constructor\n",
    "class AnotherChildClass(parentClass):\n",
    "    def __init__(self):\n",
    "        super().__init__('A default value')\n",
    "        \n",
    "anotherChildInstance = AnotherChildClass()\n",
    "anotherChildInstance.printVal()"
   ]
  },
  {
   "cell_type": "markdown",
   "id": "55741ea8",
   "metadata": {},
   "source": [
    "## File Handling"
   ]
  },
  {
   "cell_type": "code",
   "execution_count": null,
   "id": "21ebdf42",
   "metadata": {},
   "outputs": [],
   "source": [
    "# Open a file for reading\n",
    "with open('09_01_file.txt', 'r') as f:\n",
    "    data = f.readlines()\n",
    "print(data)"
   ]
  },
  {
   "cell_type": "code",
   "execution_count": null,
   "id": "a374618f",
   "metadata": {},
   "outputs": [],
   "source": [
    "with open('test.txt', 'w') as f:\n",
    "    f.write('Writing a new line\\n')"
   ]
  },
  {
   "cell_type": "code",
   "execution_count": null,
   "id": "7d69598c",
   "metadata": {},
   "outputs": [],
   "source": [
    "with open('test.txt', 'a') as f:\n",
    "    f.write('Adding a new line to the last one\\n')"
   ]
  }
 ],
 "metadata": {
  "kernelspec": {
   "display_name": "Python 3 (ipykernel)",
   "language": "python",
   "name": "python3"
  },
  "language_info": {
   "codemirror_mode": {
    "name": "ipython",
    "version": 3
   },
   "file_extension": ".py",
   "mimetype": "text/x-python",
   "name": "python",
   "nbconvert_exporter": "python",
   "pygments_lexer": "ipython3",
   "version": "3.11.5"
  }
 },
 "nbformat": 4,
 "nbformat_minor": 5
}
