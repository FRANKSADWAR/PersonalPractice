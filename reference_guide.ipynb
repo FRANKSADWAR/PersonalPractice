{
 "cells": [
  {
   "cell_type": "markdown",
   "id": "71ed3d22",
   "metadata": {},
   "source": [
    "# Python Reference Guide"
   ]
  },
  {
   "cell_type": "markdown",
   "id": "1e907e0c",
   "metadata": {},
   "source": [
    "Need a quick reference guide to help you while you hack? This is no substitute for the actual course content, but here's a \"cheatsheet\" to help jog your memory!"
   ]
  },
  {
   "cell_type": "markdown",
   "id": "fadb6601",
   "metadata": {},
   "source": [
    "## Handy Functions"
   ]
  },
  {
   "cell_type": "code",
   "execution_count": null,
   "id": "7c3e0a42",
   "metadata": {},
   "outputs": [],
   "source": [
    "print('This will print some text')"
   ]
  },
  {
   "cell_type": "code",
   "execution_count": null,
   "id": "3ec022ba",
   "metadata": {},
   "outputs": [],
   "source": [
    "# Use string formatting (\"f-strings\") to insert values\n",
    "name = 'Ryan'\n",
    "f'My name is: {name}'"
   ]
  },
  {
   "cell_type": "code",
   "execution_count": null,
   "id": "1ab7a06a",
   "metadata": {},
   "outputs": [],
   "source": [
    "# An iterable object containing sequential integers\n",
    "range(0, 10)\n",
    "\n",
    "# Iterate by steps of 2\n",
    "range(0, 10, 2)"
   ]
  },
  {
   "cell_type": "code",
   "execution_count": null,
   "id": "835fcf5c",
   "metadata": {},
   "outputs": [],
   "source": [
    "# Returns the datatype of the value passed in\n",
    "type(1)"
   ]
  },
  {
   "cell_type": "markdown",
   "id": "e38dc92b",
   "metadata": {},
   "source": [
    "## Math Operators"
   ]
  },
  {
   "cell_type": "code",
   "execution_count": null,
   "id": "cdf9ab4a",
   "metadata": {},
   "outputs": [],
   "source": [
    "# Addition\n",
    "1 + 1"
   ]
  },
  {
   "cell_type": "code",
   "execution_count": null,
   "id": "563311f2",
   "metadata": {},
   "outputs": [],
   "source": [
    "# Subtraction\n",
    "2 - 1"
   ]
  },
  {
   "cell_type": "code",
   "execution_count": null,
   "id": "29ee6dd9",
   "metadata": {},
   "outputs": [],
   "source": [
    "# Multiplication\n",
    "5 * 5"
   ]
  },
  {
   "cell_type": "code",
   "execution_count": null,
   "id": "09a49593",
   "metadata": {},
   "outputs": [],
   "source": [
    "# Division\n",
    "25 / 5"
   ]
  },
  {
   "cell_type": "code",
   "execution_count": null,
   "id": "6707e4e5",
   "metadata": {},
   "outputs": [],
   "source": [
    "# Exponents \n",
    "5 ** 3"
   ]
  },
  {
   "cell_type": "code",
   "execution_count": null,
   "id": "659df18d",
   "metadata": {},
   "outputs": [],
   "source": [
    "# Modulus (remainder after division)\n",
    "17 % 5"
   ]
  },
  {
   "cell_type": "markdown",
   "id": "2b890997",
   "metadata": {},
   "source": [
    "## Data Types"
   ]
  },
  {
   "cell_type": "code",
   "execution_count": null,
   "id": "0e3bde08",
   "metadata": {},
   "outputs": [],
   "source": [
    "# Integers\n",
    "x = 1\n",
    "type(x)"
   ]
  },
  {
   "cell_type": "code",
   "execution_count": null,
   "id": "b2dd1551",
   "metadata": {},
   "outputs": [],
   "source": [
    "# Floats\n",
    "x = 1.0\n",
    "type(x)"
   ]
  },
  {
   "cell_type": "code",
   "execution_count": null,
   "id": "a981a3d0",
   "metadata": {},
   "outputs": [],
   "source": [
    "# Strings\n",
    "x = 'Ryan'\n",
    "type(x)"
   ]
  },
  {
   "cell_type": "code",
   "execution_count": null,
   "id": "b36870dc",
   "metadata": {},
   "outputs": [],
   "source": [
    "# Booleans\n",
    "x = True\n",
    "type(x)"
   ]
  },
  {
   "cell_type": "code",
   "execution_count": null,
   "id": "281f4c7c",
   "metadata": {},
   "outputs": [],
   "source": [
    "# Byte data\n",
    "x = bytes(4)\n",
    "type(x)"
   ]
  },
  {
   "cell_type": "markdown",
   "id": "b20d6ca4",
   "metadata": {},
   "source": [
    "### Casting Datatypes"
   ]
  },
  {
   "cell_type": "code",
   "execution_count": null,
   "id": "5aa946e4",
   "metadata": {},
   "outputs": [],
   "source": [
    "# String to integer\n",
    "int('1')"
   ]
  },
  {
   "cell_type": "code",
   "execution_count": null,
   "id": "ab1c3cf2",
   "metadata": {},
   "outputs": [],
   "source": [
    "# Float to integer\n",
    "int(1.5)"
   ]
  },
  {
   "cell_type": "code",
   "execution_count": null,
   "id": "5ae89ef1",
   "metadata": {},
   "outputs": [],
   "source": [
    "# Integer to float\n",
    "float(1)"
   ]
  },
  {
   "cell_type": "code",
   "execution_count": null,
   "id": "844ab9ce",
   "metadata": {},
   "outputs": [],
   "source": [
    "# Integer to boolean\n",
    "bool(1)"
   ]
  },
  {
   "cell_type": "code",
   "execution_count": null,
   "id": "ede2547c",
   "metadata": {},
   "outputs": [],
   "source": [
    "# String to boolean (Anything other than an empty string is True)\n",
    "bool('')"
   ]
  },
  {
   "cell_type": "code",
   "execution_count": null,
   "id": "2158dae1",
   "metadata": {},
   "outputs": [],
   "source": [
    "# Int to string\n",
    "str(1)"
   ]
  },
  {
   "cell_type": "code",
   "execution_count": null,
   "id": "26ff8624",
   "metadata": {},
   "outputs": [],
   "source": [
    "# String to bytes, requires the encoding\n",
    "bytes('🙂', 'utf-8')"
   ]
  },
  {
   "cell_type": "markdown",
   "id": "fe277050",
   "metadata": {},
   "source": [
    "## String Operators"
   ]
  },
  {
   "cell_type": "code",
   "execution_count": null,
   "id": "39bd5f9a",
   "metadata": {},
   "outputs": [],
   "source": [
    "# String concatenation\n",
    "'Ryan ' + 'Mitchell'"
   ]
  },
  {
   "cell_type": "code",
   "execution_count": null,
   "id": "ae71aefe",
   "metadata": {},
   "outputs": [],
   "source": [
    "# String multiplication\n",
    "'Python'*6"
   ]
  },
  {
   "cell_type": "code",
   "execution_count": null,
   "id": "37fbcde4",
   "metadata": {},
   "outputs": [],
   "source": [
    "# Access a particular character in a string\n",
    "'Python'[3]"
   ]
  },
  {
   "cell_type": "markdown",
   "id": "cdd3e0cd",
   "metadata": {},
   "source": [
    "## Boolean Operators"
   ]
  },
  {
   "cell_type": "code",
   "execution_count": null,
   "id": "ba869927",
   "metadata": {},
   "outputs": [],
   "source": [
    "# AND\n",
    "print(True and True)\n",
    "print(True and False)\n",
    "print(False and False)"
   ]
  },
  {
   "cell_type": "code",
   "execution_count": null,
   "id": "28b2fa5f",
   "metadata": {},
   "outputs": [],
   "source": [
    "# OR\n",
    "print(True or True)\n",
    "print(True or False)\n",
    "print(False or False)"
   ]
  },
  {
   "cell_type": "code",
   "execution_count": null,
   "id": "bc55ebf9",
   "metadata": {},
   "outputs": [],
   "source": [
    "# NOT \n",
    "print(not True)\n",
    "print(not False)"
   ]
  },
  {
   "cell_type": "code",
   "execution_count": null,
   "id": "35e8e720",
   "metadata": {},
   "outputs": [],
   "source": [
    "# Equality operator\n",
    "5 == 5"
   ]
  },
  {
   "cell_type": "code",
   "execution_count": null,
   "id": "f1306639",
   "metadata": {},
   "outputs": [],
   "source": [
    "# Inequality operator\n",
    "5 != 4"
   ]
  },
  {
   "cell_type": "code",
   "execution_count": null,
   "id": "5ec97ec8",
   "metadata": {},
   "outputs": [],
   "source": [
    "# Less than\n",
    "4 < 5"
   ]
  },
  {
   "cell_type": "code",
   "execution_count": null,
   "id": "e20ef2df",
   "metadata": {},
   "outputs": [],
   "source": [
    "# Less than or equals to \n",
    "5 <= 5"
   ]
  },
  {
   "cell_type": "code",
   "execution_count": null,
   "id": "09cc20bc",
   "metadata": {},
   "outputs": [],
   "source": [
    "# Greater than\n",
    "5 > 4"
   ]
  },
  {
   "cell_type": "code",
   "execution_count": null,
   "id": "b60907e6",
   "metadata": {},
   "outputs": [],
   "source": [
    "# Greater than or equals to\n",
    "5 >= 5"
   ]
  },
  {
   "cell_type": "markdown",
   "id": "2a2e7267",
   "metadata": {},
   "source": [
    "## Control Flow"
   ]
  },
  {
   "cell_type": "code",
   "execution_count": null,
   "id": "d50b0640",
   "metadata": {},
   "outputs": [],
   "source": []
  },
  {
   "cell_type": "code",
   "execution_count": null,
   "id": "cb4e8515",
   "metadata": {},
   "outputs": [],
   "source": [
    "if False: \n",
    "    print('This does not print')\n",
    "else: \n",
    "    print('This will print')"
   ]
  },
  {
   "cell_type": "code",
   "execution_count": null,
   "id": "8e2abd4c",
   "metadata": {},
   "outputs": [],
   "source": [
    "# Iterate through items in a range\n",
    "for i in range(0, 5):\n",
    "    print('Number: {}'.format(i))"
   ]
  },
  {
   "cell_type": "code",
   "execution_count": null,
   "id": "9fffb55a",
   "metadata": {},
   "outputs": [],
   "source": [
    "# Iterate through items in a list\n",
    "for i in [1,2,3,4,5]:\n",
    "    print('Number: {}'.format(i))"
   ]
  },
  {
   "cell_type": "code",
   "execution_count": null,
   "id": "d3644b73",
   "metadata": {},
   "outputs": [],
   "source": [
    "i = 0\n",
    "while i < 5:\n",
    "    print('Number: {}'.format(i))\n",
    "    i = i + 1"
   ]
  },
  {
   "cell_type": "markdown",
   "id": "d3e111af",
   "metadata": {},
   "source": [
    "## Data Types"
   ]
  },
  {
   "cell_type": "markdown",
   "id": "6cd23c41",
   "metadata": {},
   "source": [
    "### Lists"
   ]
  },
  {
   "cell_type": "code",
   "execution_count": null,
   "id": "1652a902",
   "metadata": {},
   "outputs": [],
   "source": [
    "aList = [1,2,3,4]\n",
    "type(aList)"
   ]
  },
  {
   "cell_type": "code",
   "execution_count": null,
   "id": "6190492f",
   "metadata": {},
   "outputs": [],
   "source": [
    "# Append item to a list\n",
    "aList.append(5)\n",
    "aList"
   ]
  },
  {
   "cell_type": "code",
   "execution_count": null,
   "id": "0c73fb6f",
   "metadata": {},
   "outputs": [],
   "source": [
    "# List concatenation\n",
    "[1,2,3] + [4,5,6]"
   ]
  },
  {
   "cell_type": "code",
   "execution_count": null,
   "id": "2f429961",
   "metadata": {},
   "outputs": [],
   "source": [
    "# List multiplication\n",
    "[1,2] * 5"
   ]
  },
  {
   "cell_type": "code",
   "execution_count": null,
   "id": "8dc04f2c",
   "metadata": {},
   "outputs": [],
   "source": [
    "# Accessing items in a list\n",
    "\n",
    "aList = [1,2,3,4,5,6,7,8,9,10]\n",
    "# Print the item at index 4\n",
    "print(aList[4])\n",
    "\n",
    "# Print the items at index 0, up to (not including) index 4\n",
    "print(aList[0:4])\n",
    "\n",
    "# If the first index is missing, it's assumed to be 0\n",
    "print(aList[:4])\n",
    "\n",
    "# If the last index is missing, it's assumed to go to the end of the list\n",
    "print(aList[4:])\n",
    "\n",
    "# Print every other item in the list\n",
    "print(aList[::2])\n",
    "\n",
    "# Print every third item in the list\n",
    "print(aList[::3])"
   ]
  },
  {
   "cell_type": "markdown",
   "id": "8c91a2cf",
   "metadata": {},
   "source": [
    "- A list is an unhashable type in Python because it is mutable, meaning that when its contents change, the hash value changes"
   ]
  },
  {
   "cell_type": "markdown",
   "id": "b3f6a1a2",
   "metadata": {},
   "source": [
    "- Only immutable types such as strings or tuples can be added directly to a set"
   ]
  },
  {
   "cell_type": "markdown",
   "id": "a7307ea7",
   "metadata": {},
   "source": [
    "### Dictionaries"
   ]
  },
  {
   "cell_type": "code",
   "execution_count": null,
   "id": "c167cdcf",
   "metadata": {
    "scrolled": true
   },
   "outputs": [],
   "source": [
    "aDict = {\n",
    "    'one': 1,\n",
    "    'two': 2,\n",
    "    'three': 3,\n",
    "}\n",
    "# Add key/value pairs to dictionary\n",
    "aDict['four'] = 4\n",
    "\n",
    "# Access values by keys\n",
    "print(aDict['one'])"
   ]
  },
  {
   "cell_type": "code",
   "execution_count": null,
   "id": "08a785bc",
   "metadata": {},
   "outputs": [],
   "source": [
    "# Print all keys\n",
    "print(aDict.keys())\n",
    "\n",
    "# Print all values\n",
    "print(aDict.values())\n",
    "\n",
    "# Print all key/value pairs\n",
    "print(aDict.items())"
   ]
  },
  {
   "cell_type": "markdown",
   "id": "5d90663f",
   "metadata": {},
   "source": [
    "### Sets"
   ]
  },
  {
   "cell_type": "code",
   "execution_count": null,
   "id": "5a6bcf01",
   "metadata": {},
   "outputs": [],
   "source": [
    "aSet = {1,2,3,4}\n",
    "\n",
    "# Add an item to a set\n",
    "aSet.add(5)\n",
    "\n",
    "# Remove an item from a set\n",
    "aSet.remove(2)\n",
    "print(aSet)"
   ]
  },
  {
   "cell_type": "markdown",
   "id": "9acf5726",
   "metadata": {},
   "source": [
    "- Sets cannot have duplicates\n",
    "\n",
    "- Sets are not subscriptable, so you cannot use the slicing syntax with it. An object is subscriptable if it contains elements\n",
    "that can be accessed by an index"
   ]
  },
  {
   "cell_type": "code",
   "execution_count": null,
   "id": "4d4bff3b",
   "metadata": {},
   "outputs": [],
   "source": [
    "mySet = set()"
   ]
  },
  {
   "cell_type": "code",
   "execution_count": null,
   "id": "89899bc1",
   "metadata": {},
   "outputs": [],
   "source": [
    "mySet.add((2,34,7))"
   ]
  },
  {
   "cell_type": "code",
   "execution_count": null,
   "id": "bfbe2f85",
   "metadata": {},
   "outputs": [],
   "source": [
    "mySet.update([2,43,8])"
   ]
  },
  {
   "cell_type": "code",
   "execution_count": null,
   "id": "3832db49",
   "metadata": {},
   "outputs": [],
   "source": [
    "mySet.clear()"
   ]
  },
  {
   "cell_type": "code",
   "execution_count": null,
   "id": "e4d4c419",
   "metadata": {},
   "outputs": [],
   "source": [
    "mySet = {'Id','start_date','end_date','invoices','conversion'}"
   ]
  },
  {
   "cell_type": "code",
   "execution_count": null,
   "id": "a66775b1",
   "metadata": {},
   "outputs": [],
   "source": [
    "mySet"
   ]
  },
  {
   "cell_type": "code",
   "execution_count": null,
   "id": "8c511948",
   "metadata": {},
   "outputs": [],
   "source": [
    "mySet2 = set(('order_id','start_date','posting_date','grand_total'))"
   ]
  },
  {
   "cell_type": "code",
   "execution_count": null,
   "id": "cd9a61a3",
   "metadata": {},
   "outputs": [],
   "source": [
    "mySet1 = {'Id','start_date','end_date','invoices','conversion'}"
   ]
  },
  {
   "cell_type": "code",
   "execution_count": null,
   "id": "fa979da4",
   "metadata": {},
   "outputs": [],
   "source": [
    "mySet2"
   ]
  },
  {
   "cell_type": "code",
   "execution_count": null,
   "id": "7bcca4c1",
   "metadata": {},
   "outputs": [],
   "source": [
    "## add elements into the set\n",
    "mySet1.add('homer')"
   ]
  },
  {
   "cell_type": "code",
   "execution_count": null,
   "id": "31435815",
   "metadata": {},
   "outputs": [],
   "source": [
    "mySet1"
   ]
  },
  {
   "cell_type": "code",
   "execution_count": null,
   "id": "af9070ad",
   "metadata": {},
   "outputs": [],
   "source": [
    "## add elements into the set\n",
    "mySet1.update(['greener'])"
   ]
  },
  {
   "cell_type": "code",
   "execution_count": null,
   "id": "890ec806",
   "metadata": {},
   "outputs": [],
   "source": [
    "mySet1"
   ]
  },
  {
   "cell_type": "code",
   "execution_count": null,
   "id": "74540d6c",
   "metadata": {},
   "outputs": [],
   "source": [
    "## You can create a list from a set and a set from a list"
   ]
  },
  {
   "cell_type": "code",
   "execution_count": null,
   "id": "f296ba1f",
   "metadata": {},
   "outputs": [],
   "source": [
    "myList = ['a','column','Column','column','b','b','B','t']\n",
    "myList = list(set(myList))\n",
    "myList"
   ]
  },
  {
   "cell_type": "code",
   "execution_count": null,
   "id": "7517d37d",
   "metadata": {},
   "outputs": [],
   "source": [
    "lset = set(myList)\n",
    "lset"
   ]
  },
  {
   "cell_type": "code",
   "execution_count": null,
   "id": "052e7c1d",
   "metadata": {},
   "outputs": [],
   "source": [
    "list(lset)"
   ]
  },
  {
   "cell_type": "markdown",
   "id": "f97eb174",
   "metadata": {},
   "source": [
    "- Sets are unordered, keep that in mind"
   ]
  },
  {
   "cell_type": "markdown",
   "id": "8819d6b4",
   "metadata": {},
   "source": [
    "- We can have membership boolean operations in sets as well"
   ]
  },
  {
   "cell_type": "code",
   "execution_count": null,
   "id": "a27ac5e6",
   "metadata": {},
   "outputs": [],
   "source": [
    "'d' in mySet"
   ]
  },
  {
   "cell_type": "code",
   "execution_count": null,
   "id": "5b6e3f51",
   "metadata": {},
   "outputs": [],
   "source": [
    "'b' in mySet"
   ]
  },
  {
   "cell_type": "code",
   "execution_count": null,
   "id": "9a51fc1d",
   "metadata": {
    "scrolled": true
   },
   "outputs": [],
   "source": [
    "'start_date' in mySet"
   ]
  },
  {
   "cell_type": "markdown",
   "id": "2d1450c6",
   "metadata": {},
   "source": [
    "- You can also use the length function with sets just like with lists"
   ]
  },
  {
   "cell_type": "code",
   "execution_count": null,
   "id": "89e5830e",
   "metadata": {},
   "outputs": [],
   "source": [
    "len(mySet)"
   ]
  },
  {
   "cell_type": "code",
   "execution_count": null,
   "id": "e8df5236",
   "metadata": {},
   "outputs": [],
   "source": [
    "## You can use the pop function to get elements from a set\n",
    "\n",
    "while len(mySet):\n",
    "    print(mySet.pop())"
   ]
  },
  {
   "cell_type": "code",
   "execution_count": null,
   "id": "e76fe4f3",
   "metadata": {},
   "outputs": [],
   "source": [
    "mySet = set(('start_date', 'conversion', 'homer', 'greener', 'Id', 'invoices', 'end_date'))\n",
    "mySet"
   ]
  },
  {
   "cell_type": "code",
   "execution_count": null,
   "id": "20a62247",
   "metadata": {},
   "outputs": [],
   "source": [
    "## Elements can be removed from a set completely\n",
    "\n",
    "mySet.discard('greener')\n",
    "mySet"
   ]
  },
  {
   "cell_type": "code",
   "execution_count": null,
   "id": "f5945c7c",
   "metadata": {},
   "outputs": [],
   "source": [
    "## You can find what appears in one set and does not appear in the other set"
   ]
  },
  {
   "cell_type": "code",
   "execution_count": null,
   "id": "d82ca36c",
   "metadata": {},
   "outputs": [],
   "source": [
    "mySet1"
   ]
  },
  {
   "cell_type": "code",
   "execution_count": null,
   "id": "177e992a",
   "metadata": {},
   "outputs": [],
   "source": [
    "mySet"
   ]
  },
  {
   "cell_type": "code",
   "execution_count": null,
   "id": "5de75be5",
   "metadata": {},
   "outputs": [],
   "source": [
    "mySet.symmetric_difference(mySet1)"
   ]
  },
  {
   "cell_type": "markdown",
   "id": "a8a25d64",
   "metadata": {},
   "source": [
    "### Tuples"
   ]
  },
  {
   "cell_type": "code",
   "execution_count": null,
   "id": "ef82c964",
   "metadata": {},
   "outputs": [],
   "source": [
    "### Tuples are immutable objects in Python"
   ]
  },
  {
   "cell_type": "code",
   "execution_count": null,
   "id": "aade96be",
   "metadata": {},
   "outputs": [],
   "source": [
    "# Tuples cannot be modified\n",
    "aTuple = (1,2,3,4)\n",
    "aTuple"
   ]
  },
  {
   "cell_type": "code",
   "execution_count": null,
   "id": "424d1130",
   "metadata": {},
   "outputs": [],
   "source": [
    "myTuple = ('e','g','k')\n",
    "myTuple"
   ]
  },
  {
   "cell_type": "code",
   "execution_count": null,
   "id": "8e9c8678",
   "metadata": {},
   "outputs": [],
   "source": [
    "len(myTuple)"
   ]
  },
  {
   "cell_type": "code",
   "execution_count": null,
   "id": "4085b06a",
   "metadata": {},
   "outputs": [],
   "source": [
    "def returnsMultiple():\n",
    "    return 1,2,3\n",
    "\n",
    "type(returnsMultiple())"
   ]
  },
  {
   "cell_type": "markdown",
   "id": "e70f10b6",
   "metadata": {},
   "source": [
    "- We can use this syntax in what is known as unpacking"
   ]
  },
  {
   "cell_type": "code",
   "execution_count": null,
   "id": "53d4d879",
   "metadata": {},
   "outputs": [],
   "source": [
    "a, b, c = returnsMultiple()\n",
    "print(a)\n",
    "print(b)\n",
    "print(c)"
   ]
  },
  {
   "cell_type": "markdown",
   "id": "fd3e9149",
   "metadata": {},
   "source": [
    "## Dictionaries"
   ]
  },
  {
   "cell_type": "code",
   "execution_count": null,
   "id": "2e592797",
   "metadata": {},
   "outputs": [],
   "source": [
    "animals = {\n",
    "    'a': 'emu',\n",
    "    'b': 'kudu',\n",
    "    'c': 'walrus',\n",
    "    'd': 'tiger', \n",
    "}\n",
    "animals"
   ]
  },
  {
   "cell_type": "code",
   "execution_count": null,
   "id": "3c6e8374",
   "metadata": {},
   "outputs": [],
   "source": [
    "animals['a']"
   ]
  },
  {
   "cell_type": "code",
   "execution_count": null,
   "id": "d376179f",
   "metadata": {},
   "outputs": [],
   "source": [
    "## add elements into the dictionary"
   ]
  },
  {
   "cell_type": "code",
   "execution_count": null,
   "id": "180fae0a",
   "metadata": {},
   "outputs": [],
   "source": [
    "animals['f'] = 'Lion'\n",
    "animals"
   ]
  },
  {
   "cell_type": "code",
   "execution_count": null,
   "id": "52b9acc4",
   "metadata": {},
   "outputs": [],
   "source": [
    "## Update values in the dictionary\n",
    "animals['f'] = 'Elephant'"
   ]
  },
  {
   "cell_type": "code",
   "execution_count": null,
   "id": "4a56608e",
   "metadata": {},
   "outputs": [],
   "source": [
    "animals"
   ]
  },
  {
   "cell_type": "code",
   "execution_count": null,
   "id": "6469b5de",
   "metadata": {},
   "outputs": [],
   "source": [
    "animals.keys()"
   ]
  },
  {
   "cell_type": "code",
   "execution_count": null,
   "id": "7a58dabf",
   "metadata": {},
   "outputs": [],
   "source": [
    "list(animals.keys())"
   ]
  },
  {
   "cell_type": "code",
   "execution_count": null,
   "id": "e13081c8",
   "metadata": {},
   "outputs": [],
   "source": [
    "animals.values()"
   ]
  },
  {
   "cell_type": "code",
   "execution_count": null,
   "id": "408755af",
   "metadata": {},
   "outputs": [],
   "source": [
    "## You can use .get() method  and a default value to check is a key exists"
   ]
  },
  {
   "cell_type": "code",
   "execution_count": null,
   "id": "10916acb",
   "metadata": {},
   "outputs": [],
   "source": [
    "if animals.get('e',\"NOT FOUND\") == \"NOT FOUND\":\n",
    "    print(\"Not found\")"
   ]
  },
  {
   "cell_type": "code",
   "execution_count": null,
   "id": "36cc7221",
   "metadata": {},
   "outputs": [],
   "source": [
    "animals.keys()"
   ]
  },
  {
   "cell_type": "code",
   "execution_count": null,
   "id": "d9b2a644",
   "metadata": {},
   "outputs": [],
   "source": [
    "animals.get('b','NOT FOUND')"
   ]
  },
  {
   "cell_type": "code",
   "execution_count": null,
   "id": "d0072bd1",
   "metadata": {},
   "outputs": [],
   "source": [
    "len(animals)"
   ]
  },
  {
   "cell_type": "code",
   "execution_count": null,
   "id": "5edf29c4",
   "metadata": {},
   "outputs": [],
   "source": [
    "wild = {\n",
    "    'ocean': ['Ocra','Dolphins','Walrus','Whales','Sharks'],\n",
    "    'lake' : ['Tilapia','Salmon','Nile Pearch'],\n",
    "    'rivers': ['Tuna'],\n",
    "    'land': ['bear','lion'],\n",
    "}\n",
    "wild"
   ]
  },
  {
   "cell_type": "code",
   "execution_count": null,
   "id": "741e0fe9",
   "metadata": {},
   "outputs": [],
   "source": [
    "wild['air'] = ['eagle']"
   ]
  },
  {
   "cell_type": "code",
   "execution_count": null,
   "id": "4e97d58a",
   "metadata": {},
   "outputs": [],
   "source": [
    "wild"
   ]
  },
  {
   "cell_type": "code",
   "execution_count": null,
   "id": "e2ae9a72",
   "metadata": {},
   "outputs": [],
   "source": [
    "wild['air'].append('sea guls')"
   ]
  },
  {
   "cell_type": "code",
   "execution_count": null,
   "id": "e933b82d",
   "metadata": {},
   "outputs": [],
   "source": [
    "wild"
   ]
  },
  {
   "cell_type": "markdown",
   "id": "a7b873b9",
   "metadata": {},
   "source": [
    "#### Default Dict"
   ]
  },
  {
   "cell_type": "code",
   "execution_count": null,
   "id": "09618571",
   "metadata": {},
   "outputs": [],
   "source": [
    "from collections import defaultdict"
   ]
  },
  {
   "cell_type": "code",
   "execution_count": null,
   "id": "35ef49b7",
   "metadata": {},
   "outputs": [],
   "source": [
    "land = defaultdict(list)"
   ]
  },
  {
   "cell_type": "code",
   "execution_count": null,
   "id": "b85cf87e",
   "metadata": {},
   "outputs": [],
   "source": [
    "land"
   ]
  },
  {
   "cell_type": "code",
   "execution_count": null,
   "id": "92da834e",
   "metadata": {},
   "outputs": [],
   "source": [
    "land['park'].append('Tree')"
   ]
  },
  {
   "cell_type": "code",
   "execution_count": null,
   "id": "411d5ab8",
   "metadata": {},
   "outputs": [],
   "source": [
    "land['pond'].append(['duck','goose'])"
   ]
  },
  {
   "cell_type": "code",
   "execution_count": null,
   "id": "857d364b",
   "metadata": {},
   "outputs": [],
   "source": [
    "dict(land)"
   ]
  },
  {
   "cell_type": "code",
   "execution_count": null,
   "id": "36d6c640",
   "metadata": {},
   "outputs": [],
   "source": [
    "land"
   ]
  },
  {
   "cell_type": "markdown",
   "id": "616770bf",
   "metadata": {},
   "source": [
    "### List comprehensions"
   ]
  },
  {
   "cell_type": "code",
   "execution_count": null,
   "id": "a5cc0328",
   "metadata": {},
   "outputs": [],
   "source": [
    "myList = [1,2,3,5,6,7,8,9,10]\n",
    "[item*item*item for item in myList]"
   ]
  },
  {
   "cell_type": "code",
   "execution_count": null,
   "id": "e8e7f27f",
   "metadata": {},
   "outputs": [],
   "source": [
    "### List comprehensions can be used as filters"
   ]
  },
  {
   "cell_type": "code",
   "execution_count": 165,
   "id": "910168fb",
   "metadata": {},
   "outputs": [
    {
     "data": {
      "text/plain": [
       "[0, 10, 20, 30, 40, 50, 60, 70, 80, 90]"
      ]
     },
     "execution_count": 165,
     "metadata": {},
     "output_type": "execute_result"
    }
   ],
   "source": [
    "myList = list(range(100))\n",
    "filteredList = [item for item in myList if item % 10 == 0]\n",
    "filteredList"
   ]
  },
  {
   "cell_type": "code",
   "execution_count": 163,
   "id": "5b13ccfe",
   "metadata": {
    "scrolled": true
   },
   "outputs": [],
   "source": [
    "even_numbers = [item for item in myList if item % 2 == 0]\n",
    "odd_numbers = [item for item in myList if item % 2 != 0]"
   ]
  },
  {
   "cell_type": "code",
   "execution_count": 166,
   "id": "24101397",
   "metadata": {},
   "outputs": [
    {
     "name": "stdout",
     "output_type": "stream",
     "text": [
      "[1, 3, 5, 7, 9, 11, 13, 15, 17, 19, 21, 23, 25, 27, 29, 31, 33, 35, 37, 39, 41, 43, 45, 47, 49, 51, 53, 55, 57, 59, 61, 63, 65, 67, 69, 71, 73, 75, 77, 79, 81, 83, 85, 87, 89, 91, 93, 95, 97, 99]\n"
     ]
    }
   ],
   "source": [
    "print(odd_numbers)"
   ]
  },
  {
   "cell_type": "code",
   "execution_count": 168,
   "id": "ab9bb1b2",
   "metadata": {},
   "outputs": [
    {
     "name": "stdout",
     "output_type": "stream",
     "text": [
      "[0, 2, 4, 6, 8, 10, 12, 14, 16, 18, 20, 22, 24, 26, 28, 30, 32, 34, 36, 38, 40, 42, 44, 46, 48, 50, 52, 54, 56, 58, 60, 62, 64, 66, 68, 70, 72, 74, 76, 78, 80, 82, 84, 86, 88, 90, 92, 94, 96, 98]\n"
     ]
    }
   ],
   "source": [
    "print(even_numbers)"
   ]
  },
  {
   "cell_type": "markdown",
   "id": "1ae8bf1a",
   "metadata": {},
   "source": [
    "#### List comprehensions can be used with functions"
   ]
  },
  {
   "cell_type": "code",
   "execution_count": 171,
   "id": "b0cbcaf9",
   "metadata": {},
   "outputs": [
    {
     "data": {
      "text/plain": [
       "['My name is Billy', ' I live in Nairobi']"
      ]
     },
     "execution_count": 171,
     "metadata": {},
     "output_type": "execute_result"
    }
   ],
   "source": [
    "myString = 'My name is Billy. I live in Nairobi'\n",
    "myString.split('.')"
   ]
  },
  {
   "cell_type": "code",
   "execution_count": 172,
   "id": "12e6fa38",
   "metadata": {},
   "outputs": [
    {
     "data": {
      "text/plain": [
       "['My', 'name', 'is', 'Billy.', 'I', 'live', 'in', 'Nairobi']"
      ]
     },
     "execution_count": 172,
     "metadata": {},
     "output_type": "execute_result"
    }
   ],
   "source": [
    "myString.split()"
   ]
  },
  {
   "cell_type": "code",
   "execution_count": 173,
   "id": "b5d5a9b5",
   "metadata": {},
   "outputs": [
    {
     "data": {
      "text/plain": [
       "['my', 'name', 'is', 'billy', 'i', 'live', 'in', 'nairobi']"
      ]
     },
     "execution_count": 173,
     "metadata": {},
     "output_type": "execute_result"
    }
   ],
   "source": [
    "def cleanWord(word):\n",
    "    return word.replace('.','').lower()\n",
    "\n",
    "[cleanWord(word) for word in myString.split()]"
   ]
  },
  {
   "cell_type": "markdown",
   "id": "d6b72609",
   "metadata": {},
   "source": [
    "- We can also combine this with a conditional statement"
   ]
  },
  {
   "cell_type": "code",
   "execution_count": 181,
   "id": "d766b47a",
   "metadata": {},
   "outputs": [
    {
     "data": {
      "text/plain": [
       "['my', 'name', 'is', 'billy', 'i', 'live', 'in']"
      ]
     },
     "execution_count": 181,
     "metadata": {},
     "output_type": "execute_result"
    }
   ],
   "source": [
    "[cleanWord(word) for word in myString.split() if len(cleanWord(word)) < 6]"
   ]
  },
  {
   "cell_type": "markdown",
   "id": "e980fea8",
   "metadata": {},
   "source": [
    "#### Nested list comprehensions"
   ]
  },
  {
   "cell_type": "code",
   "execution_count": 183,
   "id": "c9412903",
   "metadata": {},
   "outputs": [
    {
     "data": {
      "text/plain": [
       "[['my', 'name', 'is', 'billy'], ['i', 'live', 'in', 'nairobi']]"
      ]
     },
     "execution_count": 183,
     "metadata": {},
     "output_type": "execute_result"
    }
   ],
   "source": [
    "[[cleanWord(word) for word in sentence.split()] for sentence in myString.split('.')]"
   ]
  },
  {
   "cell_type": "code",
   "execution_count": 184,
   "id": "4625f98b",
   "metadata": {},
   "outputs": [
    {
     "data": {
      "text/plain": [
       "['al', 'am', 'an', 'bl', 'bm', 'bn', 'cl', 'cm', 'cn']"
      ]
     },
     "execution_count": 184,
     "metadata": {},
     "output_type": "execute_result"
    }
   ],
   "source": [
    "[x + y for x in 'abc' for y in 'lmn']"
   ]
  },
  {
   "cell_type": "code",
   "execution_count": 185,
   "id": "9e916c3b",
   "metadata": {},
   "outputs": [
    {
     "data": {
      "text/plain": [
       "[0, 2, 4]"
      ]
     },
     "execution_count": 185,
     "metadata": {},
     "output_type": "execute_result"
    }
   ],
   "source": [
    "[x for x in range(5) if x % 2 ==0 ]"
   ]
  },
  {
   "cell_type": "code",
   "execution_count": 186,
   "id": "12067581",
   "metadata": {},
   "outputs": [
    {
     "data": {
      "text/plain": [
       "[100, 120, 765, 101, 121, 766, 102, 122, 767]"
      ]
     },
     "execution_count": 186,
     "metadata": {},
     "output_type": "execute_result"
    }
   ],
   "source": [
    "[x + y for x in [0,1,2] for y in [100,120, 765]]"
   ]
  },
  {
   "cell_type": "markdown",
   "id": "f4586981",
   "metadata": {},
   "source": [
    "#### Dictionary comprehensions"
   ]
  },
  {
   "cell_type": "code",
   "execution_count": 188,
   "id": "1e7c3d5c",
   "metadata": {},
   "outputs": [
    {
     "data": {
      "text/plain": [
       "{'a': 'aadvark', 'b': 'bear', 'c': 'cat', 'd': 'dog'}"
      ]
     },
     "execution_count": 188,
     "metadata": {},
     "output_type": "execute_result"
    }
   ],
   "source": [
    "animalList = [('a','aadvark'),('b', 'bear'),('c','cat'),('d','dog')]\n",
    "animals_ = { item[0]: item[1] for item in animalList }\n",
    "animals_"
   ]
  },
  {
   "cell_type": "code",
   "execution_count": null,
   "id": "5a41c892",
   "metadata": {},
   "outputs": [],
   "source": [
    "## There is a more elegant way of writing this piece of code:"
   ]
  },
  {
   "cell_type": "code",
   "execution_count": 190,
   "id": "17af8955",
   "metadata": {},
   "outputs": [
    {
     "data": {
      "text/plain": [
       "{'a': 'aadvark', 'b': 'bear', 'c': 'cat', 'd': 'dog'}"
      ]
     },
     "execution_count": 190,
     "metadata": {},
     "output_type": "execute_result"
    }
   ],
   "source": [
    "animals_ = {key: value for key, value in animalList}\n",
    "animals_"
   ]
  },
  {
   "cell_type": "code",
   "execution_count": 208,
   "id": "b08aae88",
   "metadata": {},
   "outputs": [
    {
     "data": {
      "text/plain": [
       "{'Barca': ['Messi', 'Suarez', 'Neymar'],\n",
       " 'Real Madrid': ['CR7', 'Bale', 'Vinicius', 'Jude']}"
      ]
     },
     "execution_count": 208,
     "metadata": {},
     "output_type": "execute_result"
    }
   ],
   "source": [
    "players = [\n",
    "            ('Barca','Messi','Suarez','Neymar'),\n",
    "           ('Real Madrid','CR7','Bale','Vinicius','Jude')\n",
    "          ]\n",
    "teams = { team: players[:]  for team, *players  in players }\n",
    "teams"
   ]
  },
  {
   "cell_type": "code",
   "execution_count": 206,
   "id": "1716e4ba",
   "metadata": {},
   "outputs": [
    {
     "data": {
      "text/plain": [
       "{'Barca': ('Messi', 'Suarez', 'Neymar'),\n",
       " 'Real Madrid': ('CR7', 'Bale', 'Vinicius')}"
      ]
     },
     "execution_count": 206,
     "metadata": {},
     "output_type": "execute_result"
    }
   ],
   "source": [
    "teams = { team : tuple(players[:]) for team, *players in players }\n",
    "teams"
   ]
  },
  {
   "cell_type": "code",
   "execution_count": null,
   "id": "7f044126",
   "metadata": {},
   "outputs": [],
   "source": []
  },
  {
   "cell_type": "code",
   "execution_count": 211,
   "id": "3ea74d8f",
   "metadata": {},
   "outputs": [
    {
     "data": {
      "text/plain": [
       "'ssssssssspppppppp'"
      ]
     },
     "execution_count": 211,
     "metadata": {},
     "output_type": "execute_result"
    }
   ],
   "source": [
    "\"s\" * 9 + \"p\"*8"
   ]
  },
  {
   "cell_type": "markdown",
   "id": "c9b102f0",
   "metadata": {},
   "source": [
    "### Challenge"
   ]
  },
  {
   "cell_type": "markdown",
   "id": "f835f73a",
   "metadata": {},
   "source": [
    "Write a function called \"encodeString\" that will encode a string like \"AAAABBBCC\" as a list of tuples\n",
    "i.e [(\"A\",4),(\"B\",3),(\"C\",2)] meaning that the string has 4 A's, 3B's and 2C's"
   ]
  },
  {
   "cell_type": "code",
   "execution_count": null,
   "id": "eadb6a80",
   "metadata": {},
   "outputs": [],
   "source": [
    "def encodeString(stringVal):\n",
    "    encodedList = []\n",
    "    prevChar = stringVal[0]\n",
    "    count = 0\n",
    "    for char in stringVal:\n",
    "        if prevChar != char:\n",
    "            "
   ]
  },
  {
   "cell_type": "code",
   "execution_count": null,
   "id": "cc10a54f",
   "metadata": {},
   "outputs": [],
   "source": []
  },
  {
   "cell_type": "code",
   "execution_count": null,
   "id": "121d143a",
   "metadata": {},
   "outputs": [],
   "source": []
  },
  {
   "cell_type": "code",
   "execution_count": 214,
   "id": "1dbad857",
   "metadata": {},
   "outputs": [],
   "source": [
    "K = \"AAAATTGG\""
   ]
  },
  {
   "cell_type": "code",
   "execution_count": 216,
   "id": "d369f539",
   "metadata": {},
   "outputs": [
    {
     "data": {
      "text/plain": [
       "'A'"
      ]
     },
     "execution_count": 216,
     "metadata": {},
     "output_type": "execute_result"
    }
   ],
   "source": [
    "K[0]"
   ]
  },
  {
   "cell_type": "markdown",
   "id": "b57deb09",
   "metadata": {},
   "source": [
    "## Functions"
   ]
  },
  {
   "cell_type": "code",
   "execution_count": null,
   "id": "a6aa39d0",
   "metadata": {},
   "outputs": [],
   "source": [
    "# Function with one argument and a return value\n",
    "def aFunction(anArg):\n",
    "    return anArg + 1\n",
    "\n",
    "aFunction(5)"
   ]
  },
  {
   "cell_type": "code",
   "execution_count": null,
   "id": "c4d61e84",
   "metadata": {},
   "outputs": [],
   "source": [
    "# Different ways of calling a function with a keyword argument\n",
    "def aFunction(anArg, optionalArg=1):\n",
    "    return anArg + optionalArg\n",
    "\n",
    "print(aFunction(5))\n",
    "print(aFunction(5, 4))\n",
    "print(aFunction(5, optionalArg=4))"
   ]
  },
  {
   "cell_type": "markdown",
   "id": "bed429aa",
   "metadata": {},
   "source": [
    "## Classes"
   ]
  },
  {
   "cell_type": "code",
   "execution_count": null,
   "id": "fbfbb1ac",
   "metadata": {},
   "outputs": [],
   "source": [
    "# A simple class with one attribute and one method\n",
    "class ParentClass:\n",
    "    def __init__(self, val):\n",
    "        self.val = val\n",
    "        \n",
    "    def printVal(self):\n",
    "        print(self.val)\n",
    "        \n",
    "\n",
    "classInstance = ParentClass('Value for the class attribute \"val\"')\n",
    "classInstance.printVal()"
   ]
  },
  {
   "cell_type": "code",
   "execution_count": null,
   "id": "01e3544e",
   "metadata": {},
   "outputs": [],
   "source": [
    "# Extend the parent class to create a child class        \n",
    "class ChildClass(parentClass):\n",
    "    \n",
    "    def printVal(self):\n",
    "        print('Child class! {}'.format(self.val))\n",
    "        \n",
    "childInstance = ChildClass('Value for the class attribute \"val\"')\n",
    "childInstance.printVal()   "
   ]
  },
  {
   "cell_type": "code",
   "execution_count": null,
   "id": "3cc855fa",
   "metadata": {},
   "outputs": [],
   "source": [
    "# Overriding the parent class constructor\n",
    "class AnotherChildClass(parentClass):\n",
    "    def __init__(self):\n",
    "        super().__init__('A default value')\n",
    "        \n",
    "anotherChildInstance = AnotherChildClass()\n",
    "anotherChildInstance.printVal()"
   ]
  },
  {
   "cell_type": "markdown",
   "id": "55741ea8",
   "metadata": {},
   "source": [
    "## File Handling"
   ]
  },
  {
   "cell_type": "code",
   "execution_count": null,
   "id": "21ebdf42",
   "metadata": {},
   "outputs": [],
   "source": [
    "# Open a file for reading\n",
    "with open('09_01_file.txt', 'r') as f:\n",
    "    data = f.readlines()\n",
    "print(data)"
   ]
  },
  {
   "cell_type": "code",
   "execution_count": null,
   "id": "a374618f",
   "metadata": {},
   "outputs": [],
   "source": [
    "with open('test.txt', 'w') as f:\n",
    "    f.write('Writing a new line\\n')"
   ]
  },
  {
   "cell_type": "code",
   "execution_count": null,
   "id": "7d69598c",
   "metadata": {},
   "outputs": [],
   "source": [
    "with open('test.txt', 'a') as f:\n",
    "    f.write('Adding a new line to the last one\\n')"
   ]
  }
 ],
 "metadata": {
  "kernelspec": {
   "display_name": "Python 3 (ipykernel)",
   "language": "python",
   "name": "python3"
  },
  "language_info": {
   "codemirror_mode": {
    "name": "ipython",
    "version": 3
   },
   "file_extension": ".py",
   "mimetype": "text/x-python",
   "name": "python",
   "nbconvert_exporter": "python",
   "pygments_lexer": "ipython3",
   "version": "3.11.5"
  }
 },
 "nbformat": 4,
 "nbformat_minor": 5
}
